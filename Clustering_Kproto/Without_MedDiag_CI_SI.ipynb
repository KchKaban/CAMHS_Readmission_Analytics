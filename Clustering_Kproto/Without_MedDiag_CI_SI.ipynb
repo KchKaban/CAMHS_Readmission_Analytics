{
 "cells": [
  {
   "cell_type": "markdown",
   "id": "6cc9f042-44d2-4470-86ce-da1492c6f495",
   "metadata": {},
   "source": [
    "#### Task: To perfrom clustering in contineous numerical and categorical dataframe and evaluate their Silhouette & Calinski-Harabasz score\n",
    "\n",
    "Dataset Used: `/mnt/work/workbench/dipendrp/new-data/final_episodes.csv`\n",
    "\n",
    "Subtasks:\n",
    "1. First script uses`Full_ICD10_ATC.csv` with `'MiddleChildhood', 'Preschooler','Teenager'` insted of `age` \n",
    "2. Second script uses dataset  `final_episodes.csv` with `age` insted of `age_group`\n",
    "<br>\n",
    "\n",
    "Description of work done:\n",
    "1. `load_data` loads data , does preprocessing, then returns the selected column for clustering to `elbow_kprototypes` & `without_med_diag_cluster_kprototypes`\n",
    "2. `elbow_kprototypes` makes elbow plot with and without medication and diagnosis respectively \n",
    "3. `without_med_diag_cluster_kprototypes` does clustering without medication and diagnosis column and measure Silhouette, Calinski-Harabasz score\n",
    "4. To run the script replace if you are not using `dotenv` replace`os.getenv(\"FILE_Full_Phecode_ATC_PATH\")` with the path of your file. \n"
   ]
  },
  {
   "cell_type": "markdown",
   "id": "cd4120c0-c2da-433b-ae7d-0c692db1fea7",
   "metadata": {
    "tags": []
   },
   "source": [
    "**1. Using `Full_ICD10_ATC.csv` with `'MiddleChildhood', 'Preschooler','Teenager'` insted of `age`**"
   ]
  },
  {
   "cell_type": "code",
   "execution_count": null,
   "id": "1e0c16f4-43af-4e75-9cd5-82d14d1624bd",
   "metadata": {
    "tags": []
   },
   "outputs": [],
   "source": [
    "%run -i /mnt/work/workbench/dipendrp/Paper2/Github/CAMHS_Readmission_Analytics/allpackages.py\n",
    "class Clustering:\n",
    "    def __init__(self, file1):\n",
    "        self.file1 = file1\n",
    "        self.merged_df = None\n",
    "        self.with_diag_medic_selected_column_merged_df = None\n",
    "        self.without_diag_medic_selected_column_merged_df = None\n",
    "    \n",
    "    def load_data(self):\n",
    "        original_df_1 = pd.read_csv(self.file1)\n",
    "        original_df_1 = original_df_1.head(600)\n",
    "        # Rename the column var_no_dates_permonth with the Intensity_per_calendar_month\n",
    "        original_df_1 = original_df_1.rename(columns={'var_no_dates_permonth':'Intensity_per_calendar_month'})\n",
    "        \n",
    "        # Encoding 'tillnextepisode' into labels: 'not-re-admitted' and time intervals *****\n",
    "        le = LabelEncoder()\n",
    "        original_df_1['tillnextepisode'] = le.fit_transform(pd.cut(original_df_1['tillnextepisode'],\n",
    "                                                          bins=[float('-inf'), 0, 180, 365, 730, 1095, float('inf')],\n",
    "                                                          labels=['not-re-admitted',\n",
    "                                                                  're-admitted in 0-180 days',\n",
    "                                                                  're-admitted in 180-365 days',\n",
    "                                                                  're-admitted in 365-730 days',\n",
    "                                                                  're-admitted in 730-1095 days',\n",
    "                                                                  're-admitted in more than 1095 days']))\n",
    "        # Fillna with zero\n",
    "        original_df_1.fillna({'num_diagnoses': 0, 'num_medications': 0, 'Inpatient_daynight_ratio': 0, 'Inpatient_ratio': 0, 'TreatmentPlanning_ratio': 0,\n",
    "                             'Therapy_ratio':0,'Examination_ratio':0, 'Advisory_ratio':0}, inplace=True)\n",
    "\n",
    "        \n",
    "        # Select columns used to clusters\n",
    "        self.without_diag_medic_selected_column_merged_df = original_df_1[['Count_visit', 'num_diagnoses', 'num_medications', 'Length_of_Episode',\n",
    "       'Inpatient_daynight_ratio', 'Intensity_per_calendar_month','Inpatient_ratio',\n",
    "       'TreatmentPlanning_ratio', 'Therapy_ratio', 'Care_intensity',\n",
    "       'Examination_ratio', 'Advisory_ratio', 'MiddleChildhood', 'Preschooler','Teenager','gender_0', 'F', 'M','tillnextepisode']]        \n",
    "        return self.without_diag_medic_selected_column_merged_df\n",
    "        \n",
    "    # Function to plot the elbow curve for k-prototypes\n",
    "    def elbow_kprototypes(self):\n",
    "        k_range = range(1, 11)\n",
    "        costs = []\n",
    "\n",
    "        for k in k_range:\n",
    "            kprototypes = KPrototypes(n_clusters=k, random_state=0)\n",
    "            kprototypes.fit(self.without_diag_medic_selected_column_merged_df, categorical=[12,13,14,15,16,17,18]) \n",
    "            costs.append(kprototypes.cost_)  \n",
    "\n",
    "        # Plot the elbow curve\n",
    "        plt.plot(k_range, costs, marker='o')\n",
    "        plt.xlabel('Number of clusters')\n",
    "        plt.ylabel('Cost')\n",
    "        plt.title('Elbow method for K-Prototypes without Diagnosis and Medication')\n",
    "        plt.savefig(\"elbow_kprototypes.jpg\", dpi=600, bbox_inches='tight')\n",
    "        plt.show()\n",
    "\n",
    "    # Function to cluster the data using k-prototypes\n",
    "    def without_med_diag_cluster_kprototypes(self, k_range):\n",
    "        print(\"******** Without Diagnosis & Medication ******** \\n\")\n",
    "        for k in k_range:\n",
    "            kprototypes = KPrototypes(n_clusters=k, random_state=0)\n",
    "            clusters = kprototypes.fit_predict(self.without_diag_medic_selected_column_merged_df, categorical=[12,13,14,15,16,17,18]) \n",
    "            self.without_diag_medic_selected_column_merged_df[\"cluster\"] = clusters\n",
    "            print(self.without_diag_medic_selected_column_merged_df[\"cluster\"].value_counts())\n",
    "            # Compute the silhouette score for the clusters\n",
    "            silhouette = metrics.silhouette_score(self.without_diag_medic_selected_column_merged_df, clusters, metric=\"euclidean\")\n",
    "            # Compute the Calinski-Harabasz score for the clusters\n",
    "            calinski = metrics.calinski_harabasz_score(self.without_diag_medic_selected_column_merged_df, clusters)\n",
    "            # Print the scores\n",
    "            print(f\"Silhouette score for k={k}: {silhouette}\")\n",
    "            print(f\"Calinski-Harabasz score for k={k}: {calinski}\")\n",
    "\n",
    "            \n",
    "            \n",
    "# Access and load files            \n",
    "clustering_obj = Clustering(\"/mnt/work/workbench/dipendrp/new-data/Full_ICD10_ATC.csv\")\n",
    "without_diag_medic_selected_column_merged_df = clustering_obj.load_data()\n",
    "\n",
    "# Plot elbow with and without medication and diagnosis\n",
    "clustering_obj.elbow_kprototypes()\n",
    "\n",
    "# Call without medication and diagnosis\n",
    "clustering_obj.without_med_diag_cluster_kprototypes(k_range=[2, 3, 4, 5, 6, 7, 8])"
   ]
  }
 ],
 "metadata": {
  "kernelspec": {
   "display_name": "Python [conda env:.conda-P2]",
   "language": "python",
   "name": "conda-env-.conda-P2-py"
  },
  "language_info": {
   "codemirror_mode": {
    "name": "ipython",
    "version": 3
   },
   "file_extension": ".py",
   "mimetype": "text/x-python",
   "name": "python",
   "nbconvert_exporter": "python",
   "pygments_lexer": "ipython3",
   "version": "3.11.6"
  }
 },
 "nbformat": 4,
 "nbformat_minor": 5
}
