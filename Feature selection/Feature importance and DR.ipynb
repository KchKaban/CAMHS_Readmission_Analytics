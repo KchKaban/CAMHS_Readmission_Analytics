{
 "cells": [
  {
   "cell_type": "code",
   "execution_count": 254,
   "metadata": {},
   "outputs": [],
   "source": [
    "# Imports\n",
    "import numpy as np\n",
    "import pandas as pd\n",
    "import scipy\n",
    "import subprocess\n",
    "from sklearn import metrics\n",
    "import csv\n",
    "import sklearn\n",
    "import shap\n",
    "from scipy.cluster.hierarchy import fcluster\n",
    "from scipy.cluster.hierarchy import linkage\n",
    "from sklearn import metrics\n",
    "from sklearn.preprocessing import LabelBinarizer\n",
    "from sklearn.preprocessing import OneHotEncoder\n",
    "from sklearn.preprocessing import StandardScaler\n",
    "from sklearn.cluster import KMeans\n",
    "from kneed import DataGenerator, KneeLocator \n",
    "import seaborn as sns\n",
    "import matplotlib.pyplot as plt\n",
    "from sklearn.metrics import classification_report\n"
   ]
  },
  {
   "cell_type": "code",
   "execution_count": 255,
   "metadata": {},
   "outputs": [],
   "source": [
    "from sklearn.model_selection import train_test_split\n",
    "from sklearn.metrics import accuracy_score, classification_report, confusion_matrix\n",
    "from typing import TypedDict\n",
    "from sklearn.linear_model import LogisticRegression\n",
    "from sklearn.ensemble import RandomForestClassifier\n",
    "from sklearn.ensemble import GradientBoostingClassifier\n",
    "from sklearn.svm import SVC\n",
    "from sklearn.neighbors import KNeighborsClassifier\n",
    "from sklearn.preprocessing import StandardScaler\n",
    "from sklearn.utils.class_weight import compute_sample_weight\n",
    "from sklearn.ensemble import RandomForestRegressor\n",
    "from sklearn.feature_selection import SelectKBest, f_classif\n",
    "from sklearn.inspection import permutation_importance"
   ]
  },
  {
   "cell_type": "markdown",
   "metadata": {},
   "source": [
    "# Check One hot encoded columns importance"
   ]
  },
  {
   "cell_type": "code",
   "execution_count": 256,
   "metadata": {},
   "outputs": [
    {
     "data": {
      "text/plain": [
       "Index(['episode_id', 'num_diagnoses', 'num_medications', 'pasient', 'age',\n",
       "       'remaining_time_countdown', 'var_no_dates_permonth', 'gender',\n",
       "       'episode_order', 'islast', 'closingcode', 'aftercode',\n",
       "       'episode_start_date', 'episode_end_date', 'tillnextepisode',\n",
       "       'Length_of_Episode', 'Cat_LOE', 'TNE_BO_180', 'TNE_NO_180',\n",
       "       'TNE_BO_365', 'TNE_NO_365', 'TNE_BO_730', 'TNE_NO_730', 'TNE_BO_1095',\n",
       "       'TNE_NO_1095', 'Cat_LOE_desc', 'Count_visit', 'Cat_CV', 'Therapy_ratio',\n",
       "       'Examination_ratio', 'Advisory_ratio', 'TreatmentPlanning_ratio',\n",
       "       'Outpatient_ratio', 'Inpatient_ratio', 'Inpatient_day_ratio',\n",
       "       'Inpatient_daynight_ratio', 'Care_intensity', 'age_group',\n",
       "       'closingcode_0', 'closingcode_1', 'closingcode_2', 'closingcode_3',\n",
       "       'closingcode_4', 'closingcode_5', 'closingcode_6', 'closingcode_9',\n",
       "       'aftercode_1', 'aftercode_2', 'aftercode_3', 'aftercode_4',\n",
       "       'aftercode_5', 'gender_0', 'F', 'M', 'MiddleChildhood', 'Preschooler',\n",
       "       'Teenager'],\n",
       "      dtype='object')"
      ]
     },
     "execution_count": 256,
     "metadata": {},
     "output_type": "execute_result"
    }
   ],
   "source": [
    "#Using fullHot_episodes\n",
    "fullHot_episodes = pd.read_csv('/home/kabank/workbench/.conda/analysis/kabank-data/new-data/fullHot_episodes.csv')\n",
    "fullHot_episodes.fillna(0, inplace=True)\n",
    "fullHot_episodes.columns"
   ]
  },
  {
   "cell_type": "code",
   "execution_count": 257,
   "metadata": {},
   "outputs": [
    {
     "data": {
      "text/plain": [
       "array([1, 0, 2])"
      ]
     },
     "execution_count": 257,
     "metadata": {},
     "output_type": "execute_result"
    }
   ],
   "source": [
    "fullHot_episodes['gender'] = fullHot_episodes['gender'].replace({'M': 0, 'F': 1, '0': 2})\n",
    "fullHot_episodes['gender'].unique()"
   ]
  },
  {
   "cell_type": "code",
   "execution_count": 258,
   "metadata": {},
   "outputs": [
    {
     "data": {
      "text/plain": [
       "array([1, 3, 5, 0, 9, 2, 4, 6])"
      ]
     },
     "execution_count": 258,
     "metadata": {},
     "output_type": "execute_result"
    }
   ],
   "source": [
    "fullHot_episodes['closingcode'] = fullHot_episodes['closingcode'].replace({'closingcode_1':1, 'closingcode_3':3, 'closingcode_5':5, 'closingcode_0':0,\n",
    "       'closingcode_9':9, 'closingcode_2':2, 'closingcode_4':4, 'closingcode_6':6})\n",
    "fullHot_episodes['closingcode'].unique()"
   ]
  },
  {
   "cell_type": "code",
   "execution_count": 259,
   "metadata": {},
   "outputs": [
    {
     "data": {
      "text/plain": [
       "array([1, 5, 4, 2, 3])"
      ]
     },
     "execution_count": 259,
     "metadata": {},
     "output_type": "execute_result"
    }
   ],
   "source": [
    "fullHot_episodes['aftercode'] = fullHot_episodes['aftercode'].replace({'aftercode_1':1, 'aftercode_5':5, 'aftercode_3':3,\n",
    "       'aftercode_2':2, 'aftercode_4':4})\n",
    "fullHot_episodes['aftercode'].unique()"
   ]
  },
  {
   "cell_type": "code",
   "execution_count": 260,
   "metadata": {},
   "outputs": [
    {
     "name": "stdout",
     "output_type": "stream",
     "text": [
      "15372\n"
     ]
    },
    {
     "data": {
      "text/plain": [
       "Index(['num_diagnoses', 'num_medications', 'var_no_dates_permonth',\n",
       "       'Length_of_Episode', 'Count_visit', 'Therapy_ratio',\n",
       "       'Examination_ratio', 'Advisory_ratio', 'TreatmentPlanning_ratio',\n",
       "       'Outpatient_ratio', 'Inpatient_daynight_ratio', 'Care_intensity',\n",
       "       'closingcode_0', 'closingcode_1', 'closingcode_2', 'closingcode_3',\n",
       "       'closingcode_4', 'closingcode_5', 'closingcode_6', 'closingcode_9',\n",
       "       'aftercode_1', 'aftercode_2', 'aftercode_3', 'aftercode_4',\n",
       "       'aftercode_5', 'gender_0', 'F', 'M', 'MiddleChildhood', 'Preschooler',\n",
       "       'Teenager'],\n",
       "      dtype='object')"
      ]
     },
     "execution_count": 260,
     "metadata": {},
     "output_type": "execute_result"
    }
   ],
   "source": [
    "episodes_df2 = fullHot_episodes.copy()\n",
    "episodes_df2.drop(columns={'pasient', 'episode_id', 'episode_order', 'islast',\n",
    "       'episode_start_date', 'episode_end_date', 'age_group', 'tillnextepisode', 'TNE_BO_180', 'TNE_NO_180', 'TNE_BO_365', 'TNE_NO_365',\n",
    "       'TNE_BO_730', 'TNE_NO_730', 'TNE_BO_1095', 'TNE_NO_1095', 'Cat_LOE_desc', 'Cat_LOE', 'Cat_CV', 'Inpatient_ratio', 'Inpatient_day_ratio', 'gender','age', 'closingcode', 'aftercode',\n",
    "       'age_group', 'remaining_time_countdown'\n",
    "       }, inplace=True)\n",
    "\n",
    "print(len(episodes_df2)) #19922\n",
    "episodes_df2.columns"
   ]
  },
  {
   "cell_type": "code",
   "execution_count": 261,
   "metadata": {},
   "outputs": [
    {
     "name": "stdout",
     "output_type": "stream",
     "text": [
      "Covariance matrix: \n",
      "[[ 1.00006506e+00  3.73542767e-01  2.34985142e-01  2.86735950e-01\n",
      "   4.38545050e-01  7.25888080e-02 -9.96497292e-02  8.22024802e-02\n",
      "  -8.64173017e-02 -2.94052708e-02  1.70304836e-01 -6.97013160e-02\n",
      "  -2.77900391e-02  9.99256893e-02 -6.28400721e-02 -9.31271851e-02\n",
      "   1.14407958e-01 -3.06881520e-02 -6.68254121e-03 -9.73213624e-02\n",
      "  -9.15305506e-03  9.26536974e-02 -1.39721334e-02 -7.59087818e-02\n",
      "   7.62152619e-03 -6.89571095e-03 -1.07815204e-02  1.13470691e-02\n",
      "   2.40189170e-02 -1.17775785e-01  5.13165459e-02]\n",
      " [ 3.73542767e-01  1.00006506e+00  2.52160787e-01  1.91087017e-01\n",
      "   4.90708507e-01 -1.37950763e-02  2.68549375e-02  6.69058545e-04\n",
      "  -1.57605396e-02 -4.77132098e-03  1.11702308e-01 -2.15223566e-02\n",
      "  -1.27636667e-02  4.38347950e-02 -1.96602307e-02 -5.70590850e-02\n",
      "   6.44816734e-02 -1.26579668e-02 -1.72758421e-02 -4.72779822e-02\n",
      "   1.11214761e-01  4.82818158e-02 -3.06832126e-02 -1.24211206e-01\n",
      "  -4.30454798e-02 -1.42844734e-02 -1.69682818e-02  1.81407233e-02\n",
      "   3.04337823e-02 -7.63191510e-02  1.90765872e-02]\n",
      " [ 2.34985142e-01  2.52160787e-01  1.00006506e+00 -5.40761364e-02\n",
      "   3.76401733e-01  2.31600533e-02 -1.06498811e-02  1.80434687e-02\n",
      "  -4.68123461e-02 -4.93964001e-02  1.52017098e-01 -1.84197948e-01\n",
      "  -3.57269924e-02  7.43544682e-03  1.85369268e-02 -3.39428465e-02\n",
      "   5.43535462e-02  2.70962116e-02 -1.47537265e-02 -5.86578510e-02\n",
      "   5.65071089e-02  6.54788336e-02 -1.67906390e-02 -8.26224142e-02\n",
      "  -4.27128096e-02 -3.90398469e-02  3.95724606e-02 -3.63536241e-02\n",
      "  -2.30303797e-02 -8.96982733e-02  7.84809366e-02]\n",
      " [ 2.86735950e-01  1.91087017e-01 -5.40761364e-02  1.00006506e+00\n",
      "   4.19431691e-01  5.14369872e-02 -4.33132811e-02  3.35003247e-02\n",
      "  -7.08305508e-02  6.57641086e-03  1.01753045e-01 -2.24549756e-01\n",
      "  -3.70269785e-02 -1.17477009e-03 -1.99689138e-02 -2.22329385e-02\n",
      "   1.20406222e-01 -1.16839402e-02 -2.00702697e-02 -2.90823256e-02\n",
      "   1.42244749e-02  6.45233266e-02  3.93897851e-03 -6.85829525e-02\n",
      "  -8.02290906e-03 -3.09406959e-02 -9.08117242e-02  9.33421414e-02\n",
      "   1.32770000e-01 -1.57148850e-02 -1.16682034e-01]\n",
      " [ 4.38545050e-01  4.90708507e-01  3.76401733e-01  4.19431691e-01\n",
      "   1.00006506e+00  7.53844369e-02 -6.69682402e-02  3.55771630e-02\n",
      "  -8.29048188e-02 -9.88796581e-02  2.81551610e-01 -3.30944528e-02\n",
      "  -2.39940342e-02 -9.46771749e-03 -1.72666263e-02 -4.34775186e-02\n",
      "   1.22754291e-01  1.38572297e-02 -1.82994011e-02 -3.13798346e-02\n",
      "   1.30077931e-02  1.08875090e-01 -1.57772726e-02 -1.11050518e-01\n",
      "   3.03694445e-03 -2.53710774e-02 -5.82232799e-03  7.90884475e-03\n",
      "   5.66858902e-02 -5.40177382e-02 -2.00057971e-02]\n",
      " [ 7.25888080e-02 -1.37950763e-02  2.31600533e-02  5.14369872e-02\n",
      "   7.53844369e-02  1.00006506e+00 -6.52180879e-01 -4.30098207e-01\n",
      "  -3.32043964e-01  3.13233039e-02  4.06709582e-02 -1.90952038e-02\n",
      "  -2.29057236e-03  1.39448274e-02  7.02520741e-05 -5.26885846e-02\n",
      "   7.17853512e-02 -1.43237084e-02  3.72682292e-02 -3.69362526e-02\n",
      "  -2.23338823e-01  4.31007876e-02  1.77215655e-03  1.91801883e-01\n",
      "   2.22553597e-02  5.96476878e-02  1.49298443e-01 -1.54180953e-01\n",
      "  -1.11219670e-01  8.80232938e-02  5.05704374e-02]\n",
      " [-9.96497292e-02  2.68549375e-02 -1.06498811e-02 -4.33132811e-02\n",
      "  -6.69682402e-02 -6.52180879e-01  1.00006506e+00 -1.81932027e-01\n",
      "  -8.90445066e-02  1.46509170e-02 -9.17407525e-02 -1.94924953e-02\n",
      "  -1.51834343e-02 -3.26784977e-02  4.37796469e-02  6.06435629e-02\n",
      "  -3.90587508e-02  1.16755939e-02 -5.08880559e-02  2.20506865e-03\n",
      "   1.83643211e-01 -3.87091339e-02  1.12436710e-02 -9.52079731e-02\n",
      "  -9.49457054e-02 -5.88156883e-02 -8.33267354e-02  8.81519369e-02\n",
      "   8.64724233e-02 -1.02409255e-01 -1.79107374e-02]\n",
      " [ 8.22024802e-02  6.69058545e-04  1.80434687e-02  3.35003247e-02\n",
      "   3.55771630e-02 -4.30098207e-01 -1.81932027e-01  1.00006506e+00\n",
      "  -1.66079695e-01 -1.25448185e-01  1.04046841e-01  4.58382623e-02\n",
      "   1.98047829e-02  5.94435866e-02 -5.70820384e-02 -1.72134280e-02\n",
      "  -3.39136515e-02  1.95809056e-03  1.06588475e-02 -2.03475896e-02\n",
      "   4.77554848e-02  1.44574821e-02  2.05763553e-04 -1.28119079e-01\n",
      "   7.50875436e-02 -2.64490398e-02 -7.98458130e-02  8.20085152e-02\n",
      "   5.72984276e-02 -2.99718866e-02 -3.57423143e-02]\n",
      " [-8.64173017e-02 -1.57605396e-02 -4.68123461e-02 -7.08305508e-02\n",
      "  -8.29048188e-02 -3.32043964e-01 -8.90445066e-02 -1.66079695e-01\n",
      "   1.00006506e+00  8.52421999e-02 -7.05506750e-02  6.71407624e-03\n",
      "   3.44952126e-03 -4.95850779e-02  4.93519794e-03  2.83581912e-02\n",
      "  -3.51035101e-02  1.71609990e-03 -4.72071533e-03  9.48040446e-02\n",
      "   7.78709693e-02 -4.21192827e-02 -2.10917063e-02 -5.19927500e-02\n",
      "   1.05666401e-02  1.25216021e-02 -5.11436781e-02  5.01047745e-02\n",
      "   4.40220688e-03  3.26146341e-02 -2.47492674e-02]\n",
      " [-2.94052708e-02 -4.77132098e-03 -4.93964001e-02  6.57641086e-03\n",
      "  -9.88796581e-02  3.13233039e-02  1.46509170e-02 -1.25448185e-01\n",
      "   8.52421999e-02  1.00006506e+00 -6.61835526e-01 -1.36366459e-01\n",
      "  -7.28664681e-02  2.98999932e-02 -6.24771435e-03  6.39804824e-03\n",
      "  -1.60612320e-02 -6.17180654e-03  1.09476215e-02 -1.50191842e-04\n",
      "   1.56765447e-02 -5.98372584e-02  5.92412611e-03  1.02737768e-01\n",
      "  -8.25835756e-02  1.29347204e-02 -5.15368805e-02  5.04639195e-02\n",
      "   9.56168068e-02  4.62308840e-02 -1.20294841e-01]\n",
      " [ 1.70304836e-01  1.11702308e-01  1.52017098e-01  1.01753045e-01\n",
      "   2.81551610e-01  4.06709582e-02 -9.17407525e-02  1.04046841e-01\n",
      "  -7.05506750e-02 -6.61835526e-01  1.00006506e+00  1.25699341e-01\n",
      "   4.16834504e-02 -3.15376063e-02  1.29469168e-02 -3.22974117e-02\n",
      "   7.22175048e-02 -6.79791475e-03 -1.14451521e-02 -2.09464693e-03\n",
      "  -3.39056056e-02  8.82227797e-02 -2.65581957e-02 -1.22458700e-01\n",
      "   1.06925422e-01 -1.32641804e-02  7.90342194e-02 -7.79295046e-02\n",
      "  -1.16886779e-01 -7.58582621e-02  1.59243650e-01]\n",
      " [-6.97013160e-02 -2.15223566e-02 -1.84197948e-01 -2.24549756e-01\n",
      "  -3.30944528e-02 -1.90952038e-02 -1.94924953e-02  4.58382623e-02\n",
      "   6.71407624e-03 -1.36366459e-01  1.25699341e-01  1.00006506e+00\n",
      "   4.68749192e-02  4.78886066e-03 -2.05046203e-02 -2.07039937e-02\n",
      "  -2.89252929e-02  7.51335403e-03  2.33637480e-02  2.15154341e-02\n",
      "  -1.34613913e-02  3.34147197e-02 -1.86572298e-02 -4.21432426e-02\n",
      "   3.89860017e-02  5.22721360e-02  4.29723828e-02 -4.72660078e-02\n",
      "  -8.62523972e-02  6.32515998e-02  4.23761940e-02]\n",
      " [-2.77900391e-02 -1.27636667e-02 -3.57269924e-02 -3.70269785e-02\n",
      "  -2.39940342e-02 -2.29057236e-03 -1.51834343e-02  1.98047829e-02\n",
      "   3.44952126e-03 -7.28664681e-02  4.16834504e-02  4.68749192e-02\n",
      "   1.00006506e+00 -1.89894973e-01 -3.67493364e-02 -2.90046543e-02\n",
      "  -2.89641287e-02 -3.20204740e-02 -6.36199183e-03 -3.22633829e-02\n",
      "  -9.52978431e-02 -5.82970201e-02 -1.51489860e-02 -7.13273612e-02\n",
      "   2.85413014e-01 -5.26039208e-03  2.96660870e-03 -2.53328893e-03\n",
      "  -3.12462674e-02 -1.70409256e-02  4.05289852e-02]\n",
      " [ 9.99256893e-02  4.38347950e-02  7.43544682e-03 -1.17477009e-03\n",
      "  -9.46771749e-03  1.39448274e-02 -3.26784977e-02  5.94435866e-02\n",
      "  -4.95850779e-02  2.98999932e-02 -3.15376063e-02  4.78886066e-03\n",
      "  -1.89894973e-01  1.00006506e+00 -4.27300248e-01 -3.37249518e-01\n",
      "  -3.36778309e-01 -3.72315743e-01 -7.39735994e-02 -3.75140149e-01\n",
      "   1.46828882e-01 -2.01701777e-01 -1.44904124e-01  1.94744348e-01\n",
      "  -1.67861898e-01  1.06133473e-02 -7.26952801e-02  7.18097436e-02\n",
      "   1.42197886e-01  5.42913794e-02 -1.69785225e-01]\n",
      " [-6.28400721e-02 -1.96602307e-02  1.85369268e-02 -1.99689138e-02\n",
      "  -1.72666263e-02  7.02520741e-05  4.37796469e-02 -5.70820384e-02\n",
      "   4.93519794e-03 -6.24771435e-03  1.29469168e-02 -2.05046203e-02\n",
      "  -3.67493364e-02 -4.27300248e-01  1.00006506e+00 -6.52660562e-02\n",
      "  -6.51748658e-02 -7.20522311e-02 -1.43157065e-02 -7.25988231e-02\n",
      "   2.61301689e-02 -7.09814154e-02  1.79652004e-01 -4.38402820e-02\n",
      "   3.72144501e-02 -1.18368949e-02  8.69477346e-02 -8.59591179e-02\n",
      "  -1.47810709e-01 -8.34788312e-02  1.93529068e-01]\n",
      " [-9.31271851e-02 -5.70590850e-02 -3.39428465e-02 -2.22329385e-02\n",
      "  -4.34775186e-02 -5.26885846e-02  6.06435629e-02 -1.72134280e-02\n",
      "   2.83581912e-02  6.39804824e-03 -3.22974117e-02 -2.07039937e-02\n",
      "  -2.90046543e-02 -3.37249518e-01 -6.52660562e-02  1.00006506e+00\n",
      "  -5.14396895e-02 -5.68676951e-02 -1.12987650e-02 -5.72990963e-02\n",
      "   5.45342561e-02 -7.37832245e-02  8.65523533e-02 -2.65785563e-02\n",
      "   1.10286187e-02 -2.00704417e-03 -3.26581384e-02  3.28177572e-02\n",
      "   4.94691678e-02  6.40650312e-02 -8.75352377e-02]\n",
      " [ 1.14407958e-01  6.44816734e-02  5.43535462e-02  1.20406222e-01\n",
      "   1.22754291e-01  7.17853512e-02 -3.90587508e-02 -3.39136515e-02\n",
      "  -3.51035101e-02 -1.60612320e-02  7.22175048e-02 -2.89252929e-02\n",
      "  -2.89641287e-02 -3.36778309e-01 -6.51748658e-02 -5.14396895e-02\n",
      "   1.00006506e+00 -5.67882389e-02 -1.12829783e-02 -5.72190375e-02\n",
      "  -1.20223703e-01  2.45354816e-01  2.47695982e-02 -8.23017766e-02\n",
      "  -1.39726181e-02 -9.32929359e-03  6.63916666e-02 -6.56128456e-02\n",
      "  -1.30616457e-01 -7.70626026e-02  1.73092635e-01]\n",
      " [-3.06881520e-02 -1.26579668e-02  2.70962116e-02 -1.16839402e-02\n",
      "   1.38572297e-02 -1.43237084e-02  1.16755939e-02  1.95809056e-03\n",
      "   1.71609990e-03 -6.17180654e-03 -6.79791475e-03  7.51335403e-03\n",
      "  -3.20204740e-02 -3.72315743e-01 -7.20522311e-02 -5.68676951e-02\n",
      "  -5.67882389e-02  1.00006506e+00 -1.24735778e-02 -6.32568899e-02\n",
      "  -1.19473607e-01  2.61429806e-01  3.34851476e-03 -1.21518506e-01\n",
      "   2.20785251e-02 -3.59809967e-03  5.74261716e-03 -5.44559967e-03\n",
      "  -4.78592566e-03 -6.57588497e-03  8.70676869e-03]\n",
      " [-6.68254121e-03 -1.72758421e-02 -1.47537265e-02 -2.00702697e-02\n",
      "  -1.82994011e-02  3.72682292e-02 -5.08880559e-02  1.06588475e-02\n",
      "  -4.72071533e-03  1.09476215e-02 -1.14451521e-02  2.33637480e-02\n",
      "  -6.36199183e-03 -7.39735994e-02 -1.43157065e-02 -1.12987650e-02\n",
      "  -1.12829783e-02 -1.24735778e-02  1.00006506e+00 -1.25682030e-02\n",
      "  -3.42273620e-02 -2.09175358e-02 -5.90128851e-03  6.87023087e-03\n",
      "   6.30848770e-02 -2.04918609e-03  5.19212032e-03 -5.02263852e-03\n",
      "  -8.35008856e-03  5.34354997e-02 -2.57113373e-02]\n",
      " [-9.73213624e-02 -4.72779822e-02 -5.86578510e-02 -2.90823256e-02\n",
      "  -3.13798346e-02 -3.69362526e-02  2.20506865e-03 -2.03475896e-02\n",
      "   9.48040446e-02 -1.50191842e-04 -2.09464693e-03  2.15154341e-02\n",
      "  -3.22633829e-02 -3.75140149e-01 -7.25988231e-02 -5.72990963e-02\n",
      "  -5.72190375e-02 -6.32568899e-02 -1.25682030e-02  1.00006506e+00\n",
      "  -7.98792827e-02  9.29191103e-02 -1.35115804e-02 -7.50382572e-02\n",
      "   1.02292389e-01  9.62123693e-03  5.61386889e-03 -6.40454367e-03\n",
      "  -1.54134293e-02  3.57053173e-03  1.24454062e-02]\n",
      " [-9.15305506e-03  1.11214761e-01  5.65071089e-02  1.42244749e-02\n",
      "   1.30077931e-02 -2.23338823e-01  1.83643211e-01  4.77554848e-02\n",
      "   7.78709693e-02  1.56765447e-02 -3.39056056e-02 -1.34613913e-02\n",
      "  -9.52978431e-02  1.46828882e-01  2.61301689e-02  5.45342561e-02\n",
      "  -1.20223703e-01 -1.19473607e-01 -3.42273620e-02 -7.98792827e-02\n",
      "   1.00006506e+00 -3.87465711e-01 -9.43074346e-02 -4.66189482e-01\n",
      "  -3.35851702e-01 -1.97490632e-02 -1.09513623e-01  1.11120046e-01\n",
      "   9.50367007e-02 -4.80444354e-03 -8.75818013e-02]\n",
      " [ 9.26536974e-02  4.82818158e-02  6.54788336e-02  6.45233266e-02\n",
      "   1.08875090e-01  4.31007876e-02 -3.87091339e-02  1.44574821e-02\n",
      "  -4.21192827e-02 -5.98372584e-02  8.82227797e-02  3.34147197e-02\n",
      "  -5.82970201e-02 -2.01701777e-01 -7.09814154e-02 -7.37832245e-02\n",
      "   2.45354816e-01  2.61429806e-01 -2.09175358e-02  9.29191103e-02\n",
      "  -3.87465711e-01  1.00006506e+00 -5.77330694e-02 -2.85391601e-01\n",
      "  -2.05601496e-01 -7.98161879e-03  5.27636245e-02 -5.20979913e-02\n",
      "  -7.59538298e-02 -3.21904281e-02  9.27002763e-02]\n",
      " [-1.39721334e-02 -3.06832126e-02 -1.67906390e-02  3.93897851e-03\n",
      "  -1.57772726e-02  1.77215655e-03  1.12436710e-02  2.05763553e-04\n",
      "  -2.10917063e-02  5.92412611e-03 -2.65581957e-02 -1.86572298e-02\n",
      "  -1.51489860e-02 -1.44904124e-01  1.79652004e-01  8.65523533e-02\n",
      "   2.47695982e-02  3.34851476e-03 -5.90128851e-03 -1.35115804e-02\n",
      "  -9.43074346e-02 -5.77330694e-02  1.00006506e+00 -6.94630493e-02\n",
      "  -5.00424917e-02 -4.87946105e-03  1.00168432e-02 -9.61367470e-03\n",
      "  -2.58076220e-02 -2.76223561e-02  4.20116024e-02]\n",
      " [-7.59087818e-02 -1.24211206e-01 -8.26224142e-02 -6.85829525e-02\n",
      "  -1.11050518e-01  1.91801883e-01 -9.52079731e-02 -1.28119079e-01\n",
      "  -5.19927500e-02  1.02737768e-01 -1.22458700e-01 -4.21432426e-02\n",
      "  -7.13273612e-02  1.94744348e-01 -4.38402820e-02 -2.65785563e-02\n",
      "  -8.23017766e-02 -1.21518506e-01  6.87023087e-03 -7.50382572e-02\n",
      "  -4.66189482e-01 -2.85391601e-01 -6.94630493e-02  1.00006506e+00\n",
      "  -2.47374806e-01  1.21757708e-02  4.47189006e-02 -4.57131515e-02\n",
      "   3.85636309e-03  3.86216748e-02 -2.80141944e-02]\n",
      " [ 7.62152619e-03 -4.30454798e-02 -4.27128096e-02 -8.02290906e-03\n",
      "   3.03694445e-03  2.22553597e-02 -9.49457054e-02  7.50875436e-02\n",
      "   1.05666401e-02 -8.25835756e-02  1.06925422e-01  3.89860017e-02\n",
      "   2.85413014e-01 -1.67861898e-01  3.72144501e-02  1.10286187e-02\n",
      "  -1.39726181e-02  2.20785251e-02  6.30848770e-02  1.02292389e-01\n",
      "  -3.35851702e-01 -2.05601496e-01 -5.00424917e-02 -2.47374806e-01\n",
      "   1.00006506e+00  2.23925463e-02  3.32345064e-02 -3.50713214e-02\n",
      "  -4.20555339e-02  3.89276579e-03  3.76433070e-02]\n",
      " [-6.89571095e-03 -1.42844734e-02 -3.90398469e-02 -3.09406959e-02\n",
      "  -2.53710774e-02  5.96476878e-02 -5.88156883e-02 -2.64490398e-02\n",
      "   1.25216021e-02  1.29347204e-02 -1.32641804e-02  5.22721360e-02\n",
      "  -5.26039208e-03  1.06133473e-02 -1.18368949e-02 -2.00704417e-03\n",
      "  -9.32929359e-03 -3.59809967e-03 -2.04918609e-03  9.62123693e-03\n",
      "  -1.97490632e-02 -7.98161879e-03 -4.87946105e-03  1.21757708e-02\n",
      "   2.23925463e-02  1.00006506e+00 -3.90950409e-02 -4.31956696e-02\n",
      "  -2.63916685e-02  1.06604772e-01 -4.20149073e-02]\n",
      " [-1.07815204e-02 -1.69682818e-02  3.95724606e-02 -9.08117242e-02\n",
      "  -5.82232799e-03  1.49298443e-01 -8.33267354e-02 -7.98458130e-02\n",
      "  -5.11436781e-02 -5.15368805e-02  7.90342194e-02  4.29723828e-02\n",
      "   2.96660870e-03 -7.26952801e-02  8.69477346e-02 -3.26581384e-02\n",
      "   6.63916666e-02  5.74261716e-03  5.19212032e-03  5.61386889e-03\n",
      "  -1.09513623e-01  5.27636245e-02  1.00168432e-02  4.47189006e-02\n",
      "   3.32345064e-02 -3.90950409e-02  1.00006506e+00 -9.96679383e-01\n",
      "  -2.09106231e-01 -5.38588707e-02  2.33304035e-01]\n",
      " [ 1.13470691e-02  1.81407233e-02 -3.63536241e-02  9.33421414e-02\n",
      "   7.90884475e-03 -1.54180953e-01  8.81519369e-02  8.20085152e-02\n",
      "   5.01047745e-02  5.04639195e-02 -7.79295046e-02 -4.72660078e-02\n",
      "  -2.53328893e-03  7.18097436e-02 -8.59591179e-02  3.28177572e-02\n",
      "  -6.56128456e-02 -5.44559967e-03 -5.02263852e-03 -6.40454367e-03\n",
      "   1.11120046e-01 -5.20979913e-02 -9.61367470e-03 -4.57131515e-02\n",
      "  -3.50713214e-02 -4.31956696e-02 -9.96679383e-01  1.00006506e+00\n",
      "   2.11242371e-01  4.50784625e-02 -2.29807679e-01]\n",
      " [ 2.40189170e-02  3.04337823e-02 -2.30303797e-02  1.32770000e-01\n",
      "   5.66858902e-02 -1.11219670e-01  8.64724233e-02  5.72984276e-02\n",
      "   4.40220688e-03  9.56168068e-02 -1.16886779e-01 -8.62523972e-02\n",
      "  -3.12462674e-02  1.42197886e-01 -1.47810709e-01  4.94691678e-02\n",
      "  -1.30616457e-01 -4.78592566e-03 -8.35008856e-03 -1.54134293e-02\n",
      "   9.50367007e-02 -7.59538298e-02 -2.58076220e-02  3.85636309e-03\n",
      "  -4.20555339e-02 -2.63916685e-02 -2.09106231e-01  2.11242371e-01\n",
      "   1.00006506e+00 -2.54752932e-01 -7.92943285e-01]\n",
      " [-1.17775785e-01 -7.63191510e-02 -8.96982733e-02 -1.57148850e-02\n",
      "  -5.40177382e-02  8.80232938e-02 -1.02409255e-01 -2.99718866e-02\n",
      "   3.26146341e-02  4.62308840e-02 -7.58582621e-02  6.32515998e-02\n",
      "  -1.70409256e-02  5.42913794e-02 -8.34788312e-02  6.40650312e-02\n",
      "  -7.70626026e-02 -6.57588497e-03  5.34354997e-02  3.57053173e-03\n",
      "  -4.80444354e-03 -3.21904281e-02 -2.76223561e-02  3.86216748e-02\n",
      "   3.89276579e-03  1.06604772e-01 -5.38588707e-02  4.50784625e-02\n",
      "  -2.54752932e-01  1.00006506e+00 -3.87306886e-01]\n",
      " [ 5.13165459e-02  1.90765872e-02  7.84809366e-02 -1.16682034e-01\n",
      "  -2.00057971e-02  5.05704374e-02 -1.79107374e-02 -3.57423143e-02\n",
      "  -2.47492674e-02 -1.20294841e-01  1.59243650e-01  4.23761940e-02\n",
      "   4.05289852e-02 -1.69785225e-01  1.93529068e-01 -8.75352377e-02\n",
      "   1.73092635e-01  8.70676869e-03 -2.57113373e-02  1.24454062e-02\n",
      "  -8.75818013e-02  9.27002763e-02  4.20116024e-02 -2.80141944e-02\n",
      "   3.76433070e-02 -4.20149073e-02  2.33304035e-01 -2.29807679e-01\n",
      "  -7.92943285e-01 -3.87306886e-01  1.00006506e+00]]\n"
     ]
    }
   ],
   "source": [
    "# Do PCA from basis\n",
    "X = episodes_df2\n",
    "y= fullHot_episodes['tillnextepisode']\n",
    "\n",
    "# Standardizing the data in PCA to ensure that all features have the same scale:\n",
    "X = StandardScaler().fit_transform(X)\n",
    "X_mean = np.mean(X, axis=0)\n",
    "\n",
    "# The covariance matrix is a square matrix representing the covariance between each pair of features:\n",
    "#cov_mat = np.cov(X)\n",
    "cov_mat = (X - X_mean).T.dot((X - X_mean)) / (X.shape[0]-1)\n",
    "print('Covariance matrix: \\n%s' %cov_mat)"
   ]
  },
  {
   "cell_type": "code",
   "execution_count": 262,
   "metadata": {},
   "outputs": [
    {
     "name": "stdout",
     "output_type": "stream",
     "text": [
      "Eigenvalues in descending order:\n",
      "2.9017702796863203\n",
      "2.628013950820758\n",
      "2.1384998190297257\n",
      "1.8416420527153639\n",
      "1.7430147594361338\n",
      "1.4567664538719374\n",
      "1.4458052455579475\n",
      "1.3258864155879309\n",
      "1.2708593424323944\n",
      "1.1490638271407765\n",
      "1.102635441795752\n",
      "1.072861988890006\n",
      "1.0552535806906658\n",
      "1.0333032973539915\n",
      "0.9971905326738412\n",
      "0.9788019548221316\n",
      "0.9649341493724003\n",
      "0.9278654742570497\n",
      "0.8833457859744239\n",
      "0.8362965537315775\n",
      "0.7555732672055863\n",
      "0.7090253162753379\n",
      "0.57829121126377\n",
      "0.569910891642069\n",
      "0.3287203310452476\n",
      "0.30292093788289864\n",
      "0.0037639236985635696\n",
      "2.6547777161504524e-15\n",
      "1.5993303537844709e-15\n",
      "1.292328913012037e-15\n",
      "5.7223156675395565e-16\n"
     ]
    },
    {
     "data": {
      "text/plain": [
       "array([  9.35994035,  17.83685322,  24.73479097,  30.67518532,\n",
       "        36.29744781,  40.99638873,  45.65997322,  49.93674794,\n",
       "        54.03602751,  57.74244389,  61.29910102,  64.75972101,\n",
       "        68.16354337,  71.49656298,  74.71309737,  77.87031763,\n",
       "        80.98280594,  83.97572567,  86.82504283,  89.52259815,\n",
       "        91.95977272,  94.24680237,  96.11213653,  97.95043917,\n",
       "        99.01075835,  99.9878591 , 100.        , 100.        ,\n",
       "       100.        , 100.        , 100.        ])"
      ]
     },
     "execution_count": 262,
     "metadata": {},
     "output_type": "execute_result"
    }
   ],
   "source": [
    "eig_vals, eig_vecs = np.linalg.eig(cov_mat)\n",
    "# print('Eigenvectors \\n%s' %eig_vecs)\n",
    "# print('\\nEigenvalues \\n%s' %eig_vals)\n",
    "\n",
    "# Make a list of (eigenvalue, eigenvector) tuples\n",
    "eig_pairs = [(np.abs(eig_vals[i]), eig_vecs[:,i]) for i in range(len(eig_vals))]\n",
    "\n",
    "# Sort the (eigenvalue, eigenvector) tuples from high to low\n",
    "eig_pairs.sort(key=lambda x: x[0], reverse=True)\n",
    "\n",
    "# Visually confirm that the list is correctly sorted by decreasing eigenvalues\n",
    "print('Eigenvalues in descending order:')\n",
    "for i in eig_pairs:\n",
    "   print(i[0])\n",
    "\n",
    "tot = sum(eig_vals)\n",
    "var_exp = [(i / tot)*100 for i in sorted(eig_vals, reverse=True)]\n",
    "cum_var_exp = np.cumsum(var_exp)\n",
    "cum_var_exp\n",
    "# In the array bellow we see that the first feature explains roughly 9.6% of the variance within our data set \n",
    "# to have the 95% of the variance we need to have the first 24 features"
   ]
  },
  {
   "cell_type": "code",
   "execution_count": 263,
   "metadata": {},
   "outputs": [
    {
     "name": "stdout",
     "output_type": "stream",
     "text": [
      "Explained Variance Ratio: [9.35994035e-02 8.47691287e-02 6.89793775e-02 5.94039435e-02\n",
      " 5.62226249e-02 4.69894092e-02 4.66358449e-02 4.27677472e-02\n",
      " 4.09927958e-02 3.70641638e-02 3.55665713e-02 3.46061999e-02\n",
      " 3.40382236e-02 3.33301960e-02 3.21653439e-02 3.15722026e-02\n",
      " 3.11248831e-02 2.99291972e-02 2.84931717e-02 2.69755532e-02\n",
      " 2.43717456e-02 2.28702965e-02 1.86533417e-02 1.83830264e-02\n",
      " 1.06031918e-02 9.77100748e-03 1.21408995e-04 1.84592276e-32\n",
      " 2.43873799e-33 2.00809355e-33 1.93358995e-33]\n"
     ]
    }
   ],
   "source": [
    "#Principal Component Analysis (PCA):\n",
    "#Transform the data into a lower-dimensional space while retaining as much information as possible. \n",
    "# The first few principal components often capture most of the variance.\n",
    "from sklearn.decomposition import PCA\n",
    "from sklearn.preprocessing import StandardScaler \n",
    "\n",
    "# optional but recommended for PCA to do data standardization\n",
    "scaler = StandardScaler() #  to ensure that each feature has zero mean and unit variance.\n",
    "episodes_scaled = scaler.fit_transform(episodes_df2)\n",
    "\n",
    "# Apply PCA to reduce dimensionality while retaining most of the variance\n",
    "# We may need to experiment with different values of n_components to find the right balance between dimensionality reduction and information retention.\n",
    "n_components = 31  # Number of components \n",
    "pca = PCA(n_components=n_components)\n",
    "episodes_pca = pca.fit_transform(episodes_scaled)\n",
    "\n",
    "# episodes_pca now contains the transformed data with reduced dimensionality\n",
    "\n",
    "# Explained variance ratio to see how much variance is retained\n",
    "# Help us to understand how well the reduced-dimensional representation captures the variability in the original data.\n",
    "explained_variance_ratio = pca.explained_variance_ratio_\n",
    "print(f'Explained Variance Ratio: {explained_variance_ratio}')\n",
    "\n",
    "# To use the transformed data for clustering or prediction tasks, we can use episodes_pca\n",
    "#ratio of the total variance in the original data\n",
    "#Understanding the explained variance ratio is important because it helps you determine how many principal components to retain.\n",
    "#  You generally want to retain enough components to capture a high percentage of the total variance, while reducing the dimensionality of the data."
   ]
  },
  {
   "cell_type": "code",
   "execution_count": 264,
   "metadata": {},
   "outputs": [
    {
     "data": {
      "image/png": "[encoded data removed]",
      "text/plain": [
       "<Figure size 720x432 with 1 Axes>"
      ]
     },
     "metadata": {
      "needs_background": "light"
     },
     "output_type": "display_data"
    }
   ],
   "source": [
    "# Calculate cumulative explained variance\n",
    "cumulative_variance = np.cumsum(explained_variance_ratio)\n",
    "                                \n",
    "# Create a scree plot\n",
    "plt.figure(figsize=(10, 6))\n",
    "plt.plot(range(1, len(explained_variance_ratio) + 1), cumulative_variance, marker='o')\n",
    "plt.title('Explained Variance vs. Number of Principal Components')\n",
    "plt.xlabel('Number of Principal Components')\n",
    "plt.ylabel('Cumulative Explained Variance')\n",
    "plt.grid(True)\n",
    "#We want to pick the smallest k so that k-dimensional space gives you %95 variance.\n",
    "# Optionally, draw a horizontal line at a specific threshold (e.g., 0.95 for 95% variance)\n",
    "plt.axhline(y=0.95, color='r', linestyle='--')\n",
    "\n",
    "# Show the plot\n",
    "plt.show()\n"
   ]
  },
  {
   "cell_type": "code",
   "execution_count": 265,
   "metadata": {},
   "outputs": [
    {
     "name": "stdout",
     "output_type": "stream",
     "text": [
      "Explained Variance Ratio: [0.0935994  0.08476913 0.06897938 0.05940394 0.05622262 0.04698941\n",
      " 0.04663584 0.04276775 0.0409928  0.03706416 0.03556657 0.0346062\n",
      " 0.03403822 0.0333302  0.03216534 0.0315722  0.03112488 0.0299292\n",
      " 0.02849317 0.02697555 0.02437175 0.0228703  0.01865334]\n"
     ]
    }
   ],
   "source": [
    "#Principal Component Analysis (PCA):\n",
    "#Transform the data into a lower-dimensional space while retaining as much information as possible. \n",
    "# The first few principal components often capture most of the variance.\n",
    "from sklearn.decomposition import PCA\n",
    "from sklearn.preprocessing import StandardScaler \n",
    "\n",
    "# optional but recommended for PCA to do data standardization\n",
    "scaler = StandardScaler() #  to ensure that each feature has zero mean and unit variance.\n",
    "episodes_scaled = scaler.fit_transform(episodes_df2)\n",
    "\n",
    "# Apply PCA to reduce dimensionality while retaining most of the variance\n",
    "# We may need to experiment with different values of n_components to find the right balance between dimensionality reduction and information retention.\n",
    "n_components = 23  # Number of components to keep\n",
    "pca = PCA(n_components=n_components)\n",
    "episodes_pca = pca.fit_transform(episodes_scaled)\n",
    "\n",
    "# episodes_pca now contains the transformed data with reduced dimensionality\n",
    "\n",
    "# Explained variance ratio to see how much variance is retained\n",
    "# Help us to understand how well the reduced-dimensional representation captures the variability in the original data.\n",
    "explained_variance_ratio = pca.explained_variance_ratio_\n",
    "print(f'Explained Variance Ratio: {explained_variance_ratio}')\n",
    "\n",
    "# To use the transformed data for clustering or prediction tasks, we can use episodes_pca\n",
    "#ratio of the total variance in the original data\n",
    "#Understanding the explained variance ratio is important because it helps you determine how many principal components to retain.\n",
    "#  You generally want to retain enough components to capture a high percentage of the total variance, while reducing the dimensionality of the data."
   ]
  },
  {
   "cell_type": "code",
   "execution_count": 266,
   "metadata": {},
   "outputs": [
    {
     "name": "stdout",
     "output_type": "stream",
     "text": [
      "Top features for first principal component: Index(['Teenager', 'F', 'M', 'MiddleChildhood', 'Inpatient_daynight_ratio',\n",
      "       'closingcode_1', 'Therapy_ratio', 'closingcode_4', 'aftercode_1',\n",
      "       'aftercode_2', 'Outpatient_ratio', 'Examination_ratio', 'Count_visit',\n",
      "       'num_diagnoses', 'var_no_dates_permonth', 'closingcode_2',\n",
      "       'aftercode_5', 'Preschooler', 'TreatmentPlanning_ratio',\n",
      "       'num_medications', 'closingcode_5', 'closingcode_3', 'closingcode_0',\n",
      "       'Care_intensity', 'aftercode_4', 'Advisory_ratio', 'aftercode_3',\n",
      "       'closingcode_9', 'Length_of_Episode', 'closingcode_6', 'gender_0'],\n",
      "      dtype='object')\n"
     ]
    }
   ],
   "source": [
    "# Assuming pca is your PCA object after fitting\n",
    "# the loadings, represent the weights of the original features in each principal component.\n",
    "loadings = pca.components_\n",
    "\n",
    "# Each row of 'loadings' corresponds to a principal component\n",
    "# Each column corresponds to an original feature\n",
    "\n",
    "# To get the most important features for the first principal component:\n",
    "top_features_first_component = loadings[0]\n",
    "\n",
    "# You can sort the features by their absolute values to see the most influential ones\n",
    "sorted_features_indices = abs(top_features_first_component).argsort()[::-1]\n",
    "top_features_names = episodes_df2.columns[sorted_features_indices]\n",
    "\n",
    "print(f'Top features for first principal component: {top_features_names}')\n",
    "# they are sorted based on their importance (loadings) in the first principal component: the most influential features"
   ]
  },
  {
   "cell_type": "markdown",
   "metadata": {},
   "source": [
    "# Check columns importance in final_episodes"
   ]
  },
  {
   "cell_type": "code",
   "execution_count": 267,
   "metadata": {},
   "outputs": [],
   "source": [
    "#load the data\n",
    "final_episodes = pd.read_csv(\"/home/kabank/workbench/.conda/analysis/kabank-data/new-data/final_episodes.csv\")"
   ]
  },
  {
   "cell_type": "code",
   "execution_count": 268,
   "metadata": {},
   "outputs": [
    {
     "name": "stdout",
     "output_type": "stream",
     "text": [
      "17125\n"
     ]
    },
    {
     "data": {
      "text/plain": [
       "Index(['pasient', 'episode_id', 'age', 'remaining_time_countdown',\n",
       "       'var_no_dates_permonth', 'gender', 'episode_order', 'islast',\n",
       "       'closingcode', 'aftercode', 'episode_start_date', 'episode_end_date',\n",
       "       'tillnextepisode', 'Length_of_Episode', 'Cat_LOE', 'TNE_BO_180',\n",
       "       'TNE_NO_180', 'TNE_BO_365', 'TNE_NO_365', 'TNE_BO_730', 'TNE_NO_730',\n",
       "       'TNE_BO_1095', 'TNE_NO_1095', 'Cat_LOE_desc', 'Count_visit', 'Cat_CV',\n",
       "       'Therapy_ratio', 'Examination_ratio', 'Advisory_ratio',\n",
       "       'TreatmentPlanning_ratio', 'Outpatient_ratio', 'Inpatient_ratio',\n",
       "       'Inpatient_day_ratio', 'Inpatient_daynight_ratio', 'Care_intensity',\n",
       "       'age_group', 'num_diagnoses', 'num_medications'],\n",
       "      dtype='object')"
      ]
     },
     "execution_count": 268,
     "metadata": {},
     "output_type": "execute_result"
    }
   ],
   "source": [
    "final_episodes.dropna()\n",
    "print(len(final_episodes))\n",
    "final_episodes.columns"
   ]
  },
  {
   "cell_type": "code",
   "execution_count": 269,
   "metadata": {},
   "outputs": [
    {
     "data": {
      "text/plain": [
       "Index(['age', 'var_no_dates_permonth', 'gender', 'closingcode', 'aftercode',\n",
       "       'Length_of_Episode', 'Count_visit', 'Therapy_ratio',\n",
       "       'Examination_ratio', 'Advisory_ratio', 'TreatmentPlanning_ratio',\n",
       "       'Outpatient_ratio', 'Inpatient_daynight_ratio', 'Care_intensity',\n",
       "       'num_diagnoses', 'num_medications'],\n",
       "      dtype='object')"
      ]
     },
     "execution_count": 269,
     "metadata": {},
     "output_type": "execute_result"
    }
   ],
   "source": [
    "#Using final_episodes and applying PCA for feature reduction\n",
    "episodes_df = final_episodes.copy()\n",
    "episodes_df.fillna(0, inplace=True)\n",
    "\n",
    "episodes_df.drop(columns={'pasient', 'episode_id', 'episode_order', 'islast',\n",
    "       'episode_start_date', 'episode_end_date', 'age_group', 'tillnextepisode', 'TNE_BO_180', 'TNE_NO_180', 'TNE_BO_365', 'TNE_NO_365',\n",
    "       'TNE_BO_730', 'TNE_NO_730', 'TNE_BO_1095', 'TNE_NO_1095', 'Cat_LOE_desc', 'Cat_LOE', 'Cat_CV', 'Inpatient_ratio', 'Inpatient_day_ratio', 'remaining_time_countdown'\n",
    "       }, inplace=True)\n",
    "\n",
    "episodes_df.columns"
   ]
  },
  {
   "cell_type": "code",
   "execution_count": 270,
   "metadata": {},
   "outputs": [
    {
     "name": "stdout",
     "output_type": "stream",
     "text": [
      "Covariance matrix: \n",
      "[[ 1.00005840e+00  8.67918713e-02  1.93300163e-01  6.96086784e-02\n",
      "   2.21704026e-02 -1.00539171e-01 -1.56196897e-03 -6.64421633e-03\n",
      "   5.05116181e-02 -2.10995289e-02 -4.16296749e-02 -1.23711257e-01\n",
      "   1.61995136e-01  7.89296552e-03  8.74004431e-02  4.32672503e-02]\n",
      " [ 8.67918713e-02  1.00005840e+00  1.58580539e-02 -4.41595802e-02\n",
      "  -1.02818025e-01  1.79833335e-02  3.68616082e-01  2.17087847e-02\n",
      "   9.98914258e-03  3.63816392e-03 -5.64443478e-02  2.09360135e-02\n",
      "   8.21573026e-02 -3.58477558e-01  2.52684380e-01  2.44735181e-01]\n",
      " [ 1.93300163e-01  1.58580539e-02  1.00005840e+00  3.33130197e-02\n",
      "   9.12147602e-02 -9.26679819e-02 -7.94985776e-03  1.58760553e-01\n",
      "  -9.03504301e-02 -8.27282273e-02 -5.41521575e-02 -5.02547303e-02\n",
      "   7.52837363e-02  5.22463318e-02 -1.13528518e-02 -2.02489344e-02]\n",
      " [ 6.96086784e-02 -4.41595802e-02  3.33130197e-02  1.00005840e+00\n",
      "   3.33907101e-02  6.75305877e-04  6.18157129e-03 -2.06811296e-02\n",
      "   4.06811739e-03 -3.82298797e-02  8.16454786e-02 -5.71215778e-03\n",
      "   1.61523688e-02  9.10987585e-03 -9.01566344e-02 -4.68849046e-02]\n",
      " [ 2.21704026e-02 -1.02818025e-01  9.12147602e-02  3.33907101e-02\n",
      "   1.00005840e+00 -3.82670583e-02 -5.60267964e-02  1.91125583e-01\n",
      "  -1.72840919e-01 -3.50905698e-02 -4.86117003e-02 -1.20856657e-02\n",
      "   2.85432717e-02  1.03502224e-02 -3.44804935e-02 -1.31933912e-01]\n",
      " [-1.00539171e-01  1.79833335e-02 -9.26679819e-02  6.75305877e-04\n",
      "  -3.82670583e-02  1.00005840e+00  4.25191556e-01  5.40849631e-02\n",
      "  -4.89591053e-02  3.35957831e-02 -6.79936016e-02  2.45640378e-03\n",
      "   1.08587531e-01 -2.21718075e-01  2.81427120e-01  1.84371323e-01]\n",
      " [-1.56196897e-03  3.68616082e-01 -7.94985776e-03  6.18157129e-03\n",
      "  -5.60267964e-02  4.25191556e-01  1.00005840e+00  7.74195750e-02\n",
      "  -7.07540585e-02  3.59585534e-02 -8.21999763e-02 -1.00843357e-01\n",
      "   2.87141254e-01 -3.27143755e-02  4.34757900e-01  4.83048028e-01]\n",
      " [-6.64421633e-03  2.17087847e-02  1.58760553e-01 -2.06811296e-02\n",
      "   1.91125583e-01  5.40849631e-02  7.74195750e-02  1.00005840e+00\n",
      "  -6.49004303e-01 -4.31975613e-01 -3.33182673e-01  2.68540528e-02\n",
      "   4.57608231e-02 -1.77579247e-02  7.05610123e-02 -1.56791709e-02]\n",
      " [ 5.05116181e-02  9.98914258e-03 -9.03504301e-02  4.06811739e-03\n",
      "  -1.72840919e-01 -4.89591053e-02 -7.07540585e-02 -6.49004303e-01\n",
      "   1.00005840e+00 -1.86803366e-01 -8.53376186e-02  1.85885086e-02\n",
      "  -9.97609463e-02 -1.86517033e-02 -9.63019047e-02  2.89063204e-02]\n",
      " [-2.10995289e-02  3.63816392e-03 -8.27282273e-02 -3.82298797e-02\n",
      "  -3.50905698e-02  3.35957831e-02  3.59585534e-02 -4.31975613e-01\n",
      "  -1.86803366e-01  1.00005840e+00 -1.66287945e-01 -1.21874047e-01\n",
      "   1.03605202e-01  4.47367016e-02  8.03368765e-02 -6.31491068e-04]\n",
      " [-4.16296749e-02 -5.64443478e-02 -5.41521575e-02  8.16454786e-02\n",
      "  -4.86117003e-02 -6.79936016e-02 -8.21999763e-02 -3.33182673e-01\n",
      "  -8.53376186e-02 -1.66287945e-01  1.00005840e+00  8.37047443e-02\n",
      "  -6.80834734e-02  3.94256101e-03 -8.68262907e-02 -1.37639474e-02]\n",
      " [-1.23711257e-01  2.09360135e-02 -5.02547303e-02 -5.71215778e-03\n",
      "  -1.20856657e-02  2.45640378e-03 -1.00843357e-01  2.68540528e-02\n",
      "   1.85885086e-02 -1.21874047e-01  8.37047443e-02  1.00005840e+00\n",
      "  -6.61473404e-01 -1.39729364e-01 -2.92637030e-02 -3.22826045e-03]\n",
      " [ 1.61995136e-01  8.21573026e-02  7.52837363e-02  1.61523688e-02\n",
      "   2.85432717e-02  1.08587531e-01  2.87141254e-01  4.57608231e-02\n",
      "  -9.97609463e-02  1.03605202e-01 -6.80834734e-02 -6.61473404e-01\n",
      "   1.00005840e+00  1.25074923e-01  1.65960536e-01  1.10050956e-01]\n",
      " [ 7.89296552e-03 -3.58477558e-01  5.22463318e-02  9.10987585e-03\n",
      "   1.03502224e-02 -2.21718075e-01 -3.27143755e-02 -1.77579247e-02\n",
      "  -1.86517033e-02  4.47367016e-02  3.94256101e-03 -1.39729364e-01\n",
      "   1.25074923e-01  1.00005840e+00 -6.82141937e-02 -2.00835431e-02]\n",
      " [ 8.74004431e-02  2.52684380e-01 -1.13528518e-02 -9.01566344e-02\n",
      "  -3.44804935e-02  2.81427120e-01  4.34757900e-01  7.05610123e-02\n",
      "  -9.63019047e-02  8.03368765e-02 -8.68262907e-02 -2.92637030e-02\n",
      "   1.65960536e-01 -6.82141937e-02  1.00005840e+00  3.70558428e-01]\n",
      " [ 4.32672503e-02  2.44735181e-01 -2.02489344e-02 -4.68849046e-02\n",
      "  -1.31933912e-01  1.84371323e-01  4.83048028e-01 -1.56791709e-02\n",
      "   2.89063204e-02 -6.31491068e-04 -1.37639474e-02 -3.22826045e-03\n",
      "   1.10050956e-01 -2.00835431e-02  3.70558428e-01  1.00005840e+00]]\n"
     ]
    }
   ],
   "source": [
    "# Do PCA from basis\n",
    "X = episodes_df\n",
    "y= final_episodes['tillnextepisode']\n",
    "\n",
    "# Standardizing the data in PCA to ensure that all features have the same scale:\n",
    "X = StandardScaler().fit_transform(X)\n",
    "X_mean = np.mean(X, axis=0)\n",
    "\n",
    "# The covariance matrix is a square matrix representing the covariance between each pair of features:\n",
    "#cov_mat = np.cov(X)\n",
    "cov_mat = (X - X_mean).T.dot((X - X_mean)) / (X.shape[0]-1)\n",
    "print('Covariance matrix: \\n%s' %cov_mat)"
   ]
  },
  {
   "cell_type": "code",
   "execution_count": 271,
   "metadata": {},
   "outputs": [
    {
     "name": "stdout",
     "output_type": "stream",
     "text": [
      "Normalized Eigenvalues: [ 9.35994035e-02  8.47691287e-02  6.89793775e-02  5.94039435e-02\n",
      "  5.62226249e-02  1.21408995e-04  9.77100748e-03  1.06031918e-02\n",
      "  4.69894092e-02  4.66358449e-02  1.86533417e-02  1.83830264e-02\n",
      "  4.27677472e-02  4.09927958e-02  2.28702965e-02  2.43717456e-02\n",
      "  2.69755532e-02  3.70641638e-02  2.84931717e-02  3.55665713e-02\n",
      "  2.99291972e-02  3.46061999e-02  3.40382236e-02  3.33301960e-02\n",
      "  3.21653439e-02  3.15722026e-02  3.11248831e-02  5.15879455e-17\n",
      " -8.56324198e-17 -4.16853175e-17 -1.84578820e-17]\n",
      "Ordered Features: [ 0  1  2  3  4  8  9 12 13 17 19 21 22 23 24 25 26 20 18 16 15 14 10 11\n",
      "  7  6  5 27 30 29 28]\n"
     ]
    }
   ],
   "source": [
    "# print('Eigenvectors \\n%s' %eig_vecs)\n",
    "# print('\\nEigenvalues \\n%s' %eig_vals)\n",
    "\n",
    "\n",
    "# Normalize eigenvalues\n",
    "normalized_eigenvalues = eig_vals / np.sum(eig_vals)\n",
    "\n",
    "# Order features by normalized eigenvalues\n",
    "ordered_features = np.argsort(normalized_eigenvalues)[::-1]\n",
    "\n",
    "# Print normalized eigenvalues and ordered features\n",
    "print(\"Normalized Eigenvalues:\", normalized_eigenvalues)\n",
    "print(\"Ordered Features:\", ordered_features)\n"
   ]
  },
  {
   "cell_type": "code",
   "execution_count": 272,
   "metadata": {},
   "outputs": [
    {
     "name": "stdout",
     "output_type": "stream",
     "text": [
      "Eigenvalues in descending order:\n",
      "2.518604487383266\n",
      "1.9023735579142855\n",
      "1.7763031015586686\n",
      "1.3183847713630343\n",
      "1.1545833975969604\n",
      "1.0846737077731279\n",
      "1.0380947030359227\n",
      "0.9820215866634138\n",
      "0.8842385352570346\n",
      "0.8189506424019253\n",
      "0.7773763676140866\n",
      "0.5833911239874896\n",
      "0.5436932088132199\n",
      "0.31251051624728027\n",
      "0.3023245333380871\n",
      "0.0034101201827749063\n"
     ]
    },
    {
     "data": {
      "text/plain": [
       "array([ 15.74035885,  27.62949929,  38.73074539,  46.97016905,\n",
       "        54.1858939 ,  60.96470871,  67.45242173,  73.58969825,\n",
       "        79.11586638,  84.23400901,  89.09232759,  92.7383092 ,\n",
       "        96.13619333,  98.08927   ,  99.97868799, 100.        ])"
      ]
     },
     "execution_count": 272,
     "metadata": {},
     "output_type": "execute_result"
    }
   ],
   "source": [
    "eig_vals, eig_vecs = np.linalg.eig(cov_mat)\n",
    "# print('Eigenvectors \\n%s' %eig_vecs)\n",
    "# print('\\nEigenvalues \\n%s' %eig_vals)\n",
    "\n",
    "# Make a list of (eigenvalue, eigenvector) tuples\n",
    "eig_pairs = [(np.abs(eig_vals[i]), eig_vecs[:,i]) for i in range(len(eig_vals))]\n",
    "\n",
    "# Sort the (eigenvalue, eigenvector) tuples from high to low\n",
    "eig_pairs.sort(key=lambda x: x[0], reverse=True)\n",
    "\n",
    "# Visually confirm that the list is correctly sorted by decreasing eigenvalues\n",
    "print('Eigenvalues in descending order:')\n",
    "for i in eig_pairs:\n",
    "   print(i[0])\n",
    "\n",
    "tot = sum(eig_vals)\n",
    "var_exp = [(i / tot)*100 for i in sorted(eig_vals, reverse=True)]\n",
    "cum_var_exp = np.cumsum(var_exp)\n",
    "cum_var_exp\n",
    "# In the array bellow we see that the first feature explains roughly 9.6% of the variance within our data set \n",
    "# to have the 95% of the variance we need to have the first 24 features"
   ]
  },
  {
   "cell_type": "code",
   "execution_count": 273,
   "metadata": {},
   "outputs": [
    {
     "name": "stdout",
     "output_type": "stream",
     "text": [
      "Explained Variance Ratio: [0.15740359 0.1188914  0.11101246 0.08239424 0.07215725 0.06778815\n",
      " 0.06487713 0.06137277 0.05526168 0.05118143 0.04858319 0.03645982\n",
      " 0.03397884 0.01953077 0.01889418 0.00021312]\n"
     ]
    }
   ],
   "source": [
    "#Principal Component Analysis (PCA):\n",
    "#Transform the data into a lower-dimensional space while retaining as much information as possible. \n",
    "# The first few principal components often capture most of the variance.\n",
    "from sklearn.decomposition import PCA\n",
    "from sklearn.preprocessing import StandardScaler \n",
    "\n",
    "# optional but recommended for PCA to do data standardization\n",
    "scaler = StandardScaler() #  to ensure that each feature has zero mean and unit variance.\n",
    "episodes_scaled = scaler.fit_transform(episodes_df)\n",
    "\n",
    "# Apply PCA to reduce dimensionality while retaining most of the variance\n",
    "# We may need to experiment with different values of n_components to find the right balance between dimensionality reduction and information retention.\n",
    "n_components = 16  # Number of components \n",
    "pca = PCA(n_components=n_components)\n",
    "episodes_pca = pca.fit_transform(episodes_scaled)\n",
    "\n",
    "# episodes_pca now contains the transformed data with reduced dimensionality\n",
    "\n",
    "# Explained variance ratio to see how much variance is retained\n",
    "# Help us to understand how well the reduced-dimensional representation captures the variability in the original data.\n",
    "explained_variance_ratio = pca.explained_variance_ratio_\n",
    "print(f'Explained Variance Ratio: {explained_variance_ratio}')\n",
    "\n",
    "# To use the transformed data for clustering or prediction tasks, we can use episodes_pca\n",
    "#ratio of the total variance in the original data\n",
    "#Understanding the explained variance ratio is important because it helps you determine how many principal components to retain.\n",
    "#  You generally want to retain enough components to capture a high percentage of the total variance, while reducing the dimensionality of the data."
   ]
  },
  {
   "cell_type": "code",
   "execution_count": 274,
   "metadata": {},
   "outputs": [
    {
     "data": {
      "image/png": "[encoded data removed]",
      "text/plain": [
       "<Figure size 720x432 with 1 Axes>"
      ]
     },
     "metadata": {
      "needs_background": "light"
     },
     "output_type": "display_data"
    }
   ],
   "source": [
    "# Calculate cumulative explained variance\n",
    "cumulative_variance = np.cumsum(explained_variance_ratio)\n",
    "                                \n",
    "# Create a scree plot\n",
    "plt.figure(figsize=(10, 6))\n",
    "plt.plot(range(1, len(explained_variance_ratio) + 1), cumulative_variance, marker='o')\n",
    "plt.title('Explained Variance vs. Number of Principal Components')\n",
    "plt.xlabel('Number of Principal Components')\n",
    "plt.ylabel('Cumulative Explained Variance')\n",
    "plt.grid(True)\n",
    "#We want to pick the smallest k so that k-dimensional space gives you %95 variance.\n",
    "# Optionally, draw a horizontal line at a specific threshold (e.g., 0.95 for 95% variance)\n",
    "plt.axhline(y=0.95, color='r', linestyle='--')\n",
    "\n",
    "# Show the plot\n",
    "plt.show()\n"
   ]
  },
  {
   "cell_type": "code",
   "execution_count": 275,
   "metadata": {},
   "outputs": [
    {
     "name": "stdout",
     "output_type": "stream",
     "text": [
      "Explained Variance Ratio: [0.15740359 0.1188914  0.11101246 0.08239424 0.07215725 0.06778815\n",
      " 0.06487713 0.06137277 0.05526168 0.05118143 0.04858319 0.03645982\n",
      " 0.03397884]\n"
     ]
    }
   ],
   "source": [
    "#Principal Component Analysis (PCA):\n",
    "#Transform the data into a lower-dimensional space while retaining as much information as possible. \n",
    "# The first few principal components often capture most of the variance.\n",
    "from sklearn.decomposition import PCA\n",
    "from sklearn.preprocessing import StandardScaler \n",
    "\n",
    "# optional but recommended for PCA to do data standardization\n",
    "scaler = StandardScaler() #  to ensure that each feature has zero mean and unit variance.\n",
    "episodes_scaled = scaler.fit_transform(episodes_df)\n",
    "\n",
    "# Apply PCA to reduce dimensionality while retaining most of the variance\n",
    "# We may need to experiment with different values of n_components to find the right balance between dimensionality reduction and information retention.\n",
    "n_components = 13  # Number of components to keep\n",
    "pca = PCA(n_components=n_components)\n",
    "episodes_pca = pca.fit_transform(episodes_scaled)\n",
    "\n",
    "# episodes_pca now contains the transformed data with reduced dimensionality\n",
    "\n",
    "# Explained variance ratio to see how much variance is retained\n",
    "# Help us to understand how well the reduced-dimensional representation captures the variability in the original data.\n",
    "explained_variance_ratio = pca.explained_variance_ratio_\n",
    "print(f'Explained Variance Ratio: {explained_variance_ratio}')\n",
    "\n",
    "# To use the transformed data for clustering or prediction tasks, we can use episodes_pca\n",
    "#ratio of the total variance in the original data\n",
    "#Understanding the explained variance ratio is important because it helps you determine how many principal components to retain.\n",
    "#  You generally want to retain enough components to capture a high percentage of the total variance, while reducing the dimensionality of the data."
   ]
  },
  {
   "cell_type": "code",
   "execution_count": 276,
   "metadata": {},
   "outputs": [
    {
     "name": "stdout",
     "output_type": "stream",
     "text": [
      "Top features for first principal component: Index(['Count_visit', 'num_diagnoses', 'num_medications', 'Length_of_Episode',\n",
      "       'var_no_dates_permonth', 'Inpatient_daynight_ratio', 'Outpatient_ratio',\n",
      "       'TreatmentPlanning_ratio', 'Therapy_ratio', 'Examination_ratio',\n",
      "       'Care_intensity', 'age', 'Advisory_ratio', 'aftercode', 'closingcode',\n",
      "       'gender'],\n",
      "      dtype='object')\n"
     ]
    }
   ],
   "source": [
    "# Assuming pca is your PCA object after fitting\n",
    "# the loadings, represent the weights of the original features in each principal component.\n",
    "loadings = pca.components_\n",
    "\n",
    "# Each row of 'loadings' corresponds to a principal component\n",
    "# Each column corresponds to an original feature\n",
    "\n",
    "# To get the most important features for the first principal component:\n",
    "top_features_first_component = loadings[0]\n",
    "\n",
    "# You can sort the features by their absolute values to see the most influential ones\n",
    "sorted_features_indices = abs(top_features_first_component).argsort()[::-1]\n",
    "top_features_names = episodes_df.columns[sorted_features_indices]\n",
    "\n",
    "print(f'Top features for first principal component: {top_features_names}')\n",
    "# they are sorted based on their importance (loadings) in the first principal component: the most influential features"
   ]
  },
  {
   "cell_type": "markdown",
   "metadata": {},
   "source": [
    "Include these: 'Count_visit', 'num_diagnoses', 'num_medications', 'Length_of_Episode', 'var_no_dates_permonth','Inpatient_daynight_ratio', 'Inpatient_daynight_ratio', \n",
    "'TreatmentPlanning_ratio', 'Therapy_ratio','Examination_ratio','Care_intensity','age', 'Advisory_ratio'\n",
    "\n",
    "and not include: 'aftercode', 'closingcode','gender'"
   ]
  },
  {
   "cell_type": "markdown",
   "metadata": {},
   "source": [
    "# Correlation Analysis"
   ]
  },
  {
   "cell_type": "markdown",
   "metadata": {},
   "source": [
    "# Tree-Based Models Feature Importance:\n",
    "Train a tree-based model (e.g., Random Forest, Gradient Boosting) and use the built-in feature importance attribute."
   ]
  },
  {
   "cell_type": "code",
   "execution_count": 277,
   "metadata": {},
   "outputs": [
    {
     "data": {
      "text/plain": [
       "age                         0.204088\n",
       "Length_of_Episode           0.117951\n",
       "Examination_ratio           0.084606\n",
       "Therapy_ratio               0.083321\n",
       "TreatmentPlanning_ratio     0.082953\n",
       "Count_visit                 0.082223\n",
       "var_no_dates_permonth       0.080348\n",
       "Care_intensity              0.075627\n",
       "Advisory_ratio              0.072843\n",
       "aftercode                   0.025542\n",
       "closingcode                 0.022245\n",
       "num_diagnoses               0.020080\n",
       "Outpatient_ratio            0.019631\n",
       "gender                      0.016053\n",
       "Inpatient_daynight_ratio    0.009212\n",
       "num_medications             0.003276\n",
       "dtype: float64"
      ]
     },
     "execution_count": 277,
     "metadata": {},
     "output_type": "execute_result"
    }
   ],
   "source": [
    "X = episodes_df\n",
    "y= final_episodes['tillnextepisode']\n",
    "\n",
    "# Remove rows with NaN in the target variable\n",
    "X = X[~y.isna()]\n",
    "y = y.dropna()\n",
    "\n",
    "model = RandomForestRegressor()\n",
    "model.fit(X, y)\n",
    "\n",
    "feature_importance = pd.Series(model.feature_importances_, index=X.columns).sort_values(ascending=False)\n",
    "feature_importance\n"
   ]
  },
  {
   "cell_type": "markdown",
   "metadata": {},
   "source": [
    "# SelectKBest and Feature Importance:\n",
    "Use statistical tests (e.g., ANOVA, chi-squared) to select the top k features."
   ]
  },
  {
   "cell_type": "code",
   "execution_count": 278,
   "metadata": {},
   "outputs": [
    {
     "data": {
      "text/plain": [
       "age                         2.018614\n",
       "Care_intensity              1.790413\n",
       "Advisory_ratio              1.492355\n",
       "Outpatient_ratio            1.421553\n",
       "Inpatient_daynight_ratio    1.321589\n",
       "Therapy_ratio               1.248679\n",
       "closingcode                 1.093547\n",
       "var_no_dates_permonth       1.088540\n",
       "gender                      1.085581\n",
       "TreatmentPlanning_ratio     1.085098\n",
       "Examination_ratio           1.040412\n",
       "aftercode                   1.007891\n",
       "Length_of_Episode           0.992132\n",
       "num_diagnoses               0.774966\n",
       "Count_visit                 0.761088\n",
       "num_medications             0.631575\n",
       "dtype: float64"
      ]
     },
     "execution_count": 278,
     "metadata": {},
     "output_type": "execute_result"
    }
   ],
   "source": [
    "selector = SelectKBest(f_classif, k='all')\n",
    "# X_new, only includes the ‘k’ best features.\n",
    "X_new = selector.fit_transform(X, y)\n",
    "feature_scores = pd.Series(selector.scores_, index=X.columns).sort_values(ascending=False)\n",
    "feature_scores\n"
   ]
  },
  {
   "cell_type": "markdown",
   "metadata": {},
   "source": [
    "# Permutation Feature Importance:\n",
    "Randomly shuffle values of a single feature and measure the impact on the model's performance."
   ]
  },
  {
   "cell_type": "code",
   "execution_count": 279,
   "metadata": {},
   "outputs": [
    {
     "data": {
      "text/plain": [
       "age                         0.916531\n",
       "Length_of_Episode           0.357176\n",
       "TreatmentPlanning_ratio     0.202183\n",
       "Count_visit                 0.182355\n",
       "var_no_dates_permonth       0.144109\n",
       "Examination_ratio           0.139680\n",
       "Therapy_ratio               0.136094\n",
       "Care_intensity              0.121459\n",
       "Advisory_ratio              0.114223\n",
       "Outpatient_ratio            0.049142\n",
       "gender                      0.048586\n",
       "aftercode                   0.041533\n",
       "closingcode                 0.033389\n",
       "num_diagnoses               0.029798\n",
       "Inpatient_daynight_ratio    0.017260\n",
       "num_medications             0.004302\n",
       "dtype: float64"
      ]
     },
     "execution_count": 279,
     "metadata": {},
     "output_type": "execute_result"
    }
   ],
   "source": [
    "result = permutation_importance(model, X, y, n_repeats=10, random_state=0)\n",
    "perm_importance = pd.Series(result.importances_mean, index=X.columns).sort_values(ascending=False)\n",
    "perm_importance\n"
   ]
  },
  {
   "cell_type": "markdown",
   "metadata": {},
   "source": [
    "# Shapley values for feature selection\n",
    "contribution of each feature in a model’s prediction.\n",
    "it helps interpret which features have a high influence on the prediction"
   ]
  },
  {
   "cell_type": "code",
   "execution_count": 280,
   "metadata": {},
   "outputs": [
    {
     "name": "stdout",
     "output_type": "stream",
     "text": [
      "Model coefficients:\\n\n",
      "age = -80.54065\n",
      "var_no_dates_permonth = 7.40764\n",
      "gender = 44.90279\n",
      "closingcode = 7.2006\n",
      "aftercode = -6.64187\n",
      "Length_of_Episode = -0.23944\n",
      "Count_visit = 0.01824\n",
      "Therapy_ratio = -9389.58201\n",
      "Examination_ratio = -9324.62\n",
      "Advisory_ratio = -9308.61585\n",
      "TreatmentPlanning_ratio = -9660.74205\n",
      "Outpatient_ratio = -157.35836\n",
      "Inpatient_daynight_ratio = -139.48581\n",
      "Care_intensity = -31.01801\n",
      "num_diagnoses = -7.89456\n",
      "num_medications = -68.49858\n"
     ]
    }
   ],
   "source": [
    "X100 = shap.utils.sample(X, 100) # 100 instances for use as the background distribution\n",
    "# a simple linear model\n",
    "model = sklearn.linear_model.LinearRegression()\n",
    "model.fit(X, y)\n",
    "\n",
    "# print model coefficients - It then prints the coefficients learned for each feature, which tell us how much the model output changes when we change each of the input features\n",
    "print(\"Model coefficients:\\\\n\")\n",
    "for i in range(X.shape[1]):\n",
    "    print(X.columns[i], \"=\", model.coef_[i].round(5))\n"
   ]
  },
  {
   "cell_type": "code",
   "execution_count": 281,
   "metadata": {},
   "outputs": [
    {
     "data": {
      "image/png": "[encoded data removed]",
      "text/plain": [
       "<Figure size 576x468 with 3 Axes>"
      ]
     },
     "metadata": {},
     "output_type": "display_data"
    },
    {
     "data": {
      "text/plain": [
       "<Figure size 432x288 with 0 Axes>"
      ]
     },
     "metadata": {},
     "output_type": "display_data"
    }
   ],
   "source": [
    "# explain all the predictions in the test set\n",
    "explainer = shap.Explainer(model, X100)\n",
    "shap_values = explainer(X)\n",
    "\n",
    "# visualize the first prediction's explanation\n",
    "shap.plots.waterfall(shap_values[0])\n",
    "# get the current figure\n",
    "fig = plt.gcf()\n",
    "\n",
    "# change the color of all text elements to white\n",
    "for text in fig.findobj(plt.Text):\n",
    "    text.set_color('white')\n",
    "\n",
    "# show the plot\n",
    "plt.show()\n"
   ]
  },
  {
   "cell_type": "markdown",
   "metadata": {},
   "source": [
    "The interpretation of feature importance is not always straightforward, and it often requires a combination of statistical analysis, domain expertise, and practical experimentation.\n",
    "Based on the approcahes we considered: \n",
    "\n",
    "Shapley Values:\n",
    "Positive values indicate a positive impact on the target variable, and negative values indicate a negative impact.\n",
    "In your case, 'gender' has the highest positive impact, while 'Therapy_ratio' and 'Examination_ratio' have the highest negative impact.\n",
    "\n",
    "Permutation Feature Importance:\n",
    "Features with higher values are considered more important.\n",
    "'age,' 'Length_of_Episode,' and 'TreatmentPlanning_ratio' are considered more important according to permutation importance.\n",
    "\n",
    "SelectKBest:\n",
    "Features with higher scores are considered more important.\n",
    "'age,' 'Care_intensity,' and 'Advisory_ratio' have higher scores according to SelectKBest.\n",
    "\n",
    "RandomForestRegressor:\n",
    "Features with higher values are considered more important.\n",
    "'age,' 'Length_of_Episode,' and 'var_no_dates_permonth' are considered more important according to the RandomForestRegressor.\n",
    "\n",
    "PCA:\n",
    "We can use the proportion of explained variance as a measure of importance. Higher proportions indicate more important features.\n",
    "Based on the eigenvalues, it appears that the first few components contribute significantly to the variance: {'Count_visit', 'num_diagnoses', 'num_medications', 'Length_of_Episode',\n",
    "'var_no_dates_permonth', 'Inpatient_daynight_ratio', 'Outpatient_ratio'}. It also gives us this insight that 13 variables {'Count_visit', 'num_diagnoses', 'num_medications', 'Length_of_Episode', 'var_no_dates_permonth','Inpatient_daynight_ratio', 'Inpatient_daynight_ratio', \n",
    "'TreatmentPlanning_ratio', 'Therapy_ratio','Examination_ratio','Care_intensity','age', 'Advisory_ratio'} will capture a high percentage (95%) of the total variance of data without considering these: {'aftercode', 'closingcode','gender'}\n"
   ]
  },
  {
   "cell_type": "markdown",
   "metadata": {},
   "source": []
  }
 ],
 "metadata": {
  "kernelspec": {
   "display_name": "My Kernel",
   "language": "python",
   "name": "mykernel"
  },
  "language_info": {
   "codemirror_mode": {
    "name": "ipython",
    "version": 3
   },
   "file_extension": ".py",
   "mimetype": "text/x-python",
   "name": "python",
   "nbconvert_exporter": "python",
   "pygments_lexer": "ipython3",
   "version": "3.8.8"
  },
  "orig_nbformat": 4
 },
 "nbformat": 4,
 "nbformat_minor": 2
}
