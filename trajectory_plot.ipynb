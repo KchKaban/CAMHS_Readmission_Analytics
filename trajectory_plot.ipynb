{
 "cells": [
  {
   "cell_type": "code",
   "execution_count": null,
   "id": "1cef12ca-0639-4a07-87e4-68e7fe8c4f98",
   "metadata": {
    "tags": []
   },
   "outputs": [],
   "source": [
    "from trajectory_no_cluster import *\n",
    "original_df = load_data()\n",
    "original_df = original_df.head(20)\n",
    "unique_patients = original_df['pasient'].unique()\n",
    "cmap = plt.get_cmap('tab20')\n",
    "fig, axes = plt.subplots(1, 2, figsize=(30, 14))\n",
    "patient_timeline_plot_yearly(original_df, axes[0], cmap, unique_patients)\n",
    "patient_timeline_plot_relative(original_df, axes[1], cmap, unique_patients)\n",
    "plt.tight_layout()\n",
    "plt.show()"
   ]
  },
  {
   "cell_type": "code",
   "execution_count": null,
   "id": "13866776-0c8b-47b9-ad93-4e369fdba199",
   "metadata": {
    "tags": []
   },
   "outputs": [],
   "source": [
    "from trajectory_with_cluster import *\n",
    "original_df = load_data()\n",
    "original_df_1 = original_df['original_df1']\n",
    "original_df_1 = original_df_1.head(20)\n",
    "\n",
    "original_df_2 = original_df['original_df2']\n",
    "original_df_2 = original_df_2.head(20)\n",
    "\n",
    "original_df_3 = original_df['original_df3']\n",
    "original_df_3 = original_df_3.head(20)\n",
    "\n",
    "original_df_4 = original_df['original_df4']\n",
    "original_df_4 = original_df_4.head(20)\n",
    "\n",
    "original_df_5 = original_df['original_df5']\n",
    "original_df_5 = original_df_5.head(20)\n",
    "\n",
    "original_df_6 = original_df['original_df6']\n",
    "original_df_6 = original_df_6.head(20)\n",
    "\n",
    "unique_patients = original_df_1['pasient'].unique()\n",
    "cmap = plt.get_cmap('tab20')\n",
    "fig, axes = plt.subplots(1, 2, figsize=(30, 14))\n",
    "patient_timeline_plot_yearly(original_df_1, axes[0], cmap, unique_patients)\n",
    "patient_timeline_plot_relative(original_df_1, axes[1], cmap, unique_patients)\n",
    "\n",
    "unique_patients = original_df_2['pasient'].unique()\n",
    "cmap = plt.get_cmap('tab20')\n",
    "fig, axes = plt.subplots(1, 2, figsize=(30, 14))\n",
    "patient_timeline_plot_yearly(original_df_2, axes[0], cmap, unique_patients)\n",
    "patient_timeline_plot_relative(original_df_2, axes[1], cmap, unique_patients)\n",
    "\n",
    "unique_patients = original_df_3['pasient'].unique()\n",
    "cmap = plt.get_cmap('tab20')\n",
    "fig, axes = plt.subplots(1, 2, figsize=(30, 14))\n",
    "patient_timeline_plot_yearly(original_df_3, axes[0], cmap, unique_patients)\n",
    "patient_timeline_plot_relative(original_df_3, axes[1], cmap, unique_patients)\n",
    "\n",
    "unique_patients = original_df_4['pasient'].unique()\n",
    "cmap = plt.get_cmap('tab20')\n",
    "fig, axes = plt.subplots(1, 2, figsize=(30, 14))\n",
    "patient_timeline_plot_yearly(original_df_4, axes[0], cmap, unique_patients)\n",
    "patient_timeline_plot_relative(original_df_4, axes[1], cmap, unique_patients)\n",
    "\n",
    "unique_patients = original_df_5['pasient'].unique()\n",
    "cmap = plt.get_cmap('tab20')\n",
    "fig, axes = plt.subplots(1, 2, figsize=(30, 14))\n",
    "patient_timeline_plot_yearly(original_df_5, axes[0], cmap, unique_patients)\n",
    "patient_timeline_plot_relative(original_df_5, axes[1], cmap, unique_patients)\n",
    "\n",
    "\n",
    "unique_patients = original_df_6['pasient'].unique()\n",
    "cmap = plt.get_cmap('tab20')\n",
    "fig, axes = plt.subplots(1, 2, figsize=(30, 14))\n",
    "patient_timeline_plot_yearly(original_df_6, axes[0], cmap, unique_patients)\n",
    "patient_timeline_plot_relative(original_df_6, axes[1], cmap, unique_patients)\n",
    "\n",
    "plt.tight_layout()\n",
    "plt.show()"
   ]
  }
 ],
 "metadata": {
  "kernelspec": {
   "display_name": "Python [conda env:.conda-P2]",
   "language": "python",
   "name": "conda-env-.conda-P2-py"
  },
  "language_info": {
   "codemirror_mode": {
    "name": "ipython",
    "version": 3
   },
   "file_extension": ".py",
   "mimetype": "text/x-python",
   "name": "python",
   "nbconvert_exporter": "python",
   "pygments_lexer": "ipython3",
   "version": "3.11.6"
  }
 },
 "nbformat": 4,
 "nbformat_minor": 5
}
