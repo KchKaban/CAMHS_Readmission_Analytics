{
 "cells": [
  {
   "cell_type": "markdown",
   "metadata": {},
   "source": [
    "This file contains information about following datasets: \n",
    "* diagnoses_phecode_list_df \n",
    "* diagnoses_ICD10_df \n",
    "* prescriptions_df \n",
    "* prescriptions_ATC4_list_df \n",
    "* episodes : before merging the episodes\n",
    "* full_episodes : after merging the episodes\n",
    "* final_episodes : removing some outliers, and adding all the calculated features not the ones related to diagnoses and medications \n",
    "episodes\n",
    "* fullHot_episodes : All the calculated features PLUS the ones related to diagnoses and medications and some more\n",
    "* ######################\n",
    "* Full_Phecode_ATC4 : merging of fullHot_episodes and actual diagnoses(Phecodes) and medications(ATC4) \n",
    "* Full_Phecode_ATC : merging of fullHot_episodes and actual diagnoses(Phecodes) and medications(ATC) \n",
    "* Full_ICD10_ATC : merging of fullHot_episodes and actual diagnoses(ICD10) and medications(ATC) "
   ]
  },
  {
   "cell_type": "code",
   "execution_count": 109,
   "metadata": {},
   "outputs": [],
   "source": [
    "import pandas as pd\n",
    "import numpy as np"
   ]
  },
  {
   "cell_type": "code",
   "execution_count": 110,
   "metadata": {},
   "outputs": [
    {
     "name": "stdout",
     "output_type": "stream",
     "text": [
      "   episode_id                diagnoses\n",
      "0        10.0  ['3131', '313', '3009']\n",
      "1     10001.0          ['2972', '969']\n",
      "2     10002.0                 ['3131']\n",
      "16390\n"
     ]
    }
   ],
   "source": [
    "diagnoses_phecode_list_df = pd.read_csv(\"/home/kabank/workbench/.conda/analysis/kabank-data/diagnoses_listed.csv\")\n",
    "print(diagnoses_phecode_list_df.head(3))\n",
    "print(len(diagnoses_phecode_list_df)) #16,390 episodes"
   ]
  },
  {
   "cell_type": "code",
   "execution_count": 111,
   "metadata": {},
   "outputs": [
    {
     "name": "stdout",
     "output_type": "stream",
     "text": [
      "42803\n",
      "  episode_id     diagnosis_ICD10\n",
      "0       10.0  [F431, F900, F942]\n",
      "1    10001.0         [T4n, X6n0]\n",
      "2    10002.0              [F900]\n"
     ]
    }
   ],
   "source": [
    "diagnoses_ICD10_df = pd.read_csv( \"/home/kabank/workbench/.conda/analysis/Resources/Diagnosis.CSV\", decimal=',')\n",
    "# Remove duplicates from diagnoses_ICD10_df\n",
    "print(len(diagnoses_ICD10_df)) #47750 episodes\n",
    "\n",
    "diagnoses_ICD10_list_df = diagnoses_ICD10_df.groupby('episode_id').agg({\n",
    "    'diagnosis': lambda x: list(set(x))\n",
    "})\n",
    "diagnoses_ICD10_list_df.rename(columns={'diagnosis': 'diagnosis_ICD10'}, inplace=True)\n",
    "diagnoses_ICD10_list_df = diagnoses_ICD10_list_df.reset_index()\n",
    "#diagnoses_ICD10_list_df.info() # 17949 episodes\n",
    "print(diagnoses_ICD10_list_df.head(3))"
   ]
  },
  {
   "cell_type": "code",
   "execution_count": 112,
   "metadata": {},
   "outputs": [
    {
     "name": "stdout",
     "output_type": "stream",
     "text": [
      "44685\n",
      "    episode_id                                   atc_code\n",
      "0          9.0                         [N06AB03, N06AB06]\n",
      "1         27.0       [N05CH01, N06BA04, R06AD01, N06AB06]\n",
      "2         28.0                         [N06AB03, N06AB06]\n",
      "3         34.0  [nan, N06BA04, N06BA09, H01BA02, D06AX01]\n",
      "4         38.0                         [N05BA04, N06AB06]\n",
      "5         41.0                                  [N06BA04]\n",
      "6         44.0                       [A06B A04, N06B A04]\n",
      "7         47.0                                  [N06AB06]\n",
      "8         50.0                         [N05AX08, N06AB06]\n",
      "9         51.0                                  [N06BA04]\n",
      "10        55.0              [A06B A04, N06B A04, N06BA04]\n",
      "11        56.0                                  [R06AD01]\n",
      "12        71.0         [nan, A06B A04, N06B A04, N06BA04]\n",
      "13        76.0                                  [N06AB03]\n",
      "14        85.0                                  [N06BA04]\n",
      "15        96.0                                  [N05CH01]\n",
      "16       104.0                    [nan, N06BA09, N06BA04]\n",
      "17       106.0                                 [N06B A12]\n",
      "18       109.0                    [nan, N05CH01, N06BA04]\n",
      "19       112.0                                  [N06BA04]\n"
     ]
    }
   ],
   "source": [
    "# Prescriptions\n",
    "#Sql query for extracting prescriptions had 56,167 rows\n",
    "prescriptions_df = pd.read_csv( \"/home/kabank/workbench/.conda/analysis/kabank-data/prescriptionsEachSak.csv\")\n",
    "prescriptions_df.dropna(subset=['episode_id', ], inplace=True)\n",
    "print(len(prescriptions_df)) #44685 episodes\n",
    "\n",
    "prescriptions_ATC_list_df = prescriptions_df.groupby('episode_id').agg({\n",
    "    'atc_code': lambda x: list(set(x))\n",
    "})\n",
    "prescriptions_ATC_list_df = prescriptions_ATC_list_df.reset_index()\n",
    "#print(len(prescriptions_ATC_list_df))# 4463 episodes\n",
    "print(prescriptions_ATC_list_df.head(20))"
   ]
  },
  {
   "cell_type": "code",
   "execution_count": 113,
   "metadata": {},
   "outputs": [
    {
     "name": "stdout",
     "output_type": "stream",
     "text": [
      "   episode_id                      ATC4\n",
      "0         9.0                    [N06A]\n",
      "1        27.0  [R06A, N05C, N06A, N06B]\n",
      "2        28.0                    [N06A]\n"
     ]
    }
   ],
   "source": [
    "# Prescriptions\n",
    "#Sql query for extracting prescriptions had 56,167 rows\n",
    "prescriptions_df2 = pd.read_csv( \"/home/kabank/workbench/.conda/analysis/kabank-data/prescriptionsEachSak.csv\")\n",
    "prescriptions_df2['ATC4'] = prescriptions_df2['atc_code'].str[:4]\n",
    "prescriptions_df2.head(3)\n",
    "prescriptions_ATC4_list_df = prescriptions_df2.groupby('episode_id').agg({\n",
    "    'ATC4': lambda x: list(set(x))\n",
    "})\n",
    "prescriptions_ATC4_list_df = prescriptions_ATC4_list_df.reset_index()\n",
    "#print(len(prescriptions_ATC4_list_df))# 4463 episodes\n",
    "print(prescriptions_ATC4_list_df.head(3))"
   ]
  },
  {
   "cell_type": "code",
   "execution_count": 114,
   "metadata": {},
   "outputs": [
    {
     "name": "stdout",
     "output_type": "stream",
     "text": [
      "Columns of episodes:\n",
      " Index(['pasient', 'episode_id', 'patient_age', 'remaining_time_countdown',\n",
      "       'var_no_dates_permonth', 'gender', 'episode_order', 'islast',\n",
      "       'closingcode', 'aftercode', 'instanskode', 'episode_start_date',\n",
      "       'episode_end_date', 'length_of_episode', 'tillnextepisode',\n",
      "       'starttillnextstart', 'count_poliklinikk', 'count_familieavdeling',\n",
      "       'count_dagavdeling', 'count_dognavdeling', 'count_osv',\n",
      "       'count_outpatient', 'count_inpatient', 'count_lmssciadm',\n",
      "       'count_inpatient_day', 'count_inpatient_daynight', 'count_terapi',\n",
      "       'count_undersokelse', 'count_radge', 'count_behplanlegging',\n",
      "       'count_ikkemott', 'count_others'],\n",
      "      dtype='object') \n",
      " len: 18646\n",
      "\n",
      "\n",
      "Columns of full_episodes:\n",
      " Index(['Unnamed: 0', 'pasient', 'episode_id', 'age',\n",
      "       'remaining_time_countdown', 'var_no_dates_permonth', 'gender',\n",
      "       'episode_order', 'islast', 'closingcode', 'aftercode', 'instanskode',\n",
      "       'episode_start_date', 'episode_end_date', 'count_poliklinikk',\n",
      "       'count_familieavdeling', 'count_dagavdeling', 'count_dognavdeling',\n",
      "       'count_osv', 'count_outpatient', 'count_inpatient', 'count_lmssciadm',\n",
      "       'count_inpatient_day', 'count_inpatient_daynight', 'count_terapi',\n",
      "       'count_undersokelse', 'count_radge', 'count_behplanlegging',\n",
      "       'count_ikkemott', 'count_others', 'tillnextepisode',\n",
      "       'starttillnextstart', 'Length_of_Episode'],\n",
      "      dtype='object') \n",
      " len: 17433\n"
     ]
    }
   ],
   "source": [
    "episodes = pd.read_csv('/home/kabank/workbench/.conda/analysis/Resources/epiosdes2.csv') # before merge 18646\n",
    "full_episodes = pd.read_csv('/home/kabank/workbench/.conda/analysis/Resources/full_episodes.csv') # after merge 17433\n",
    "full_episodes.to_csv('/home/kabank/workbench/.conda/analysis/kabank-data/new-data/full_episodes.csv', index=False)\n",
    "print('Columns of episodes:\\n', episodes.columns, '\\n len:', len(episodes))\n",
    "print('\\n')\n",
    "print('Columns of full_episodes:\\n', full_episodes.columns, '\\n len:', len(full_episodes))"
   ]
  },
  {
   "cell_type": "code",
   "execution_count": 115,
   "metadata": {},
   "outputs": [
    {
     "name": "stdout",
     "output_type": "stream",
     "text": [
      "gender\n",
      "M    8966\n",
      "F    8129\n",
      "0      30\n",
      "Name: count, dtype: int64\n",
      "Number of rows in final_episodes:\n",
      " 17125\n",
      "Columns of final_episodes:\n",
      " Index(['pasient', 'episode_id', 'age', 'remaining_time_countdown',\n",
      "       'var_no_dates_permonth', 'gender', 'episode_order', 'islast',\n",
      "       'closingcode', 'aftercode', 'episode_start_date', 'episode_end_date',\n",
      "       'tillnextepisode', 'Length_of_Episode', 'Cat_LOE', 'TNE_BO_180',\n",
      "       'TNE_NO_180', 'TNE_BO_365', 'TNE_NO_365', 'TNE_BO_730', 'TNE_NO_730',\n",
      "       'TNE_BO_1095', 'TNE_NO_1095', 'Cat_LOE_desc', 'Count_visit', 'Cat_CV',\n",
      "       'Therapy_ratio', 'Examination_ratio', 'Advisory_ratio',\n",
      "       'TreatmentPlanning_ratio', 'Outpatient_ratio', 'Inpatient_ratio',\n",
      "       'Inpatient_day_ratio', 'Inpatient_daynight_ratio', 'Care_intensity',\n",
      "       'age_group', 'num_diagnoses', 'num_medications'],\n",
      "      dtype='object')\n",
      "\n",
      "\n",
      "Number of rows in fullHot_episodes:\n",
      " 17125\n",
      "Columns of fullHot_episodes:\n",
      " Index(['episode_id', 'num_diagnoses', 'num_medications', 'pasient', 'age',\n",
      "       'remaining_time_countdown', 'var_no_dates_permonth', 'gender',\n",
      "       'episode_order', 'islast', 'closingcode', 'aftercode',\n",
      "       'episode_start_date', 'episode_end_date', 'tillnextepisode',\n",
      "       'Length_of_Episode', 'Cat_LOE', 'TNE_BO_180', 'TNE_NO_180',\n",
      "       'TNE_BO_365', 'TNE_NO_365', 'TNE_BO_730', 'TNE_NO_730', 'TNE_BO_1095',\n",
      "       'TNE_NO_1095', 'Cat_LOE_desc', 'Count_visit', 'Cat_CV', 'Therapy_ratio',\n",
      "       'Examination_ratio', 'Advisory_ratio', 'TreatmentPlanning_ratio',\n",
      "       'Outpatient_ratio', 'Inpatient_ratio', 'Inpatient_day_ratio',\n",
      "       'Inpatient_daynight_ratio', 'Care_intensity', 'age_group',\n",
      "       'closingcode_0', 'closingcode_1', 'closingcode_2', 'closingcode_3',\n",
      "       'closingcode_4', 'closingcode_5', 'closingcode_6', 'closingcode_9',\n",
      "       'aftercode_1', 'aftercode_2', 'aftercode_3', 'aftercode_4',\n",
      "       'aftercode_5', 'gender_0', 'F', 'M', 'MiddleChildhood', 'Preschooler',\n",
      "       'Teenager'],\n",
      "      dtype='object')\n"
     ]
    }
   ],
   "source": [
    "# We removed some outliers, this is containing all the features not the ones related to diagnoses and medications like 'num_diagnoses', 'num_medications': 17,125 episodes\n",
    "final_episodes = pd.read_csv(\"/home/kabank/workbench/.conda/analysis/kabank-data/final_episodes.csv\")\n",
    "fullHot_episodes = pd.read_csv(\"/home/kabank/workbench/.conda/analysis/kabank-data/final_episodes4.csv\") \n",
    "print(final_episodes['gender'].value_counts())\n",
    "\n",
    "final_episodes = pd.merge(final_episodes, fullHot_episodes[['episode_id', 'num_diagnoses', 'num_medications']], on='episode_id', how='inner')\n",
    "final_episodes['gender'] = final_episodes['gender'].replace({'M': 0, 'F': 1, np.nan: 2}).astype(int)\n",
    "\n",
    "final_episodes.loc[final_episodes[\"age\"].between(0, 5), [\"age_group\"]] = \"Preschooler\"\n",
    "final_episodes.loc[final_episodes[\"age\"].between(6, 11), [\"age_group\"]] = \"MiddleChildhood\"\n",
    "final_episodes.loc[final_episodes[\"age\"].between(12, 18), [\"age_group\"]] = \"Teenager\" \n",
    "final_episodes.loc[final_episodes[\"age\"].between(19, 60), [\"age_group\"]] = \"Adult\"\n",
    "\n",
    "fullHot_episodes.loc[fullHot_episodes[\"age\"].between(0, 5), [\"age_group\"]] = \"Preschooler\"\n",
    "fullHot_episodes.loc[fullHot_episodes[\"age\"].between(6, 11), [\"age_group\"]] = \"MiddleChildhood\"\n",
    "fullHot_episodes.loc[fullHot_episodes[\"age\"].between(12, 18), [\"age_group\"]] = \"Teenager\" \n",
    "fullHot_episodes.loc[fullHot_episodes[\"age\"].between(19, 60), [\"age_group\"]] = \"Adult\"\n",
    "\n",
    "final_episodes.to_csv('/home/kabank/workbench/.conda/analysis/kabank-data/new-data/final_episodes.csv', index=False)\n",
    "print('Number of rows in final_episodes:\\n',len(final_episodes))\n",
    "print('Columns of final_episodes:\\n', final_episodes.columns)\n",
    "print('\\n')\n",
    "print('Number of rows in fullHot_episodes:\\n',len(fullHot_episodes))\n",
    "print('Columns of fullHot_episodes:\\n', fullHot_episodes.columns)"
   ]
  },
  {
   "cell_type": "code",
   "execution_count": 116,
   "metadata": {},
   "outputs": [
    {
     "name": "stdout",
     "output_type": "stream",
     "text": [
      "17125\n"
     ]
    },
    {
     "data": {
      "text/plain": [
       "Index(['episode_id', 'num_diagnoses', 'num_medications', 'pasient', 'age',\n",
       "       'remaining_time_countdown', 'var_no_dates_permonth', 'gender',\n",
       "       'episode_order', 'islast', 'closingcode', 'aftercode',\n",
       "       'episode_start_date', 'episode_end_date', 'tillnextepisode',\n",
       "       'Length_of_Episode', 'Cat_LOE', 'TNE_BO_180', 'TNE_NO_180',\n",
       "       'TNE_BO_365', 'TNE_NO_365', 'TNE_BO_730', 'TNE_NO_730', 'TNE_BO_1095',\n",
       "       'TNE_NO_1095', 'Cat_LOE_desc', 'Count_visit', 'Cat_CV', 'Therapy_ratio',\n",
       "       'Examination_ratio', 'Advisory_ratio', 'TreatmentPlanning_ratio',\n",
       "       'Outpatient_ratio', 'Inpatient_ratio', 'Inpatient_day_ratio',\n",
       "       'Inpatient_daynight_ratio', 'Care_intensity', 'age_group',\n",
       "       'closingcode_0', 'closingcode_1', 'closingcode_2', 'closingcode_3',\n",
       "       'closingcode_4', 'closingcode_5', 'closingcode_6', 'closingcode_9',\n",
       "       'aftercode_1', 'aftercode_2', 'aftercode_3', 'aftercode_4',\n",
       "       'aftercode_5', 'gender_0', 'F', 'M', 'MiddleChildhood', 'Preschooler',\n",
       "       'Teenager', 'actual_diag_Phe', 'actual_med_ATC4'],\n",
       "      dtype='object')"
      ]
     },
     "execution_count": 116,
     "metadata": {},
     "output_type": "execute_result"
    }
   ],
   "source": [
    "# it looks like merging of fullHot_episodes and actual diagnoses(Phecodes) and medications(ATC4)\n",
    "Full_Phecode = pd.merge(fullHot_episodes, diagnoses_phecode_list_df[['episode_id', 'diagnoses']], on='episode_id', how='left')\n",
    "Full_Phecode_ATC4 = pd.merge(Full_Phecode, prescriptions_ATC4_list_df[['episode_id', 'ATC4']], on='episode_id', how='left')\n",
    "Full_Phecode_ATC4.rename(columns={'diagnoses': 'actual_diag_Phe'}, inplace=True)\n",
    "Full_Phecode_ATC4.rename(columns={'ATC4': 'actual_med_ATC4'}, inplace=True)\n",
    "Full_Phecode_ATC4.to_csv('/home/kabank/workbench/.conda/analysis/kabank-data/new-data/Full_Phecode_ATC4.csv', index=False)\n",
    "print(len(Full_Phecode_ATC4))\n",
    "Full_Phecode_ATC4.columns\n"
   ]
  },
  {
   "cell_type": "code",
   "execution_count": 117,
   "metadata": {},
   "outputs": [
    {
     "name": "stdout",
     "output_type": "stream",
     "text": [
      "17125\n"
     ]
    },
    {
     "data": {
      "text/plain": [
       "Index(['episode_id', 'num_diagnoses', 'num_medications', 'pasient', 'age',\n",
       "       'remaining_time_countdown', 'var_no_dates_permonth', 'gender',\n",
       "       'episode_order', 'islast', 'closingcode', 'aftercode',\n",
       "       'episode_start_date', 'episode_end_date', 'tillnextepisode',\n",
       "       'Length_of_Episode', 'Cat_LOE', 'TNE_BO_180', 'TNE_NO_180',\n",
       "       'TNE_BO_365', 'TNE_NO_365', 'TNE_BO_730', 'TNE_NO_730', 'TNE_BO_1095',\n",
       "       'TNE_NO_1095', 'Cat_LOE_desc', 'Count_visit', 'Cat_CV', 'Therapy_ratio',\n",
       "       'Examination_ratio', 'Advisory_ratio', 'TreatmentPlanning_ratio',\n",
       "       'Outpatient_ratio', 'Inpatient_ratio', 'Inpatient_day_ratio',\n",
       "       'Inpatient_daynight_ratio', 'Care_intensity', 'age_group',\n",
       "       'closingcode_0', 'closingcode_1', 'closingcode_2', 'closingcode_3',\n",
       "       'closingcode_4', 'closingcode_5', 'closingcode_6', 'closingcode_9',\n",
       "       'aftercode_1', 'aftercode_2', 'aftercode_3', 'aftercode_4',\n",
       "       'aftercode_5', 'gender_0', 'F', 'M', 'MiddleChildhood', 'Preschooler',\n",
       "       'Teenager', 'actual_diag_Phe', 'actual_med_Full_ATC'],\n",
       "      dtype='object')"
      ]
     },
     "execution_count": 117,
     "metadata": {},
     "output_type": "execute_result"
    }
   ],
   "source": [
    "# it looks like merging of fullHot_episodes and actual diagnoses(Phecodes) and medications(Full ATC)\n",
    "Full_Phecode = pd.merge(fullHot_episodes, diagnoses_phecode_list_df[['episode_id', 'diagnoses']], on='episode_id', how='left')\n",
    "Full_Phecode_ATC = pd.merge(Full_Phecode, prescriptions_ATC_list_df[['episode_id', 'atc_code']], on='episode_id', how='left')\n",
    "Full_Phecode_ATC.rename(columns={'diagnoses': 'actual_diag_Phe'}, inplace=True)\n",
    "Full_Phecode_ATC.rename(columns={'atc_code': 'actual_med_Full_ATC'}, inplace=True)\n",
    "Full_Phecode_ATC.to_csv('/home/kabank/workbench/.conda/analysis/kabank-data/new-data/Full_Phecode_ATC.csv', index=False)\n",
    "print(len(Full_Phecode_ATC))\n",
    "Full_Phecode_ATC.columns\n"
   ]
  },
  {
   "cell_type": "code",
   "execution_count": 118,
   "metadata": {},
   "outputs": [
    {
     "name": "stdout",
     "output_type": "stream",
     "text": [
      "17125\n"
     ]
    },
    {
     "data": {
      "text/plain": [
       "Index(['episode_id', 'num_diagnoses', 'num_medications', 'pasient', 'age',\n",
       "       'remaining_time_countdown', 'var_no_dates_permonth', 'gender',\n",
       "       'episode_order', 'islast', 'closingcode', 'aftercode',\n",
       "       'episode_start_date', 'episode_end_date', 'tillnextepisode',\n",
       "       'Length_of_Episode', 'Cat_LOE', 'TNE_BO_180', 'TNE_NO_180',\n",
       "       'TNE_BO_365', 'TNE_NO_365', 'TNE_BO_730', 'TNE_NO_730', 'TNE_BO_1095',\n",
       "       'TNE_NO_1095', 'Cat_LOE_desc', 'Count_visit', 'Cat_CV', 'Therapy_ratio',\n",
       "       'Examination_ratio', 'Advisory_ratio', 'TreatmentPlanning_ratio',\n",
       "       'Outpatient_ratio', 'Inpatient_ratio', 'Inpatient_day_ratio',\n",
       "       'Inpatient_daynight_ratio', 'Care_intensity', 'age_group',\n",
       "       'closingcode_0', 'closingcode_1', 'closingcode_2', 'closingcode_3',\n",
       "       'closingcode_4', 'closingcode_5', 'closingcode_6', 'closingcode_9',\n",
       "       'aftercode_1', 'aftercode_2', 'aftercode_3', 'aftercode_4',\n",
       "       'aftercode_5', 'gender_0', 'F', 'M', 'MiddleChildhood', 'Preschooler',\n",
       "       'Teenager', 'actual_diag_ICD10', 'actual_med_Full_ATC'],\n",
       "      dtype='object')"
      ]
     },
     "execution_count": 118,
     "metadata": {},
     "output_type": "execute_result"
    }
   ],
   "source": [
    "# it looks like merging of fullHot_episodes and actual diagnoses(ICD10) and medications(Full ATC)\n",
    "Full_ICD10['episode_id'] = Full_ICD10['episode_id'].astype(str)\n",
    "fullHot_episodes['episode_id'] = fullHot_episodes['episode_id'].astype(str)\n",
    "diagnoses_ICD10_list_df['episode_id'] = diagnoses_ICD10_list_df['episode_id'].astype(str)\n",
    "prescriptions_ATC_list_df['episode_id'] = prescriptions_ATC_list_df['episode_id'].astype(str)\n",
    "\n",
    "Full_ICD10 = pd.merge(fullHot_episodes, diagnoses_ICD10_list_df, on='episode_id', how='left')\n",
    "Full_ICD10_ATC = pd.merge(Full_ICD10, prescriptions_ATC_list_df[['episode_id', 'atc_code']], on='episode_id', how='left')\n",
    "Full_ICD10_ATC.rename(columns={'diagnosis_ICD10': 'actual_diag_ICD10'}, inplace=True)\n",
    "Full_ICD10_ATC.rename(columns={'atc_code': 'actual_med_Full_ATC'}, inplace=True)\n",
    "Full_ICD10_ATC.to_csv('/home/kabank/workbench/.conda/analysis/kabank-data/new-data/Full_ICD10_ATC.csv', index=False)\n",
    "print(len(Full_ICD10_ATC))\n",
    "Full_ICD10_ATC.columns"
   ]
  },
  {
   "cell_type": "code",
   "execution_count": 119,
   "metadata": {},
   "outputs": [
    {
     "name": "stdout",
     "output_type": "stream",
     "text": [
      "count_Last_180: 760\n",
      "count_Last_year: 1586\n",
      "count_last_two_year: 3021\n",
      "count_last_three_year: 4526\n"
     ]
    }
   ],
   "source": [
    "count_Last_180 = len(final_episodes[(final_episodes['episode_end_date'] > '2016-09-06') & (final_episodes['episode_end_date'] < '2017-03-05')])\n",
    "print('count_Last_180:', count_Last_180)\n",
    "\n",
    "count_Last_365 = len(final_episodes[(final_episodes['episode_end_date'] > '2016-03-05') & (final_episodes['episode_end_date'] < '2017-03-05')])\n",
    "print('count_Last_year:', count_Last_365)\n",
    "\n",
    "count_Last_730 = len(final_episodes[(final_episodes['episode_end_date'] > '2015-03-06') & (final_episodes['episode_end_date'] < '2017-03-05')])\n",
    "print('count_last_two_year:', count_Last_730)\n",
    "\n",
    "count_Last_1095 = len(final_episodes[(final_episodes['episode_end_date'] > '2014-03-06') & (final_episodes['episode_end_date'] < '2017-03-05')])\n",
    "print('count_last_three_year:', count_Last_1095)\n"
   ]
  },
  {
   "cell_type": "code",
   "execution_count": 120,
   "metadata": {},
   "outputs": [
    {
     "name": "stdout",
     "output_type": "stream",
     "text": [
      "***IF 180 days**\n",
      "16365\n",
      "597\n",
      "15768\n",
      "1741\n",
      "14027\n"
     ]
    }
   ],
   "source": [
    "print('***IF 180 days**')\n",
    "df1 = final_episodes[~((final_episodes['episode_end_date'] > '2016-09-06') & (final_episodes['episode_end_date'] < '2017-03-05'))]\n",
    "print(len(df1)) # 16365\n",
    "\n",
    "print(len(df1[(df1['TNE_BO_180'] == 1)]))  # 597\n",
    "print(len(df1[(df1['TNE_BO_180'] == 0)]))  # 15768\n",
    "print(len(df1[(df1['TNE_BO_180'] == 0) & (df1['tillnextepisode']>180)]))  # 1741\n",
    "print(len(df1[df1['tillnextepisode'].isna()]))  # 14027"
   ]
  },
  {
   "cell_type": "code",
   "execution_count": 121,
   "metadata": {},
   "outputs": [
    {
     "name": "stdout",
     "output_type": "stream",
     "text": [
      "***IF 365 days**\n",
      "15539\n",
      "590\n",
      "14949\n",
      "1740\n",
      "13209\n"
     ]
    },
    {
     "name": "stderr",
     "output_type": "stream",
     "text": [
      "<ipython-input-121-a8b4df4a9af2>:7: UserWarning: Boolean Series key will be reindexed to match DataFrame index.\n",
      "  print(len(df2[(df2['TNE_BO_180'] == 0) & (df1['tillnextepisode']>180)]))  # 1574\n"
     ]
    }
   ],
   "source": [
    "print('***IF 365 days**')\n",
    "df2 = final_episodes[~((final_episodes['episode_end_date'] > '2016-03-05') & (final_episodes['episode_end_date'] < '2017-03-05'))]\n",
    "print(len(df2)) # 15539\n",
    "\n",
    "print(len(df2[(df2['TNE_BO_180'] == 1)]))  # 590\n",
    "print(len(df2[(df2['TNE_BO_180'] == 0)]))  # 14949\n",
    "print(len(df2[(df2['TNE_BO_180'] == 0) & (df1['tillnextepisode']>180)]))  # 1740\n",
    "print(len(df2[df2['tillnextepisode'].isna()]))  # 13209"
   ]
  },
  {
   "cell_type": "code",
   "execution_count": 122,
   "metadata": {},
   "outputs": [
    {
     "name": "stdout",
     "output_type": "stream",
     "text": [
      "***IF 730 days**\n",
      "14104\n",
      "1517\n",
      "12587\n",
      "760\n",
      "11827\n"
     ]
    },
    {
     "name": "stderr",
     "output_type": "stream",
     "text": [
      "<ipython-input-122-3c54bae7619d>:7: UserWarning: Boolean Series key will be reindexed to match DataFrame index.\n",
      "  print(len(df3[(df3['TNE_BO_730'] == 0) & (df1['tillnextepisode']>730)]))  # 679\n"
     ]
    }
   ],
   "source": [
    "print('***IF 730 days**')\n",
    "df3 = final_episodes[~((final_episodes['episode_end_date'] > '2015-03-06') & (final_episodes['episode_end_date'] < '2017-03-05'))]\n",
    "print(len(df3)) # 14104\n",
    "\n",
    "print(len(df3[(df3['TNE_BO_730'] == 1)]))  # 1517\n",
    "print(len(df3[(df3['TNE_BO_730'] == 0)]))  # 12587\n",
    "print(len(df3[(df3['TNE_BO_730'] == 0) & (df1['tillnextepisode']>730)]))  # 760\n",
    "print(len(df3[df3['tillnextepisode'].isna()]))  # 11827"
   ]
  },
  {
   "cell_type": "code",
   "execution_count": 123,
   "metadata": {},
   "outputs": [
    {
     "name": "stdout",
     "output_type": "stream",
     "text": [
      "***IF 1095 days**\n",
      "12599\n",
      "1690\n",
      "10909\n",
      "444\n",
      "10465\n"
     ]
    },
    {
     "name": "stderr",
     "output_type": "stream",
     "text": [
      "<ipython-input-123-551696db6ad8>:7: UserWarning: Boolean Series key will be reindexed to match DataFrame index.\n",
      "  print(len(df4[(df4['TNE_BO_1095'] == 0) & (df1['tillnextepisode']>1095)]))  # 397\n"
     ]
    }
   ],
   "source": [
    "print('***IF 1095 days**')\n",
    "df4 = final_episodes[~((final_episodes['episode_end_date'] > '2014-03-06') & (final_episodes['episode_end_date'] < '2017-03-05'))]\n",
    "print(len(df4)) # 12599\n",
    "\n",
    "print(len(df4[(df4['TNE_BO_1095'] == 1)]))  # 1690\n",
    "print(len(df4[(df4['TNE_BO_1095'] == 0)]))  # 1690\n",
    "print(len(df4[(df4['TNE_BO_1095'] == 0) & (df1['tillnextepisode']>1095)]))  # 444\n",
    "print(len(df4[df4['tillnextepisode'].isna()]))  # 10465"
   ]
  }
 ],
 "metadata": {
  "kernelspec": {
   "display_name": "My Kernel",
   "language": "python",
   "name": "mykernel"
  },
  "language_info": {
   "codemirror_mode": {
    "name": "ipython",
    "version": 3
   },
   "file_extension": ".py",
   "mimetype": "text/x-python",
   "name": "python",
   "nbconvert_exporter": "python",
   "pygments_lexer": "ipython3",
   "version": "3.8.8"
  },
  "orig_nbformat": 4
 },
 "nbformat": 4,
 "nbformat_minor": 2
}
