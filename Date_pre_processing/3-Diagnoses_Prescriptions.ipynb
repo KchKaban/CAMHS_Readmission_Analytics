{
 "cells": [
  {
   "cell_type": "markdown",
   "metadata": {},
   "source": [
    "This file is all cleaning and distributions about Diagnoses and prescriptions (Medications).\n",
    "It contains phecodes cleaning, adding missing phecodes, diagnoses cleaning, demographics cleaning, prescriptions cleaning, merging diagnoses(phecodes) and atccodes and some exploratory data analysis.\n",
    "The results of these processes stored in dataframe df and df_exp and CSV files: diagnoses_atc_episode.csv and diagnoses_atc_episode_exp.csv\n",
    "atc in this file finally cut into 4 char just as a try. "
   ]
  },
  {
   "cell_type": "code",
   "execution_count": 2,
   "metadata": {},
   "outputs": [],
   "source": [
    "# Imports\n",
    "import matplotlib.pyplot as plt \n",
    "import numpy as np\n",
    "import pandas as pd \n",
    "import pickle as pkl\n",
    "import seaborn as sns\n",
    "from sklearn.preprocessing import MultiLabelBinarizer"
   ]
  },
  {
   "cell_type": "code",
   "execution_count": 3,
   "metadata": {},
   "outputs": [
    {
     "name": "stdout",
     "output_type": "stream",
     "text": [
      "<class 'pandas.core.frame.DataFrame'>\n",
      "RangeIndex: 56167 entries, 0 to 56166\n",
      "Data columns (total 6 columns):\n",
      " #   Column             Non-Null Count  Dtype  \n",
      "---  ------             --------------  -----  \n",
      " 0   episode_id         44685 non-null  float64\n",
      " 1   regulation         56167 non-null  object \n",
      " 2   prescription_type  39713 non-null  object \n",
      " 3   trade_name         56167 non-null  object \n",
      " 4   atc_code           40662 non-null  object \n",
      " 5   atc_name           31245 non-null  object \n",
      "dtypes: float64(1), object(5)\n",
      "memory usage: 2.6+ MB\n"
     ]
    }
   ],
   "source": [
    "# Prescriptions\n",
    "#Sql query for extracting prescriptions had 56,167 rows\n",
    "prescriptions_df = pd.read_csv( \"/home/kabank/workbench/.conda/analysis/kabank-data/prescriptionsEachSak.csv\")\n",
    "prescriptions_df.info()"
   ]
  },
  {
   "cell_type": "code",
   "execution_count": 4,
   "metadata": {},
   "outputs": [
    {
     "name": "stdout",
     "output_type": "stream",
     "text": [
      "<class 'pandas.core.frame.DataFrame'>\n",
      "RangeIndex: 9505 entries, 0 to 9504\n",
      "Data columns (total 6 columns):\n",
      " #   Column            Non-Null Count  Dtype \n",
      "---  ------            --------------  ----- \n",
      " 0   ICD10             9505 non-null   object\n",
      " 1   ICD10 String      9504 non-null   object\n",
      " 2   PheCode           9366 non-null   object\n",
      " 3   Phenotype         9366 non-null   object\n",
      " 4   Excl. Phecodes    8667 non-null   object\n",
      " 5   Excl. Phenotypes  8608 non-null   object\n",
      "dtypes: object(6)\n",
      "memory usage: 445.7+ KB\n"
     ]
    }
   ],
   "source": [
    "#Phecode that is downloaded directly from (https://phewascatalog.org/phecodes)\n",
    "phecodes_df = pd.read_csv(\"/home/kabank/workbench/.conda/analysis/kabank-data/phecode_icd10.csv\", decimal=',')\n",
    "phecodes_df.info() #9505 rows "
   ]
  },
  {
   "cell_type": "code",
   "execution_count": 5,
   "metadata": {},
   "outputs": [
    {
     "name": "stdout",
     "output_type": "stream",
     "text": [
      "<class 'pandas.core.frame.DataFrame'>\n",
      "RangeIndex: 42803 entries, 0 to 42802\n",
      "Data columns (total 6 columns):\n",
      " #   Column       Non-Null Count  Dtype \n",
      "---  ------       --------------  ----- \n",
      " 0   patient      42803 non-null  int64 \n",
      " 1   episode_id   42803 non-null  object\n",
      " 2   gender       42803 non-null  object\n",
      " 3   axis         42803 non-null  int64 \n",
      " 4   diagnosis    42803 non-null  object\n",
      " 5   age_patient  42803 non-null  int64 \n",
      "dtypes: int64(3), object(3)\n",
      "memory usage: 2.0+ MB\n"
     ]
    }
   ],
   "source": [
    "#Total rows: 42,803 rows, diagnoses are ICD-10\n",
    "diagnoses_df = pd.read_csv( \"/home/kabank/workbench/.conda/analysis/Resources/Diagnosis.CSV\", decimal=',') \n",
    "diagnoses_df = diagnoses_df.dropna()\n",
    "diagnoses_df.info()"
   ]
  },
  {
   "attachments": {},
   "cell_type": "markdown",
   "metadata": {},
   "source": [
    "# Data Cleaning\n",
    "# ----------------------------------------- \n",
    "# Phecode cleaning\n",
    "# -----------------------------------------"
   ]
  },
  {
   "cell_type": "code",
   "execution_count": 6,
   "metadata": {},
   "outputs": [
    {
     "data": {
      "text/plain": [
       "0         A00\n",
       "1       A00.0\n",
       "2       A00.1\n",
       "3       A00.9\n",
       "4         A01\n",
       "        ...  \n",
       "9500    Z97.3\n",
       "9501    Z97.4\n",
       "9502    Z99.1\n",
       "9503    Z99.2\n",
       "9504    Z99.8\n",
       "Name: ICD10, Length: 9505, dtype: object"
      ]
     },
     "execution_count": 6,
     "metadata": {},
     "output_type": "execute_result"
    }
   ],
   "source": [
    "phecodes_df[\"ICD10\"]"
   ]
  },
  {
   "cell_type": "code",
   "execution_count": 7,
   "metadata": {},
   "outputs": [],
   "source": [
    "# Remove punctuation from icd-codes to match data format in diagnoses_df\n",
    "for i in range(len(phecodes_df[\"ICD10\"])):\n",
    "    phecodes_df.at[i, \"ICD10\"] = phecodes_df[\"ICD10\"][i].replace(\".\", \"\")"
   ]
  },
  {
   "cell_type": "code",
   "execution_count": 8,
   "metadata": {},
   "outputs": [
    {
     "name": "stdout",
     "output_type": "stream",
     "text": [
      "<class 'pandas.core.frame.DataFrame'>\n",
      "RangeIndex: 9505 entries, 0 to 9504\n",
      "Data columns (total 6 columns):\n",
      " #   Column            Non-Null Count  Dtype \n",
      "---  ------            --------------  ----- \n",
      " 0   ICD10             9505 non-null   object\n",
      " 1   ICD10 String      9504 non-null   object\n",
      " 2   PheCode           9366 non-null   object\n",
      " 3   Phenotype         9366 non-null   object\n",
      " 4   Excl. Phecodes    8667 non-null   object\n",
      " 5   Excl. Phenotypes  8608 non-null   object\n",
      "dtypes: object(6)\n",
      "memory usage: 445.7+ KB\n"
     ]
    }
   ],
   "source": [
    "phecodes_df.info()"
   ]
  },
  {
   "cell_type": "code",
   "execution_count": 9,
   "metadata": {},
   "outputs": [],
   "source": [
    "# 139 rows are null in column PheCode - we remove them  (9505-139 = 9366)\n",
    "phecodes_df = phecodes_df.dropna(subset=['PheCode'])"
   ]
  },
  {
   "cell_type": "code",
   "execution_count": 10,
   "metadata": {},
   "outputs": [
    {
     "name": "stdout",
     "output_type": "stream",
     "text": [
      "<class 'pandas.core.frame.DataFrame'>\n",
      "Index: 9366 entries, 0 to 9503\n",
      "Data columns (total 6 columns):\n",
      " #   Column            Non-Null Count  Dtype \n",
      "---  ------            --------------  ----- \n",
      " 0   ICD10             9366 non-null   object\n",
      " 1   ICD10 String      9365 non-null   object\n",
      " 2   PheCode           9366 non-null   object\n",
      " 3   Phenotype         9366 non-null   object\n",
      " 4   Excl. Phecodes    8667 non-null   object\n",
      " 5   Excl. Phenotypes  8608 non-null   object\n",
      "dtypes: object(6)\n",
      "memory usage: 512.2+ KB\n"
     ]
    }
   ],
   "source": [
    "phecodes_df.info()"
   ]
  },
  {
   "cell_type": "code",
   "execution_count": 11,
   "metadata": {},
   "outputs": [],
   "source": [
    "len(phecodes_df['ICD10'].unique()) # 9060 as it is less than the total number of rows in phecodes_df, there are some duplicates\n",
    "# Convert phecodes df to dictionary - which automatically removes the duplicates\n",
    "phecodes_dict = dict([(i, [x, y, z]) for i, x, y, z in zip(phecodes_df['ICD10'],phecodes_df['PheCode'], phecodes_df['Phenotype'], phecodes_df['Excl. Phenotypes'])])"
   ]
  },
  {
   "cell_type": "code",
   "execution_count": 12,
   "metadata": {},
   "outputs": [
    {
     "data": {
      "text/html": [
       "<div>\n",
       "<style scoped>\n",
       "    .dataframe tbody tr th:only-of-type {\n",
       "        vertical-align: middle;\n",
       "    }\n",
       "\n",
       "    .dataframe tbody tr th {\n",
       "        vertical-align: top;\n",
       "    }\n",
       "\n",
       "    .dataframe thead th {\n",
       "        text-align: right;\n",
       "    }\n",
       "</style>\n",
       "<table border=\"1\" class=\"dataframe\">\n",
       "  <thead>\n",
       "    <tr style=\"text-align: right;\">\n",
       "      <th></th>\n",
       "      <th>ICD10</th>\n",
       "      <th>ICD10 String</th>\n",
       "      <th>PheCode</th>\n",
       "      <th>Phenotype</th>\n",
       "      <th>Excl. Phecodes</th>\n",
       "      <th>Excl. Phenotypes</th>\n",
       "    </tr>\n",
       "  </thead>\n",
       "  <tbody>\n",
       "    <tr>\n",
       "      <th>2503</th>\n",
       "      <td>F410</td>\n",
       "      <td>Panic disorder [episodic paroxysmal anxiety]</td>\n",
       "      <td>300.12</td>\n",
       "      <td>Agorophobia, social phobia, and panic disorder</td>\n",
       "      <td>295-306.99</td>\n",
       "      <td>psychological disorders</td>\n",
       "    </tr>\n",
       "  </tbody>\n",
       "</table>\n",
       "</div>"
      ],
      "text/plain": [
       "     ICD10                                  ICD10 String PheCode  \\\n",
       "2503  F410  Panic disorder [episodic paroxysmal anxiety]  300.12   \n",
       "\n",
       "                                           Phenotype Excl. Phecodes  \\\n",
       "2503  Agorophobia, social phobia, and panic disorder     295-306.99   \n",
       "\n",
       "             Excl. Phenotypes  \n",
       "2503  psychological disorders  "
      ]
     },
     "execution_count": 12,
     "metadata": {},
     "output_type": "execute_result"
    }
   ],
   "source": [
    "phecodes_df[phecodes_df['ICD10']=='F410']"
   ]
  },
  {
   "cell_type": "code",
   "execution_count": 13,
   "metadata": {},
   "outputs": [
    {
     "data": {
      "text/plain": [
       "['300.12',\n",
       " 'Agorophobia, social phobia, and panic disorder',\n",
       " 'psychological disorders']"
      ]
     },
     "execution_count": 13,
     "metadata": {},
     "output_type": "execute_result"
    }
   ],
   "source": [
    "phecodes_dict['F410']"
   ]
  },
  {
   "cell_type": "code",
   "execution_count": 14,
   "metadata": {},
   "outputs": [
    {
     "name": "stdout",
     "output_type": "stream",
     "text": [
      "There are some duplicate keys in the phecodes_df which have been collapsed in the dictionary (phecodes_dict): 306 keys\n"
     ]
    }
   ],
   "source": [
    "num_rows_df = len(phecodes_df)\n",
    "num_keys_dict = len(phecodes_dict)\n",
    "print(f'There are some duplicate keys in the phecodes_df which have been collapsed in the dictionary (phecodes_dict): {num_rows_df - num_keys_dict} keys')"
   ]
  },
  {
   "cell_type": "code",
   "execution_count": 15,
   "metadata": {},
   "outputs": [
    {
     "name": "stdout",
     "output_type": "stream",
     "text": [
      "count total unique: 1271\n",
      "count less than 4: 105\n",
      "count more than 4: 0\n",
      "count equal than 4: 1166\n",
      "***\n",
      "{'F69', 'H52', 'F28', 'P90', 'F54', 'H40', 'E73', 'E66', 'Q53', 'T58', 'X78', 'L65', 'O94', 'T4n', 'J45', 'J03', 'G09', 'T71', 'D50', 'F03', 'I60', 'H91', 'E46', 'B27', 'F21', 'F29', 'A37', 'D70', 'L40', 'X61', 'G80', 'F81', 'M54', 'C49', 'F55', 'F88', 'I64', 'Q81', 'J30', 'G44', 'H46', 'L70', 'N47', 'Q25', 'P77', 'F99', 'E86', 'K30', 'F89', 'F09', 'F80', 'N62', 'F39', 'G91', 'L50', 'N10', 'F24', 'J46', 'J47', 'E43', 'Y4n', 'F71', 'E90', 'J36', 'M08', 'G36', 'F72', 'O85', 'Q64', 'G40', 'D66', 'G98', 'N30', 'L80', 'F70', 'X60', 'K20', 'L20', 'O60', 'N44', 'F79', 'K59', 'X4n', 'E10', 'Q96', 'W76', 'F98', 'H54', 'N13', 'C64', 'C56', 'F82', 'D27', 'H50', 'F83', 'G71', 'X6n', 'O04', 'A09', 'H55', 'K21', 'G43', 'P75', 'E45', 'M41'}\n"
     ]
    }
   ],
   "source": [
    "# check the values in diagnoses_df\n",
    "# diagnoses_df['diagnosis'] is ICD10\n",
    "\n",
    "list_len_more4 = []\n",
    "list_len_less4 = []\n",
    "list_len_equal4 = []\n",
    "diagnoses_df['diagnosis'] = [X[0:4] for X in diagnoses_df['diagnosis']]\n",
    "for i in range(len(diagnoses_df)):\n",
    "    diagnosis = diagnoses_df['diagnosis'].iloc[i]\n",
    "    if len(diagnosis) > 4:\n",
    "        list_len_more4.append(diagnosis)       \n",
    "    if len(diagnosis) < 4:\n",
    "        list_len_less4.append(diagnosis)\n",
    "    if len(diagnosis) == 4:\n",
    "        list_len_equal4.append(diagnosis)\n",
    "\n",
    "unique_values_less4 = set(list_len_less4)\n",
    "unique_values_equal4 = set(list_len_equal4)\n",
    "unique_values_more4 = set(list_len_more4)\n",
    "unique_total = len(diagnoses_df['diagnosis'].unique())\n",
    "\n",
    "\n",
    "print(f'count total unique: {unique_total}') #1371\n",
    "print(f'count less than 4: {len(unique_values_less4)}') #139\n",
    "print(f'count more than 4: {len(unique_values_more4)}') #0\n",
    "print(f'count equal than 4: {len(unique_values_equal4)}') #1241\n",
    "print('***')\n",
    "print(unique_values_less4)\n"
   ]
  },
  {
   "cell_type": "code",
   "execution_count": 16,
   "metadata": {},
   "outputs": [
    {
     "name": "stdout",
     "output_type": "stream",
     "text": [
      "103\n"
     ]
    }
   ],
   "source": [
    "# diagnoses in diagnoses_df that do not have Phecode to be assigned\n",
    "NotinPhecode = []\n",
    "\n",
    "for X in diagnoses_df['diagnosis']:\n",
    "    if X not in phecodes_dict:\n",
    "        NotinPhecode.append(X)\n",
    "\n",
    "NotinPhecode2 = set(NotinPhecode) # function to convert a list to a set, which automatically removes duplicates.\n",
    "print(len(NotinPhecode2))\n",
    "# 103 unique diagnoses do not have Phecodes"
   ]
  },
  {
   "cell_type": "code",
   "execution_count": 17,
   "metadata": {},
   "outputs": [
    {
     "name": "stdout",
     "output_type": "stream",
     "text": [
      "{'X6n5', 'P044', 'X6nx', 'F28', 'F180', 'F900', 'X6n9', 'Y913', 'F908', 'L65', 'K523', 'M818', 'O94', 'X6n0', 'T4n', 'F504', 'P043', 'F791', 'F710', 'F555', 'F623', 'T012', 'F718', 'H91', 'T740', 'F558', 'M726', 'T742', 'F629', 'X61', 'M248', 'M811', 'F81', 'G40.', 'T941', 'Q914', 'F069', 'P071', 'P070', 'Q044', 'W5nx', 'F530', 'M828', 'F813', 'X8n2', 'Y906', 'H549', 'T910', 'X6n2', 'F329', 'F068', 'F339', 'M511', 'F552', 'Y4n', 'M090', 'F798', 'E90', 'M814', 'Q64', 'F933', 'Y907', 'F982', 'N038', 'B209', 'K649', 'X60', 'Q315', 'M091', 'J950', 'X6n8', 'S361', 'M530', 'F780', 'T142', 'X4n', 'N188', 'F320', 'F638', 'K720', 'E148', 'W76', 'F518', 'K858', 'F98', 'Y609', 'F928', 'S327', 'H50', 'F83', 'X6n', 'O04', 'X591', 'X6n6', 'F323', 'T141', 'Y912', 'X6n1', 'F321', 'T748', 'F403', 'X6n4', 'F322'}\n"
     ]
    }
   ],
   "source": [
    "print(NotinPhecode2)"
   ]
  },
  {
   "cell_type": "code",
   "execution_count": 18,
   "metadata": {},
   "outputs": [
    {
     "name": "stdout",
     "output_type": "stream",
     "text": [
      "F28\n",
      "L65\n",
      "O94\n",
      "T4n\n",
      "H91\n",
      "X61\n",
      "F81\n",
      "Y4n\n",
      "E90\n",
      "Q64\n",
      "X60\n",
      "X4n\n",
      "W76\n",
      "F98\n",
      "H50\n",
      "F83\n",
      "X6n\n",
      "O04\n"
     ]
    }
   ],
   "source": [
    "#those that do not have Phecodes and have a length less than 4\n",
    "for X in NotinPhecode2:\n",
    "    if X in unique_values_less4:\n",
    "        print(X) # 26"
   ]
  },
  {
   "cell_type": "code",
   "execution_count": 19,
   "metadata": {},
   "outputs": [
    {
     "name": "stdout",
     "output_type": "stream",
     "text": [
      "X6n5\n",
      "P044\n",
      "X6nx\n",
      "F28\n",
      "F180\n",
      "F900\n",
      "X6n9\n",
      "Y913\n",
      "F908\n",
      "L65\n",
      "K523\n",
      "M818\n",
      "O94\n",
      "X6n0\n",
      "T4n\n",
      "F504\n",
      "P043\n",
      "F791\n",
      "F710\n",
      "F555\n",
      "F623\n",
      "T012\n",
      "F718\n",
      "H91\n",
      "T740\n",
      "F558\n",
      "M726\n",
      "T742\n",
      "F629\n",
      "X61\n",
      "M248\n",
      "M811\n",
      "F81\n",
      "G40.\n",
      "T941\n",
      "Q914\n",
      "F069\n",
      "P071\n",
      "P070\n",
      "Q044\n",
      "W5nx\n",
      "F530\n",
      "M828\n",
      "F813\n",
      "X8n2\n",
      "Y906\n",
      "H549\n",
      "T910\n",
      "X6n2\n",
      "F329\n",
      "F068\n",
      "F339\n",
      "M511\n",
      "F552\n",
      "Y4n\n",
      "M090\n",
      "F798\n",
      "E90\n",
      "M814\n",
      "Q64\n",
      "F933\n",
      "Y907\n",
      "F982\n",
      "N038\n",
      "B209\n",
      "K649\n",
      "X60\n",
      "Q315\n",
      "M091\n",
      "J950\n",
      "X6n8\n",
      "S361\n",
      "M530\n",
      "F780\n",
      "T142\n",
      "X4n\n",
      "N188\n",
      "F320\n",
      "F638\n",
      "K720\n",
      "E148\n",
      "W76\n",
      "F518\n",
      "K858\n",
      "F98\n",
      "Y609\n",
      "F928\n",
      "S327\n",
      "H50\n",
      "F83\n",
      "X6n\n",
      "O04\n",
      "X591\n",
      "X6n6\n",
      "F323\n",
      "T141\n",
      "Y912\n",
      "X6n1\n",
      "F321\n",
      "T748\n",
      "F403\n",
      "X6n4\n",
      "F322\n",
      "103\n"
     ]
    }
   ],
   "source": [
    "j = 0\n",
    "for i in NotinPhecode2:\n",
    "    if i not in phecodes_dict.keys():\n",
    "        print(i) # 115\n",
    "        j += 1\n",
    "print(j)     "
   ]
  },
  {
   "cell_type": "code",
   "execution_count": 20,
   "metadata": {},
   "outputs": [],
   "source": [
    "# Add missing codes to dictionary\n",
    "phecodes_dict[\"B209\"] = [071.1, 'HIV infection , symptomatic', 'Viral infection']\n",
    "phecodes_dict[\"E90\"] = [277, 'Other disorders of metabolism', 'Other/unspecified disorders of metabolism']\n",
    "phecodes_dict[\"F068\"] = [291.4, 'Specific nonpsychotic mental disorders due to brain damage', 'dementia and related cognitive disorders/symptoms']\n",
    "phecodes_dict[\"F069\"] = [291.4, 'Specific nonpsychotic mental disorders due to brain damage', 'dementia and related cognitive disorders/symptoms']\n",
    "phecodes_dict[\"F18\"] = [290.3, 'Other persistent mental disorders due to conditions classified elsewhere', 'dementia and related cognitive disorders/symptoms']\n",
    "phecodes_dict[\"F180\"] = [290.3, 'Other persistent mental disorders due to conditions classified elsewhere', 'dementia and related cognitive disorders/symptoms']\n",
    "phecodes_dict[\"F28\"] = [295.3, 'Psychosis', 'psychological disorders']\n",
    "phecodes_dict[\"F32\"] = [296.22, 'Depressive disorder', 'psychological disorders']\n",
    "phecodes_dict[\"F320\"] = [296.22, 'Depressive disorder', 'psychological disorders']\n",
    "phecodes_dict[\"F321\"] = [296.22, 'Depressive disorder', 'psychological disorders']\n",
    "phecodes_dict[\"F322\"] = [296.22, 'Depressive disorder', 'psychological disorders']\n",
    "phecodes_dict[\"F323\"] = [296.22, 'Depressive disorder', 'psychological disorders']\n",
    "phecodes_dict[\"F329\"] = [296.22, 'Depressive disorder', 'psychological disorders']\n",
    "phecodes_dict[\"F339\"] = [296.22, 'Depressive disorder', 'psychological disorders']\n",
    "phecodes_dict[\"F204\"] = [296.22, 'Depressive disorder', 'psychological disorders']\n",
    "phecodes_dict[\"F328\"] = [296.22, 'Depressive disorder', 'psychological disorders']\n",
    "phecodes_dict[\"F330\"] = [296.22, 'Depressive disorder', 'psychological disorders']\n",
    "phecodes_dict[\"F331\"] = [296.22, 'Depressive disorder', 'psychological disorders']\n",
    "phecodes_dict[\"F332\"] = [296.22, 'Depressive disorder', 'psychological disorders']\n",
    "phecodes_dict[\"F333\"] = [296.22, 'Depressive disorder', 'psychological disorders']\n",
    "phecodes_dict[\"F334\"] = [296.22, 'Depressive disorder', 'psychological disorders']\n",
    "phecodes_dict[\"F338\"] = [296.22, 'Depressive disorder', 'psychological disorders']\n",
    "phecodes_dict[\"F403\"] = [300.13, 'Phobia', 'psychological disorders']\n",
    "phecodes_dict[\"F064\"] = [300.1, 'Anxiety disorder', 'psychological disorders']\n",
    "phecodes_dict[\"F40\"] = [300.1, 'Anxiety disorder', 'psychological disorders']\n",
    "phecodes_dict[\"F400\"] = [300.1, 'Anxiety disorder', 'psychological disorders']\n",
    "phecodes_dict[\"F401\"] = [300.1, 'Anxiety disorder', 'psychological disorders']\n",
    "phecodes_dict[\"F402\"] = [300.1, 'Anxiety disorder', 'psychological disorders']\n",
    "phecodes_dict[\"F408\"] = [300.1, 'Anxiety disorder', 'psychological disorders']\n",
    "phecodes_dict[\"F409\"] = [300.1, 'Anxiety disorder', 'psychological disorders']\n",
    "phecodes_dict[\"F410\"] = [300.1, 'Anxiety disorder', 'psychological disorders']\n",
    "phecodes_dict[\"F411\"] = [300.1, 'Anxiety disorder', 'psychological disorders']\n",
    "phecodes_dict[\"F412\"] = [300.1, 'Anxiety disorder', 'psychological disorders']\n",
    "phecodes_dict[\"F413\"] = [300.1, 'Anxiety disorder', 'psychological disorders']\n",
    "phecodes_dict[\"F418\"] = [300.1, 'Anxiety disorder', 'psychological disorders']\n",
    "phecodes_dict[\"F419\"] = [300.1, 'Anxiety disorder', 'psychological disorders']\n",
    "phecodes_dict[\"F606\"] = [300.1, 'Anxiety disorder', 'psychological disorders']\n",
    "phecodes_dict[\"F930\"] = [300.1, 'Anxiety disorder', 'psychological disorders']\n",
    "phecodes_dict[\"F931\"] = [300.1, 'Anxiety disorder', 'psychological disorders']\n",
    "phecodes_dict[\"F932\"] = [300.1, 'Anxiety disorder', 'psychological disorders']\n",
    "phecodes_dict[\"F500\"] = [305.2, 'Eating disorder', 'psychological disorders']\n",
    "phecodes_dict[\"F504\"] = [305.2, 'Eating disorder', 'psychological disorders']\n",
    "phecodes_dict[\"F518\"] = [327, 'Sleep disorders', 'Sleep disorders']\n",
    "phecodes_dict[\"F552\"] = [316, 'Substance addiction and disorders', 'Substance -related disorders'] \n",
    "phecodes_dict[\"F555\"] = [316, 'Substance addiction and disorders', 'Substance -related disorders']\n",
    "phecodes_dict[\"F558\"] = [316, 'Substance addiction and disorders', 'Substance -related disorders']\n",
    "phecodes_dict[\"F623\"] = [306, 'Other mental disorder', 'psychological disorders']\n",
    "phecodes_dict[\"F638\"] = [312.3, 'Impulse control disorder', 'Developmental/behavioral disorders']\n",
    "phecodes_dict[\"F629\"] = [306, 'Other mental disorder', 'psychological disorders']\n",
    "phecodes_dict[\"F7\"] = [315.3, 'Mental retardation', 'Developmental/behavioral disorders']\n",
    "phecodes_dict[\"F710\"] = [315.3, 'Mental retardation', 'Developmental/behavioral disorders']\n",
    "phecodes_dict[\"F718\"] = [315.3, 'Mental retardation', 'Developmental/behavioral disorders']\n",
    "phecodes_dict[\"F780\"] = [315.3, 'Mental retardation', 'Developmental/behavioral disorders']\n",
    "phecodes_dict[\"F791\"] = [315.3, 'Mental retardation', 'Developmental/behavioral disorders']\n",
    "phecodes_dict[\"F798\"] = [315.3, 'Mental retardation', 'Developmental/behavioral disorders']\n",
    "phecodes_dict[\"F81\"] = [315.1, 'Learning disorder', 'Developmental/behavioral disorders'] \n",
    "phecodes_dict[\"F813\"] = [315.1, 'Learning disorder', 'Developmental/behavioral disorders'] \n",
    "phecodes_dict[\"F83\"] = [315.1, 'Learning disorder', 'Developmental/behavioral disorders']\n",
    "phecodes_dict[\"F900\"] = [313.1, 'Attention deficit hyperactivity disorder', 'Developmental/behavioral disorders'] \n",
    "phecodes_dict[\"F908\"] = [313.1, 'Attention deficit hyperactivity disorder', 'Developmental/behavioral disorders']\n",
    "phecodes_dict[\"F928\"] = [312, 'Conduct disorders', 'Developmental/behavioral disorders']\n",
    "phecodes_dict[\"F933\"] = [313, 'Pervasive developmental disorders', 'Developmental/behavioral disorders']\n",
    "phecodes_dict[\"F98\"] = [313, 'Pervasive developmental disorders', 'Developmental/behavioral disorders'] \n",
    "phecodes_dict[\"F982\"] = [305.2, 'Eating disorder', 'psychological disorders']\n",
    "phecodes_dict[\"G40.\"] = [345, 'Epilepsy , recurrent seizures , convulsions', 'hereditary/degenerative nervous conditions ; other diseases of CNS']\n",
    "phecodes_dict[\"H50\"] = [378.1, 'Strabismus (not specified as paralytic)', 'other eye disorders']\n",
    "phecodes_dict[\"H549\"] = [367.9, 'Blindness and low vision', 'Blindness and low vision']\n",
    "phecodes_dict[\"H91\"] = [389, 'Hearing loss', 'Hearing loss and related disorders']\n",
    "phecodes_dict[\"J951\"] = [519.2, 'Respiratory complications', 'tracheostomy complications']\n",
    "phecodes_dict[\"K523\"] = [555.2, 'Ulcerative colitis', 'noninfective gastrointestinal disorders']\n",
    "phecodes_dict[\"K649\"] = [455, 'Hemorrhoids', 'diseases of veins and lymphatics']\n",
    "phecodes_dict[\"K720\"] = [571.8, 'Liver abscess and sequelae of chronic liver disease', 'Liver disease']\n",
    "phecodes_dict[\"K858\"] = [577.1, 'Acute pancreatitis', 'pancreatic disorders']\n",
    "phecodes_dict[\"L65\"] = [704.1, 'Alopecia', 'Diseases of hair and nails ']\n",
    "phecodes_dict[\"M090\"] = [714.2, 'Juvenile rheumatoid arthritis', 'Autoimmune arthritis and psoriasis'] \n",
    "phecodes_dict[\"M091\"] = [714.2, 'Juvenile rheumatoid arthritis', 'Autoimmune arthritis and psoriasis'] \n",
    "phecodes_dict[\"M248\"] = [742.9, 'Other derangement of joint', 'other non-traumatic joint disorders'] \n",
    "phecodes_dict[\"M609\"] = [313.1, 'Myopathy', 'Disorders of the peripheral nervous system'] \n",
    "phecodes_dict[\"M726\"] = [727, 'Symptoms of the muscles', 'Other muscular symptoms']\n",
    "phecodes_dict[\"M828\"] = [743.1, 'Osteoporosis NOS', 'osteopenia , osteoporosis , pathological fractures']\n",
    "phecodes_dict[\"N038\"] = [580.14, 'Chronic glomerulonephritis, NOS', 'diseases of kidney and ureters']\n",
    "phecodes_dict[\"O04\"] = [634, 'Miscarriage; stillbirth', 'complications of pregnancy'] \n",
    "phecodes_dict[\"O94\"] = [676, 'Other disorders of the breast associated with childbirth and disorders of lactation', 'COMPLICATIONS OF THE PUERPERIUM']\n",
    "phecodes_dict[\"P043\"] = [658, 'Maternal complication of pregnancy affecting fetus or newborn', 'Maternal complication of pregnancy affecting fetus or newborn']\n",
    "phecodes_dict[\"P044\"] = [658, 'Maternal complication of pregnancyaffecting fetus or newborn', 'Maternal complication of pregnancy affecting fetus or newborn']\n",
    "phecodes_dict[\"P070\"] = [637, 'Short gestation; low birth weight; and fetal growth retardation', 'miscarriage, early labor, hemorrhage']\n",
    "phecodes_dict[\"P071\"] = [637, 'Short gestation; low birth weight; and fetal growth retardation ', 'miscarriage, early labor, hemorrhage']\n",
    "phecodes_dict[\"Q044\"] = [752.2, 'Other specified congenital anomalies of nervous system', 'congenital anomalies of nervous system, spine']\n",
    "phecodes_dict[\"Q315\"] = [748, 'Anomalies of respiratory system, congenital', 'congenital anomalies of respiratory system, face and neck']\n",
    "phecodes_dict[\"Q64\"] = [751.2, 'Congenital anomalies of urinary system', 'congenital anomalies of gi, urinary tract']\n",
    "phecodes_dict[\"Q900\"] = [758.1, 'Chromosomal anomalies', 'All other congenital anomalies']\n",
    "phecodes_dict[\"Q914\"] = [758.1, 'Chromosomal anomalies', 'All other congenital anomalies']\n",
    "phecodes_dict[\"S327\"] = [1009, 'Injury, NOS', None]\n",
    "phecodes_dict[\"S361\"] = [1008, 'Crushing or internal injury to organs', None]\n",
    "phecodes_dict[\"T012\"] = [870, 'Open wounds of head; neck; and trunk', 'Open wound'] \n",
    "phecodes_dict[\"T141\"] = [1009, 'Injury, NOS', None]\n",
    "phecodes_dict[\"T142\"] = [1009, 'Injury, NOS', None] \n",
    "phecodes_dict[\"T4n\"] = [969, 'Poisoning by psychotropic agents', 'Poisoning By Drugs , Medicinal And Biological Substances']\n",
    "phecodes_dict[\"T740\"] = [1015, 'Effects of other external causes', None]\n",
    "phecodes_dict[\"T748\"] = [1015, 'Effects of other external causes', None]\n",
    "phecodes_dict[\"T742\"] = [1015, 'Effects of other external causes', None]\n",
    "phecodes_dict[\"X4n\"] = [981, 'Toxic effect of (non-ethyl) alcohol and petroleum and other solvents', 'Toxic effects of substances chiefly nonmedicinal as to source']\n",
    "phecodes_dict[\"X6n\"] = [297.2, 'Suicide or self-inflicted injury', 'psychological disorders']\n",
    "phecodes_dict[\"X61\"] = [297.2, 'Suicide or self-inflicted injury', 'psychological disorders'] \n",
    "phecodes_dict[\"X60\"] = [297.2, 'Suicide or self-inflicted injury', 'psychological disorders']\n",
    "phecodes_dict[\"X6nx\"] = [297.2, 'Suicide or self-inflicted injury', 'psychological disorders']\n",
    "phecodes_dict[\"X6n0\"] = [297.2, 'Suicide or self-inflicted injury', 'psychological disorders'] \n",
    "phecodes_dict[\"X6n1\"] = [297.2, 'Suicide or self-inflicted injury', 'psychological disorders']\n",
    "phecodes_dict[\"X6n2\"] = [297.2, 'Suicide or self-inflicted injury', 'psychological disorders'] \n",
    "phecodes_dict[\"X6n4\"] = [297.2, 'Suicide or self-inflicted injury', 'psychological disorders']\n",
    "phecodes_dict[\"X6n5\"] = [297.2, 'Suicide or self-inflicted injury', 'psychological disorders'] \n",
    "phecodes_dict[\"X6n6\"] = [297.2, 'Suicide or self-inflicted injury', 'psychological disorders']\n",
    "phecodes_dict[\"X6n8\"] = [297.2, 'Suicide or self-inflicted injury', 'psychological disorders'] \n",
    "phecodes_dict[\"X6n9\"] = [297.2, 'Suicide or self-inflicted injury', 'psychological disorders']\n",
    "phecodes_dict[\"Y912\"] = [981, 'Toxic effect of (non-ethyl) alcohol and petroleum and other solvents', 'Toxic effects of substances chiefly nonmedicinal as to source']\n",
    "phecodes_dict[\"Y913\"] = [981, 'Toxic effect of (non-ethyl) alcohol and petroleum and other solvents', 'Toxic effects of substances chiefly nonmedicinal as to source']\n",
    "##\n",
    "phecodes_dict[\"Y4n\"] =  [979, 'Adverse drug events and drug allergies', None]\n",
    "phecodes_dict[\"F530\"] = [674, 'Other complications of the puerperium, not elsewhere classified', None]\n",
    "phecodes_dict[\"X8n2\"] = [297.2, 'Suicide or self-inflicted injury', None]\n",
    "phecodes_dict[\"W76\"]  = [297.2, 'Suicide or self-inflicted injury', None]\n",
    "phecodes_dict[\"J950\"] = [519, 'Other diseases of respiratory system, not elsewhere classified', None]\n",
    "phecodes_dict[\"W5nx\"] = [939, 'Atopic/contact dermatitis due to other or unspecified', None]\n",
    "phecodes_dict[\"X591\"] = [1015, 'Effects of other external causes', None]\n",
    "phecodes_dict[\"Y609\"] = [1011, 'Complications of surgical and medical procedures', None]\n",
    "phecodes_dict[\"T910\"] = [915, 'Superficial injury without mention of infection', None]\n",
    "phecodes_dict[\"T941\"] = [1009, 'Injury, NOS ', None]\n",
    "phecodes_dict[\"Y906\"] = [317, 'Alcohol-related disorders', None]\n",
    "phecodes_dict[\"Y907\"] = [317, 'Alcohol-related disorders', None]\n",
    "##\n",
    "phecodes_dict[\"M811\"] = [1020, 'Juvenile osteochondrosis of hip and pelvis', None]\n",
    "phecodes_dict[\"R47\"] = [1021, 'Voice and resonance disorders', None]\n",
    "phecodes_dict[\"R62\"] = [1022, 'Lack of expected normal physiological development in childhood', None]\n",
    "phecodes_dict[\"R448\"] = [1023, None, None]\n",
    "phecodes_dict[\"R960\"] = [1024, 'Elevated prostate specific antigen [PSA]', None]\n",
    "phecodes_dict[\"E148\"] = [1025, 'Other specified diabetes mellitus with unspecified complications', None]\n",
    "phecodes_dict[\"R96\"] = [1026, 'Other sudden death, cause unknown', None]\n",
    "phecodes_dict[\"M530\"] = [1027, 'Other specified dorsopathies, not elsewhere classified', None]\n",
    "phecodes_dict[\"R52\"] = [1028, 'Pain, unspecified', None]\n",
    "phecodes_dict[\"R456\"] = [1029, 'Sudden alteration of consciousness', None]\n",
    "phecodes_dict[\"N188\"] = [1030, 'Other chronic kidney disease, stage 1', None]\n",
    "phecodes_dict[\"R10\"] = [1031, 'Abdominal and pelvic pain', None]\n",
    "phecodes_dict[\"R48\"] = [1032, 'Symptoms, signs and abnormal clinical and laboratory findings, not elsewhere classified', None]\n",
    "phecodes_dict[\"R636\"] = [1033, 'Polydipsia', None]\n",
    "phecodes_dict[\"R29\"] = [1034, 'Other symptoms and signs involving the nervous and musculoskeletal systems', None]\n",
    "phecodes_dict[\"R63\"] = [1033, 'Polydipsia', None]\n",
    "phecodes_dict[\"M818\"] = [1035, 'Other osteoporosis with pathological fracture', None]\n",
    "phecodes_dict[\"M511\"] = [1036, 'Other intervertebral disc displacement, lumbar region', None]\n",
    "phecodes_dict[\"M814\"] = [1037, 'Age-related osteoporosis with current pathological fracture', None]"
   ]
  },
  {
   "cell_type": "code",
   "execution_count": 21,
   "metadata": {},
   "outputs": [
    {
     "data": {
      "text/plain": [
       "9179"
      ]
     },
     "execution_count": 21,
     "metadata": {},
     "output_type": "execute_result"
    }
   ],
   "source": [
    "len(phecodes_dict)\n",
    "# before 9060 now 9179, 119 ICD10 are added"
   ]
  },
  {
   "cell_type": "code",
   "execution_count": 22,
   "metadata": {},
   "outputs": [
    {
     "name": "stdout",
     "output_type": "stream",
     "text": [
      "all not exist: 0\n",
      "0 unique ICD10 codes do not have corresponding phecodes:\n",
      "[]\n"
     ]
    }
   ],
   "source": [
    "# to find values in diagnoses_df['diagnosis'] that are not in phecodes_df['ICD10'] \n",
    "# Using isin() and ~ operator \n",
    "values_only_in_diagnoses_df = diagnoses_df[~diagnoses_df['diagnosis'].isin(phecodes_dict.keys())]['diagnosis']\n",
    "print(f\"all not exist: {len(values_only_in_diagnoses_df)}\")\n",
    "# The variable 'values_only_in_diagnoses_df' now contains the values in diagnoses_df['diagnosis'] that are not in phecodes_df['ICD10'] \n",
    "values_only_in_diagnoses_arr = values_only_in_diagnoses_df.unique()\n",
    "print(len(values_only_in_diagnoses_arr),'unique ICD10 codes do not have corresponding phecodes:')\n",
    "print(values_only_in_diagnoses_arr)\n"
   ]
  },
  {
   "cell_type": "code",
   "execution_count": 23,
   "metadata": {},
   "outputs": [],
   "source": [
    "#serialize and save the dictionary object into a file\n",
    "# phecodes_dict is a dictionary that mapps the ICD10s and Phecodes. \n",
    "pkl.dump(phecodes_dict , open('/home/kabank/workbench/.conda/analysis/kabank-data/phecodes_dict.pkl', 'wb'), protocol=4)"
   ]
  },
  {
   "attachments": {},
   "cell_type": "markdown",
   "metadata": {},
   "source": [
    "# ----------------------------------------- \n",
    "# Diagnoses cleaning\n",
    "# -----------------------------------------"
   ]
  },
  {
   "cell_type": "code",
   "execution_count": 24,
   "metadata": {},
   "outputs": [],
   "source": [
    "def replace_icd_with_phenotype(df): \n",
    "    col = \"diagnosis\"\n",
    "    for i in df.index:\n",
    "        if len(df[col][i]) > 4:\n",
    "            # Shorten codes that are too long\n",
    "            df.at[i, col] = df[col][i][:4]\n",
    "        if df[col][i] in phecodes_dict:\n",
    "            # Replace ICD-code with phenotype (actually with the column of Phecode)\n",
    "            icd_code = df.at[i, col]\n",
    "            #phecodes_dict['A00'][0] is 008\n",
    "            df.at[i, col] = phecodes_dict[icd_code][0]\n",
    "        else:\n",
    "            df.drop(index=i, inplace=True)\n",
    "\n",
    "replace_icd_with_phenotype(diagnoses_df)"
   ]
  },
  {
   "cell_type": "code",
   "execution_count": 25,
   "metadata": {},
   "outputs": [
    {
     "data": {
      "text/plain": [
       "42803"
      ]
     },
     "execution_count": 25,
     "metadata": {},
     "output_type": "execute_result"
    }
   ],
   "source": [
    "len(diagnoses_df)"
   ]
  },
  {
   "cell_type": "code",
   "execution_count": 26,
   "metadata": {},
   "outputs": [
    {
     "data": {
      "text/html": [
       "<div>\n",
       "<style scoped>\n",
       "    .dataframe tbody tr th:only-of-type {\n",
       "        vertical-align: middle;\n",
       "    }\n",
       "\n",
       "    .dataframe tbody tr th {\n",
       "        vertical-align: top;\n",
       "    }\n",
       "\n",
       "    .dataframe thead th {\n",
       "        text-align: right;\n",
       "    }\n",
       "</style>\n",
       "<table border=\"1\" class=\"dataframe\">\n",
       "  <thead>\n",
       "    <tr style=\"text-align: right;\">\n",
       "      <th></th>\n",
       "      <th>patient</th>\n",
       "      <th>episode_id</th>\n",
       "      <th>gender</th>\n",
       "      <th>axis</th>\n",
       "      <th>diagnosis</th>\n",
       "      <th>age_patient</th>\n",
       "    </tr>\n",
       "  </thead>\n",
       "  <tbody>\n",
       "    <tr>\n",
       "      <th>0</th>\n",
       "      <td>20323</td>\n",
       "      <td>13888.0</td>\n",
       "      <td>F</td>\n",
       "      <td>3</td>\n",
       "      <td>315.3</td>\n",
       "      <td>14</td>\n",
       "    </tr>\n",
       "    <tr>\n",
       "      <th>1</th>\n",
       "      <td>5513</td>\n",
       "      <td>19229.0</td>\n",
       "      <td>M</td>\n",
       "      <td>1</td>\n",
       "      <td>313</td>\n",
       "      <td>5</td>\n",
       "    </tr>\n",
       "    <tr>\n",
       "      <th>2</th>\n",
       "      <td>7620</td>\n",
       "      <td>10030.0</td>\n",
       "      <td>F</td>\n",
       "      <td>1</td>\n",
       "      <td>313</td>\n",
       "      <td>8</td>\n",
       "    </tr>\n",
       "    <tr>\n",
       "      <th>3</th>\n",
       "      <td>11364</td>\n",
       "      <td>21538.0</td>\n",
       "      <td>M</td>\n",
       "      <td>1</td>\n",
       "      <td>313.1</td>\n",
       "      <td>7</td>\n",
       "    </tr>\n",
       "    <tr>\n",
       "      <th>4</th>\n",
       "      <td>13712</td>\n",
       "      <td>23240.0</td>\n",
       "      <td>M</td>\n",
       "      <td>1</td>\n",
       "      <td>313.1</td>\n",
       "      <td>10</td>\n",
       "    </tr>\n",
       "  </tbody>\n",
       "</table>\n",
       "</div>"
      ],
      "text/plain": [
       "   patient episode_id gender  axis diagnosis  age_patient\n",
       "0    20323    13888.0      F     3     315.3           14\n",
       "1     5513    19229.0      M     1       313            5\n",
       "2     7620    10030.0      F     1       313            8\n",
       "3    11364    21538.0      M     1     313.1            7\n",
       "4    13712    23240.0      M     1     313.1           10"
      ]
     },
     "execution_count": 26,
     "metadata": {},
     "output_type": "execute_result"
    }
   ],
   "source": [
    "diagnoses_df.head()"
   ]
  },
  {
   "cell_type": "code",
   "execution_count": 27,
   "metadata": {},
   "outputs": [],
   "source": [
    "# Drop rows with null\n",
    "diagnoses_df = diagnoses_df.dropna(subset=['episode_id']) \n",
    "diagnoses_df = diagnoses_df.dropna(subset=['gender'])\n",
    "diagnoses_df = diagnoses_df.dropna(subset=['diagnosis']) \n",
    "diagnoses_df = diagnoses_df.dropna(subset=['age_patient'])"
   ]
  },
  {
   "cell_type": "code",
   "execution_count": 28,
   "metadata": {},
   "outputs": [
    {
     "data": {
      "text/plain": [
       "42803"
      ]
     },
     "execution_count": 28,
     "metadata": {},
     "output_type": "execute_result"
    }
   ],
   "source": [
    "len(diagnoses_df)"
   ]
  },
  {
   "cell_type": "code",
   "execution_count": 29,
   "metadata": {},
   "outputs": [],
   "source": [
    "# Group the diagnoses and drop diagnoses with less than 3 occurrences\n",
    "diagnoses_df = diagnoses_df.groupby(\"diagnosis\").filter(lambda x: len(x) > 3)"
   ]
  },
  {
   "cell_type": "code",
   "execution_count": 30,
   "metadata": {},
   "outputs": [
    {
     "name": "stdout",
     "output_type": "stream",
     "text": [
      "<class 'pandas.core.frame.DataFrame'>\n",
      "Index: 42293 entries, 0 to 42802\n",
      "Data columns (total 6 columns):\n",
      " #   Column       Non-Null Count  Dtype \n",
      "---  ------       --------------  ----- \n",
      " 0   patient      42293 non-null  int64 \n",
      " 1   episode_id   42293 non-null  object\n",
      " 2   gender       42293 non-null  object\n",
      " 3   axis         42293 non-null  int64 \n",
      " 4   diagnosis    42293 non-null  object\n",
      " 5   age_patient  42293 non-null  int64 \n",
      "dtypes: int64(3), object(3)\n",
      "memory usage: 2.3+ MB\n"
     ]
    }
   ],
   "source": [
    "diagnoses_df.info()"
   ]
  },
  {
   "cell_type": "code",
   "execution_count": 31,
   "metadata": {},
   "outputs": [
    {
     "data": {
      "text/plain": [
       "axis\n",
       "1    13967\n",
       "2     2157\n",
       "3      307\n",
       "4     4452\n",
       "Name: episode_id, dtype: int64"
      ]
     },
     "execution_count": 31,
     "metadata": {},
     "output_type": "execute_result"
    }
   ],
   "source": [
    "diagnoses_df.groupby('axis')['episode_id'].nunique()"
   ]
  },
  {
   "cell_type": "code",
   "execution_count": 32,
   "metadata": {},
   "outputs": [
    {
     "data": {
      "image/png": "[encoded data removed]",
      "text/plain": [
       "<Figure size 432x288 with 1 Axes>"
      ]
     },
     "metadata": {
      "needs_background": "light"
     },
     "output_type": "display_data"
    }
   ],
   "source": [
    "# Count of diagnoses/episodes per Axis\n",
    "\n",
    "counts = diagnoses_df.groupby('axis')['diagnosis'].count()\n",
    "# Create a bar chart\n",
    "bars = plt.bar(counts.index, counts.values, color = ['blue', 'orange', 'green', 'red'])\n",
    "custom_labels = ['axis 1', 'axis 2', 'axis 3', 'axis 4']  # Replace with your labels\n",
    "plt.xticks(counts.index, custom_labels)\n",
    "# Add labels and title\n",
    "plt.ylabel('Count')\n",
    "plt.title('Count of diagnoses/episodes per Axis')\n",
    "\n",
    "for bar in bars:\n",
    "    yval = bar.get_height()\n",
    "    plt.text(bar.get_x() + bar.get_width() / 2, yval, int(yval), ha='center', va='bottom', fontsize=10)\n",
    "\n",
    "# Show the plot\n",
    "plt.show()\n"
   ]
  },
  {
   "cell_type": "code",
   "execution_count": 33,
   "metadata": {},
   "outputs": [
    {
     "name": "stdout",
     "output_type": "stream",
     "text": [
      "       patient episode_id gender  axis diagnosis  age_patient\n",
      "0        20323    13888.0      F     3     315.3           14\n",
      "1         5513    19229.0      M     1       313            5\n",
      "2         7620    10030.0      F     1       313            8\n",
      "3        11364    21538.0      M     1     313.1            7\n",
      "4        13712    23240.0      M     1     313.1           10\n",
      "...        ...        ...    ...   ...       ...          ...\n",
      "42798    21348    22446.0      F     1     313.1           17\n",
      "42799     9565    26054.0      M     1       304            5\n",
      "42800    16115    19994.0      M     1     313.3           11\n",
      "42801    11080    21557.0      M     1    296.22           16\n",
      "42802      751    17944.0      F     1     300.3           12\n",
      "\n",
      "[42293 rows x 6 columns]\n"
     ]
    }
   ],
   "source": [
    "print(diagnoses_df)"
   ]
  },
  {
   "cell_type": "code",
   "execution_count": 34,
   "metadata": {},
   "outputs": [
    {
     "data": {
      "text/html": [
       "<div>\n",
       "<style scoped>\n",
       "    .dataframe tbody tr th:only-of-type {\n",
       "        vertical-align: middle;\n",
       "    }\n",
       "\n",
       "    .dataframe tbody tr th {\n",
       "        vertical-align: top;\n",
       "    }\n",
       "\n",
       "    .dataframe thead th {\n",
       "        text-align: right;\n",
       "    }\n",
       "</style>\n",
       "<table border=\"1\" class=\"dataframe\">\n",
       "  <thead>\n",
       "    <tr style=\"text-align: right;\">\n",
       "      <th></th>\n",
       "      <th>episode_id</th>\n",
       "      <th>gender</th>\n",
       "      <th>diagnosis</th>\n",
       "      <th>age_patient</th>\n",
       "    </tr>\n",
       "  </thead>\n",
       "  <tbody>\n",
       "    <tr>\n",
       "      <th>0</th>\n",
       "      <td>13888.0</td>\n",
       "      <td>F</td>\n",
       "      <td>315.3</td>\n",
       "      <td>14</td>\n",
       "    </tr>\n",
       "    <tr>\n",
       "      <th>1</th>\n",
       "      <td>19229.0</td>\n",
       "      <td>M</td>\n",
       "      <td>313</td>\n",
       "      <td>5</td>\n",
       "    </tr>\n",
       "    <tr>\n",
       "      <th>2</th>\n",
       "      <td>10030.0</td>\n",
       "      <td>F</td>\n",
       "      <td>313</td>\n",
       "      <td>8</td>\n",
       "    </tr>\n",
       "    <tr>\n",
       "      <th>3</th>\n",
       "      <td>21538.0</td>\n",
       "      <td>M</td>\n",
       "      <td>313.1</td>\n",
       "      <td>7</td>\n",
       "    </tr>\n",
       "    <tr>\n",
       "      <th>4</th>\n",
       "      <td>23240.0</td>\n",
       "      <td>M</td>\n",
       "      <td>313.1</td>\n",
       "      <td>10</td>\n",
       "    </tr>\n",
       "  </tbody>\n",
       "</table>\n",
       "</div>"
      ],
      "text/plain": [
       "  episode_id gender diagnosis  age_patient\n",
       "0    13888.0      F     315.3           14\n",
       "1    19229.0      M       313            5\n",
       "2    10030.0      F       313            8\n",
       "3    21538.0      M     313.1            7\n",
       "4    23240.0      M     313.1           10"
      ]
     },
     "execution_count": 34,
     "metadata": {},
     "output_type": "execute_result"
    }
   ],
   "source": [
    "# df containing list of diagnoses\n",
    "diagnoses_list_df = diagnoses_df.drop([\"patient\", \"axis\"], axis=1)\n",
    "diagnoses_list_df['diagnosis'] = diagnoses_list_df['diagnosis']. astype(str)\n",
    "diagnoses_list_df.head()"
   ]
  },
  {
   "cell_type": "code",
   "execution_count": 35,
   "metadata": {},
   "outputs": [
    {
     "name": "stdout",
     "output_type": "stream",
     "text": [
      "<class 'pandas.core.frame.DataFrame'>\n",
      "Index: 16390 entries, 10.0 to 9999.0\n",
      "Data columns (total 3 columns):\n",
      " #   Column       Non-Null Count  Dtype \n",
      "---  ------       --------------  ----- \n",
      " 0   diagnosis    16390 non-null  object\n",
      " 1   gender       16390 non-null  object\n",
      " 2   age_patient  16390 non-null  int64 \n",
      "dtypes: int64(1), object(2)\n",
      "memory usage: 512.2+ KB\n"
     ]
    },
    {
     "data": {
      "text/html": [
       "<div>\n",
       "<style scoped>\n",
       "    .dataframe tbody tr th:only-of-type {\n",
       "        vertical-align: middle;\n",
       "    }\n",
       "\n",
       "    .dataframe tbody tr th {\n",
       "        vertical-align: top;\n",
       "    }\n",
       "\n",
       "    .dataframe thead th {\n",
       "        text-align: right;\n",
       "    }\n",
       "</style>\n",
       "<table border=\"1\" class=\"dataframe\">\n",
       "  <thead>\n",
       "    <tr style=\"text-align: right;\">\n",
       "      <th></th>\n",
       "      <th>diagnosis</th>\n",
       "      <th>gender</th>\n",
       "      <th>age_patient</th>\n",
       "    </tr>\n",
       "    <tr>\n",
       "      <th>episode_id</th>\n",
       "      <th></th>\n",
       "      <th></th>\n",
       "      <th></th>\n",
       "    </tr>\n",
       "  </thead>\n",
       "  <tbody>\n",
       "    <tr>\n",
       "      <th>10.0</th>\n",
       "      <td>[313.1, 313, 300.9]</td>\n",
       "      <td>F</td>\n",
       "      <td>12</td>\n",
       "    </tr>\n",
       "    <tr>\n",
       "      <th>10001.0</th>\n",
       "      <td>[297.2, 969]</td>\n",
       "      <td>F</td>\n",
       "      <td>15</td>\n",
       "    </tr>\n",
       "    <tr>\n",
       "      <th>10002.0</th>\n",
       "      <td>[313.1]</td>\n",
       "      <td>M</td>\n",
       "      <td>11</td>\n",
       "    </tr>\n",
       "    <tr>\n",
       "      <th>10003.0</th>\n",
       "      <td>[312]</td>\n",
       "      <td>F</td>\n",
       "      <td>10</td>\n",
       "    </tr>\n",
       "    <tr>\n",
       "      <th>10004.0</th>\n",
       "      <td>[313.1, 313, 563]</td>\n",
       "      <td>F</td>\n",
       "      <td>9</td>\n",
       "    </tr>\n",
       "  </tbody>\n",
       "</table>\n",
       "</div>"
      ],
      "text/plain": [
       "                      diagnosis gender  age_patient\n",
       "episode_id                                         \n",
       "10.0        [313.1, 313, 300.9]      F           12\n",
       "10001.0            [297.2, 969]      F           15\n",
       "10002.0                 [313.1]      M           11\n",
       "10003.0                   [312]      F           10\n",
       "10004.0       [313.1, 313, 563]      F            9"
      ]
     },
     "execution_count": 35,
     "metadata": {},
     "output_type": "execute_result"
    }
   ],
   "source": [
    "diagnoses_list_df = diagnoses_list_df.groupby('episode_id').agg({\n",
    "    'diagnosis': lambda x: list(set(x)), \n",
    "    'gender': 'min', \n",
    "    'age_patient': 'min'\n",
    "})\n",
    "diagnoses_list_df[\"age_patient\"] = diagnoses_list_df[\"age_patient\"].astype(int)\n",
    "\n",
    "diagnoses_list_df.info()\n",
    "diagnoses_list_df.head()\n"
   ]
  },
  {
   "attachments": {},
   "cell_type": "markdown",
   "metadata": {},
   "source": [
    "# ----------------------------------------- \n",
    "# Demographics cleaning\n",
    "# -----------------------------------------"
   ]
  },
  {
   "cell_type": "markdown",
   "metadata": {},
   "source": [
    "# Add age group column\n",
    "diagnoses_list_df.loc[diagnoses_list_df[\"age_patient\"].between(0, 5), [\"age_group\"]] = \"Preschooler\"\n",
    "diagnoses_list_df.loc[diagnoses_list_df[\"age_patient\"].between(6, 11), [\"age_group\"]] = \"MiddleChildhood\"\n",
    "diagnoses_list_df.loc[diagnoses_list_df[\"age_patient\"].between(12, 18), [\"age_group\"]] = \"Teenager\" \n",
    "diagnoses_list_df.loc[diagnoses_list_df[\"age_patient\"].between(19, 60), [\"age_group\"]] = \"Adult\""
   ]
  },
  {
   "cell_type": "markdown",
   "metadata": {},
   "source": [
    "diagnoses_list_df[diagnoses_list_df[\"age_group\"].isna()]"
   ]
  },
  {
   "cell_type": "code",
   "execution_count": 36,
   "metadata": {},
   "outputs": [],
   "source": [
    "diagnoses_list_df = diagnoses_list_df[[\"diagnosis\"]]\n",
    "diagnoses_list_df = diagnoses_list_df.rename(columns={\"diagnosis\": \"diagnoses\"})"
   ]
  },
  {
   "cell_type": "code",
   "execution_count": 37,
   "metadata": {},
   "outputs": [
    {
     "data": {
      "text/html": [
       "<div>\n",
       "<style scoped>\n",
       "    .dataframe tbody tr th:only-of-type {\n",
       "        vertical-align: middle;\n",
       "    }\n",
       "\n",
       "    .dataframe tbody tr th {\n",
       "        vertical-align: top;\n",
       "    }\n",
       "\n",
       "    .dataframe thead th {\n",
       "        text-align: right;\n",
       "    }\n",
       "</style>\n",
       "<table border=\"1\" class=\"dataframe\">\n",
       "  <thead>\n",
       "    <tr style=\"text-align: right;\">\n",
       "      <th></th>\n",
       "      <th>diagnoses</th>\n",
       "    </tr>\n",
       "    <tr>\n",
       "      <th>episode_id</th>\n",
       "      <th></th>\n",
       "    </tr>\n",
       "  </thead>\n",
       "  <tbody>\n",
       "    <tr>\n",
       "      <th>10.0</th>\n",
       "      <td>[313.1, 313, 300.9]</td>\n",
       "    </tr>\n",
       "    <tr>\n",
       "      <th>10001.0</th>\n",
       "      <td>[297.2, 969]</td>\n",
       "    </tr>\n",
       "    <tr>\n",
       "      <th>10002.0</th>\n",
       "      <td>[313.1]</td>\n",
       "    </tr>\n",
       "    <tr>\n",
       "      <th>10003.0</th>\n",
       "      <td>[312]</td>\n",
       "    </tr>\n",
       "    <tr>\n",
       "      <th>10004.0</th>\n",
       "      <td>[313.1, 313, 563]</td>\n",
       "    </tr>\n",
       "  </tbody>\n",
       "</table>\n",
       "</div>"
      ],
      "text/plain": [
       "                      diagnoses\n",
       "episode_id                     \n",
       "10.0        [313.1, 313, 300.9]\n",
       "10001.0            [297.2, 969]\n",
       "10002.0                 [313.1]\n",
       "10003.0                   [312]\n",
       "10004.0       [313.1, 313, 563]"
      ]
     },
     "execution_count": 37,
     "metadata": {},
     "output_type": "execute_result"
    }
   ],
   "source": [
    "diagnoses_list_df.head()"
   ]
  },
  {
   "cell_type": "code",
   "execution_count": 38,
   "metadata": {},
   "outputs": [
    {
     "data": {
      "text/plain": [
       "16390"
      ]
     },
     "execution_count": 38,
     "metadata": {},
     "output_type": "execute_result"
    }
   ],
   "source": [
    "len(diagnoses_list_df) # 17,798"
   ]
  },
  {
   "cell_type": "markdown",
   "metadata": {},
   "source": [
    "# Drop 38 records with no gender info, \n",
    "diagnoses_list_df = diagnoses_list_df.drop( diagnoses_list_df[diagnoses_list_df['gender'] == \"0\"].index)\n",
    "len(diagnoses_list_df) #17,760"
   ]
  },
  {
   "cell_type": "code",
   "execution_count": 39,
   "metadata": {},
   "outputs": [
    {
     "data": {
      "text/html": [
       "<div>\n",
       "<style scoped>\n",
       "    .dataframe tbody tr th:only-of-type {\n",
       "        vertical-align: middle;\n",
       "    }\n",
       "\n",
       "    .dataframe tbody tr th {\n",
       "        vertical-align: top;\n",
       "    }\n",
       "\n",
       "    .dataframe thead th {\n",
       "        text-align: right;\n",
       "    }\n",
       "</style>\n",
       "<table border=\"1\" class=\"dataframe\">\n",
       "  <thead>\n",
       "    <tr style=\"text-align: right;\">\n",
       "      <th></th>\n",
       "      <th>diagnoses</th>\n",
       "    </tr>\n",
       "    <tr>\n",
       "      <th>episode_id</th>\n",
       "      <th></th>\n",
       "    </tr>\n",
       "  </thead>\n",
       "  <tbody>\n",
       "    <tr>\n",
       "      <th>10.0</th>\n",
       "      <td>[313.1, 313, 300.9]</td>\n",
       "    </tr>\n",
       "    <tr>\n",
       "      <th>10001.0</th>\n",
       "      <td>[297.2, 969]</td>\n",
       "    </tr>\n",
       "    <tr>\n",
       "      <th>10002.0</th>\n",
       "      <td>[313.1]</td>\n",
       "    </tr>\n",
       "    <tr>\n",
       "      <th>10003.0</th>\n",
       "      <td>[312]</td>\n",
       "    </tr>\n",
       "    <tr>\n",
       "      <th>10004.0</th>\n",
       "      <td>[313.1, 313, 563]</td>\n",
       "    </tr>\n",
       "  </tbody>\n",
       "</table>\n",
       "</div>"
      ],
      "text/plain": [
       "                      diagnoses\n",
       "episode_id                     \n",
       "10.0        [313.1, 313, 300.9]\n",
       "10001.0            [297.2, 969]\n",
       "10002.0                 [313.1]\n",
       "10003.0                   [312]\n",
       "10004.0       [313.1, 313, 563]"
      ]
     },
     "execution_count": 39,
     "metadata": {},
     "output_type": "execute_result"
    }
   ],
   "source": [
    "diagnoses_list_df.head()"
   ]
  },
  {
   "cell_type": "markdown",
   "metadata": {},
   "source": [
    "#167 have age_group = \"Adult\"\n",
    "# Drop adults, because not that many and CAMHS are mainly for children and adolescents\n",
    "diagnoses_list_df = diagnoses_list_df.drop(diagnoses_list_df[diagnoses_list_df['age_group'] == \"Adult\"]. index)\n",
    "len(diagnoses_list_df) #17593"
   ]
  },
  {
   "cell_type": "code",
   "execution_count": 40,
   "metadata": {},
   "outputs": [
    {
     "data": {
      "text/html": [
       "<div>\n",
       "<style scoped>\n",
       "    .dataframe tbody tr th:only-of-type {\n",
       "        vertical-align: middle;\n",
       "    }\n",
       "\n",
       "    .dataframe tbody tr th {\n",
       "        vertical-align: top;\n",
       "    }\n",
       "\n",
       "    .dataframe thead th {\n",
       "        text-align: right;\n",
       "    }\n",
       "</style>\n",
       "<table border=\"1\" class=\"dataframe\">\n",
       "  <thead>\n",
       "    <tr style=\"text-align: right;\">\n",
       "      <th></th>\n",
       "      <th>diagnoses</th>\n",
       "    </tr>\n",
       "    <tr>\n",
       "      <th>episode_id</th>\n",
       "      <th></th>\n",
       "    </tr>\n",
       "  </thead>\n",
       "  <tbody>\n",
       "    <tr>\n",
       "      <th>10.0</th>\n",
       "      <td>[313.1, 313, 300.9]</td>\n",
       "    </tr>\n",
       "    <tr>\n",
       "      <th>10001.0</th>\n",
       "      <td>[297.2, 969]</td>\n",
       "    </tr>\n",
       "    <tr>\n",
       "      <th>10002.0</th>\n",
       "      <td>[313.1]</td>\n",
       "    </tr>\n",
       "    <tr>\n",
       "      <th>10003.0</th>\n",
       "      <td>[312]</td>\n",
       "    </tr>\n",
       "    <tr>\n",
       "      <th>10004.0</th>\n",
       "      <td>[313.1, 313, 563]</td>\n",
       "    </tr>\n",
       "  </tbody>\n",
       "</table>\n",
       "</div>"
      ],
      "text/plain": [
       "                      diagnoses\n",
       "episode_id                     \n",
       "10.0        [313.1, 313, 300.9]\n",
       "10001.0            [297.2, 969]\n",
       "10002.0                 [313.1]\n",
       "10003.0                   [312]\n",
       "10004.0       [313.1, 313, 563]"
      ]
     },
     "execution_count": 40,
     "metadata": {},
     "output_type": "execute_result"
    }
   ],
   "source": [
    "diagnoses_list_df.head()"
   ]
  },
  {
   "cell_type": "markdown",
   "metadata": {},
   "source": [
    "# 2 have age_group=NaN\n",
    "diagnoses_list_df = diagnoses_list_df.dropna(subset=['age_group'])\n",
    "len(diagnoses_list_df) #17591"
   ]
  },
  {
   "cell_type": "code",
   "execution_count": 41,
   "metadata": {},
   "outputs": [],
   "source": [
    "# Remove dots in diagnoses\n",
    "for index, row in diagnoses_list_df.iterrows():\n",
    "    for j in range(len(row['diagnoses'])):\n",
    "        row['diagnoses'][j] = str(row['diagnoses'][j]).replace( '.', '')"
   ]
  },
  {
   "cell_type": "code",
   "execution_count": 42,
   "metadata": {},
   "outputs": [],
   "source": [
    "diagnoses_list_df.to_csv(\"/home/kabank/workbench/.conda/analysis/kabank-data/diagnoses_listed.csv\")"
   ]
  },
  {
   "cell_type": "code",
   "execution_count": 43,
   "metadata": {},
   "outputs": [
    {
     "data": {
      "text/plain": [
       "(16390, 1)"
      ]
     },
     "execution_count": 43,
     "metadata": {},
     "output_type": "execute_result"
    }
   ],
   "source": [
    "diagnoses_list_df.shape"
   ]
  },
  {
   "cell_type": "code",
   "execution_count": 44,
   "metadata": {},
   "outputs": [
    {
     "data": {
      "text/html": [
       "<div>\n",
       "<style scoped>\n",
       "    .dataframe tbody tr th:only-of-type {\n",
       "        vertical-align: middle;\n",
       "    }\n",
       "\n",
       "    .dataframe tbody tr th {\n",
       "        vertical-align: top;\n",
       "    }\n",
       "\n",
       "    .dataframe thead th {\n",
       "        text-align: right;\n",
       "    }\n",
       "</style>\n",
       "<table border=\"1\" class=\"dataframe\">\n",
       "  <thead>\n",
       "    <tr style=\"text-align: right;\">\n",
       "      <th></th>\n",
       "      <th>diagnoses</th>\n",
       "    </tr>\n",
       "    <tr>\n",
       "      <th>episode_id</th>\n",
       "      <th></th>\n",
       "    </tr>\n",
       "  </thead>\n",
       "  <tbody>\n",
       "    <tr>\n",
       "      <th>10.0</th>\n",
       "      <td>[3131, 313, 3009]</td>\n",
       "    </tr>\n",
       "    <tr>\n",
       "      <th>10001.0</th>\n",
       "      <td>[2972, 969]</td>\n",
       "    </tr>\n",
       "    <tr>\n",
       "      <th>10002.0</th>\n",
       "      <td>[3131]</td>\n",
       "    </tr>\n",
       "    <tr>\n",
       "      <th>10003.0</th>\n",
       "      <td>[312]</td>\n",
       "    </tr>\n",
       "    <tr>\n",
       "      <th>10004.0</th>\n",
       "      <td>[3131, 313, 563]</td>\n",
       "    </tr>\n",
       "  </tbody>\n",
       "</table>\n",
       "</div>"
      ],
      "text/plain": [
       "                    diagnoses\n",
       "episode_id                   \n",
       "10.0        [3131, 313, 3009]\n",
       "10001.0           [2972, 969]\n",
       "10002.0                [3131]\n",
       "10003.0                 [312]\n",
       "10004.0      [3131, 313, 563]"
      ]
     },
     "execution_count": 44,
     "metadata": {},
     "output_type": "execute_result"
    }
   ],
   "source": [
    "diagnoses_list_df.head()"
   ]
  },
  {
   "attachments": {},
   "cell_type": "markdown",
   "metadata": {},
   "source": [
    "# ----------------------------------------- \n",
    "# Prescriptions cleaning\n",
    "# -----------------------------------------"
   ]
  },
  {
   "cell_type": "code",
   "execution_count": 45,
   "metadata": {},
   "outputs": [
    {
     "data": {
      "text/html": [
       "<div>\n",
       "<style scoped>\n",
       "    .dataframe tbody tr th:only-of-type {\n",
       "        vertical-align: middle;\n",
       "    }\n",
       "\n",
       "    .dataframe tbody tr th {\n",
       "        vertical-align: top;\n",
       "    }\n",
       "\n",
       "    .dataframe thead th {\n",
       "        text-align: right;\n",
       "    }\n",
       "</style>\n",
       "<table border=\"1\" class=\"dataframe\">\n",
       "  <thead>\n",
       "    <tr style=\"text-align: right;\">\n",
       "      <th></th>\n",
       "      <th>episode_id</th>\n",
       "      <th>regulation</th>\n",
       "      <th>prescription_type</th>\n",
       "      <th>trade_name</th>\n",
       "      <th>atc_code</th>\n",
       "      <th>atc_name</th>\n",
       "    </tr>\n",
       "  </thead>\n",
       "  <tbody>\n",
       "    <tr>\n",
       "      <th>0</th>\n",
       "      <td>9.0</td>\n",
       "      <td>Fast</td>\n",
       "      <td>Blå</td>\n",
       "      <td>Zoloft</td>\n",
       "      <td>N06AB06</td>\n",
       "      <td>Sertralin</td>\n",
       "    </tr>\n",
       "    <tr>\n",
       "      <th>1</th>\n",
       "      <td>9.0</td>\n",
       "      <td>Fast</td>\n",
       "      <td>Blå</td>\n",
       "      <td>Zoloft</td>\n",
       "      <td>N06AB06</td>\n",
       "      <td>Sertralin</td>\n",
       "    </tr>\n",
       "    <tr>\n",
       "      <th>2</th>\n",
       "      <td>9.0</td>\n",
       "      <td>Fast</td>\n",
       "      <td>Blå</td>\n",
       "      <td>Zoloft</td>\n",
       "      <td>N06AB06</td>\n",
       "      <td>Sertralin</td>\n",
       "    </tr>\n",
       "    <tr>\n",
       "      <th>3</th>\n",
       "      <td>9.0</td>\n",
       "      <td>Fast</td>\n",
       "      <td>Blå</td>\n",
       "      <td>Fontex</td>\n",
       "      <td>N06AB03</td>\n",
       "      <td>Fluoksetin</td>\n",
       "    </tr>\n",
       "    <tr>\n",
       "      <th>4</th>\n",
       "      <td>27.0</td>\n",
       "      <td>Fast</td>\n",
       "      <td>Hvit</td>\n",
       "      <td>CIRCADIN</td>\n",
       "      <td>N05CH01</td>\n",
       "      <td>Melatonin</td>\n",
       "    </tr>\n",
       "  </tbody>\n",
       "</table>\n",
       "</div>"
      ],
      "text/plain": [
       "   episode_id regulation prescription_type trade_name atc_code    atc_name\n",
       "0         9.0       Fast               Blå     Zoloft  N06AB06   Sertralin\n",
       "1         9.0       Fast               Blå     Zoloft  N06AB06   Sertralin\n",
       "2         9.0       Fast               Blå     Zoloft  N06AB06   Sertralin\n",
       "3         9.0       Fast               Blå     Fontex  N06AB03  Fluoksetin\n",
       "4        27.0       Fast              Hvit   CIRCADIN  N05CH01   Melatonin"
      ]
     },
     "execution_count": 45,
     "metadata": {},
     "output_type": "execute_result"
    }
   ],
   "source": [
    "prescriptions_df.head()"
   ]
  },
  {
   "cell_type": "code",
   "execution_count": 46,
   "metadata": {},
   "outputs": [
    {
     "name": "stdout",
     "output_type": "stream",
     "text": [
      "<class 'pandas.core.frame.DataFrame'>\n",
      "RangeIndex: 56167 entries, 0 to 56166\n",
      "Data columns (total 6 columns):\n",
      " #   Column             Non-Null Count  Dtype  \n",
      "---  ------             --------------  -----  \n",
      " 0   episode_id         44685 non-null  float64\n",
      " 1   regulation         56167 non-null  object \n",
      " 2   prescription_type  39713 non-null  object \n",
      " 3   trade_name         56167 non-null  object \n",
      " 4   atc_code           40662 non-null  object \n",
      " 5   atc_name           31245 non-null  object \n",
      "dtypes: float64(1), object(5)\n",
      "memory usage: 2.6+ MB\n"
     ]
    }
   ],
   "source": [
    "prescriptions_df.info()\n",
    "# 11482 rows do not have episode_id"
   ]
  },
  {
   "cell_type": "code",
   "execution_count": 47,
   "metadata": {},
   "outputs": [],
   "source": [
    "# Remove spacing in atc codes\n",
    "prescriptions_df[\"atc_code\"] = [str(x).replace(' ', '') for x in prescriptions_df[\"atc_code\"]]"
   ]
  },
  {
   "cell_type": "code",
   "execution_count": 48,
   "metadata": {},
   "outputs": [
    {
     "name": "stdout",
     "output_type": "stream",
     "text": [
      "<class 'pandas.core.frame.DataFrame'>\n",
      "RangeIndex: 44685 entries, 0 to 44684\n",
      "Data columns (total 6 columns):\n",
      " #   Column             Non-Null Count  Dtype  \n",
      "---  ------             --------------  -----  \n",
      " 0   episode_id         44685 non-null  float64\n",
      " 1   regulation         44685 non-null  object \n",
      " 2   prescription_type  39697 non-null  object \n",
      " 3   trade_name         44685 non-null  object \n",
      " 4   atc_code           44685 non-null  object \n",
      " 5   atc_name           31242 non-null  object \n",
      "dtypes: float64(1), object(5)\n",
      "memory usage: 2.0+ MB\n"
     ]
    }
   ],
   "source": [
    "# Remove the prescription records with  no episodes id \n",
    "len(prescriptions_df[prescriptions_df['episode_id'].isna()]) #11,482\n",
    "prescriptions_df = prescriptions_df.drop(prescriptions_df[prescriptions_df['episode_id'].isna()].index)\n",
    "prescriptions_df.info()"
   ]
  },
  {
   "cell_type": "code",
   "execution_count": 49,
   "metadata": {},
   "outputs": [
    {
     "data": {
      "text/plain": [
       "4026"
      ]
     },
     "execution_count": 49,
     "metadata": {},
     "output_type": "execute_result"
    }
   ],
   "source": [
    "len(prescriptions_df[(prescriptions_df['atc_code'] == 'nan')]) #4,026"
   ]
  },
  {
   "cell_type": "code",
   "execution_count": 50,
   "metadata": {},
   "outputs": [
    {
     "data": {
      "text/plain": [
       "0"
      ]
     },
     "execution_count": 50,
     "metadata": {},
     "output_type": "execute_result"
    }
   ],
   "source": [
    "len(prescriptions_df[(prescriptions_df['atc_code'].isna())]) #0"
   ]
  },
  {
   "cell_type": "code",
   "execution_count": 51,
   "metadata": {},
   "outputs": [],
   "source": [
    "# The update to the ATC codes was carried out by using the trade names of the drugs\n",
    "def update_atc_code(df):\n",
    "    #df.atc_code = np.where(((df.atc_code == 'nan') & (df.trade_name.str.contains('Antiepileptika'))), 'N03A', df. atc_code)\n",
    "    #df.atc_code = np.where(((df.atc_code == 'nan') & ( df.trade_name.str.contains('Antidepresiva'))), 'N06A', df.atc_code)\n",
    "    df.atc_code = np.where((((df.atc_code.isna()) | (df.atc_code == 'nan')) & (df.trade_name == 'Concerta')), 'N06BA04', df.atc_code) \n",
    "    df.atc_code = np.where((((df.atc_code.isna()) | (df.atc_code == 'nan')) & (df.trade_name == 'Dexidrine')), 'N06BA02', df.atc_code) \n",
    "    df.atc_code = np.where((((df.atc_code.isna()) | (df.atc_code == 'nan')) & (df.trade_name == 'Melatonin')), 'N05CH01', df.atc_code) \n",
    "    df.atc_code = np.where((((df.atc_code.isna()) | (df.atc_code == 'nan')) & (df.trade_name == 'Metamina')), 'N06BA02', df.atc_code) \n",
    "    #df.atc_code = np.where(((df.atc_code == 'nan') & (df.trade_name.str.contains('Nevroleptika'))), 'N05A', df. atc_code)\n",
    "    #df.atc_code = np.where(((df.atc_code == 'nan') & ( df.trade_name.str.contains('Sentralstimulerende'))), 'N06BA', df.atc_code)\n",
    "\n",
    "update_atc_code(prescriptions_df)"
   ]
  },
  {
   "cell_type": "code",
   "execution_count": 52,
   "metadata": {},
   "outputs": [
    {
     "name": "stdout",
     "output_type": "stream",
     "text": [
      "Number of rows that atc_code is nan: 19\n",
      "['Frebini energy Drink Banan' 'Frebini energy fibre Drink sjokolade'\n",
      " 'Nutridrink Multi Fibre jordbær' 'Frebini energy fibre Drink vanilje'\n",
      " 'Nutridrink Compact jordbær'] 5\n"
     ]
    }
   ],
   "source": [
    "# The rest that we did not replace with any atc code\n",
    "print('Number of rows that atc_code is nan:', len(prescriptions_df[((prescriptions_df['atc_code'].isna())| (prescriptions_df['atc_code'] == 'nan'))]))\n",
    "unique_trade_name_of_nans = prescriptions_df[((prescriptions_df['atc_code'].isna())| (prescriptions_df['atc_code'] == 'nan'))]['trade_name'].unique()\n",
    "print(unique_trade_name_of_nans,len(unique_trade_name_of_nans))"
   ]
  },
  {
   "cell_type": "code",
   "execution_count": 53,
   "metadata": {},
   "outputs": [
    {
     "name": "stdout",
     "output_type": "stream",
     "text": [
      "<class 'pandas.core.frame.DataFrame'>\n",
      "Index: 44666 entries, 0 to 44684\n",
      "Data columns (total 6 columns):\n",
      " #   Column             Non-Null Count  Dtype  \n",
      "---  ------             --------------  -----  \n",
      " 0   episode_id         44666 non-null  float64\n",
      " 1   regulation         44666 non-null  object \n",
      " 2   prescription_type  39680 non-null  object \n",
      " 3   trade_name         44666 non-null  object \n",
      " 4   atc_code           44666 non-null  object \n",
      " 5   atc_name           31242 non-null  object \n",
      "dtypes: float64(1), object(5)\n",
      "memory usage: 2.4+ MB\n"
     ]
    }
   ],
   "source": [
    "# Remove the prescriptions that we did not have the related atc-codes which were all some energy drinks\n",
    "len(prescriptions_df[((prescriptions_df['atc_code'].isna())| (prescriptions_df['atc_code'] == 'nan'))]) #19\n",
    "prescriptions_df = prescriptions_df.drop(prescriptions_df[((prescriptions_df['atc_code'].isna())| (prescriptions_df['atc_code'] == 'nan'))].index)\n",
    "prescriptions_df.info()"
   ]
  },
  {
   "cell_type": "code",
   "execution_count": 54,
   "metadata": {},
   "outputs": [
    {
     "data": {
      "text/html": [
       "<div>\n",
       "<style scoped>\n",
       "    .dataframe tbody tr th:only-of-type {\n",
       "        vertical-align: middle;\n",
       "    }\n",
       "\n",
       "    .dataframe tbody tr th {\n",
       "        vertical-align: top;\n",
       "    }\n",
       "\n",
       "    .dataframe thead th {\n",
       "        text-align: right;\n",
       "    }\n",
       "</style>\n",
       "<table border=\"1\" class=\"dataframe\">\n",
       "  <thead>\n",
       "    <tr style=\"text-align: right;\">\n",
       "      <th></th>\n",
       "      <th>episode_id</th>\n",
       "      <th>regulation</th>\n",
       "      <th>prescription_type</th>\n",
       "      <th>trade_name</th>\n",
       "      <th>atc_code</th>\n",
       "      <th>atc_name</th>\n",
       "    </tr>\n",
       "  </thead>\n",
       "  <tbody>\n",
       "    <tr>\n",
       "      <th>0</th>\n",
       "      <td>9.0</td>\n",
       "      <td>Fast</td>\n",
       "      <td>Blå</td>\n",
       "      <td>Zoloft</td>\n",
       "      <td>N06AB06</td>\n",
       "      <td>Sertralin</td>\n",
       "    </tr>\n",
       "    <tr>\n",
       "      <th>1</th>\n",
       "      <td>9.0</td>\n",
       "      <td>Fast</td>\n",
       "      <td>Blå</td>\n",
       "      <td>Zoloft</td>\n",
       "      <td>N06AB06</td>\n",
       "      <td>Sertralin</td>\n",
       "    </tr>\n",
       "    <tr>\n",
       "      <th>2</th>\n",
       "      <td>9.0</td>\n",
       "      <td>Fast</td>\n",
       "      <td>Blå</td>\n",
       "      <td>Zoloft</td>\n",
       "      <td>N06AB06</td>\n",
       "      <td>Sertralin</td>\n",
       "    </tr>\n",
       "    <tr>\n",
       "      <th>3</th>\n",
       "      <td>9.0</td>\n",
       "      <td>Fast</td>\n",
       "      <td>Blå</td>\n",
       "      <td>Fontex</td>\n",
       "      <td>N06AB03</td>\n",
       "      <td>Fluoksetin</td>\n",
       "    </tr>\n",
       "  </tbody>\n",
       "</table>\n",
       "</div>"
      ],
      "text/plain": [
       "   episode_id regulation prescription_type trade_name atc_code    atc_name\n",
       "0         9.0       Fast               Blå     Zoloft  N06AB06   Sertralin\n",
       "1         9.0       Fast               Blå     Zoloft  N06AB06   Sertralin\n",
       "2         9.0       Fast               Blå     Zoloft  N06AB06   Sertralin\n",
       "3         9.0       Fast               Blå     Fontex  N06AB03  Fluoksetin"
      ]
     },
     "execution_count": 54,
     "metadata": {},
     "output_type": "execute_result"
    }
   ],
   "source": [
    "prescriptions_df[prescriptions_df['episode_id']==9]"
   ]
  },
  {
   "cell_type": "code",
   "execution_count": 55,
   "metadata": {},
   "outputs": [
    {
     "name": "stdout",
     "output_type": "stream",
     "text": [
      "<class 'pandas.core.frame.DataFrame'>\n",
      "Index: 44666 entries, 0 to 44684\n",
      "Data columns (total 2 columns):\n",
      " #   Column      Non-Null Count  Dtype  \n",
      "---  ------      --------------  -----  \n",
      " 0   episode_id  44666 non-null  float64\n",
      " 1   atc_code    44666 non-null  object \n",
      "dtypes: float64(1), object(1)\n",
      "memory usage: 1.0+ MB\n"
     ]
    }
   ],
   "source": [
    "# making new dataframe: atc_df\n",
    "atc_df = prescriptions_df[[\"episode_id\", \"atc_code\"]].copy()\n",
    "atc_df.info()"
   ]
  },
  {
   "cell_type": "code",
   "execution_count": 56,
   "metadata": {},
   "outputs": [
    {
     "data": {
      "text/html": [
       "<div>\n",
       "<style scoped>\n",
       "    .dataframe tbody tr th:only-of-type {\n",
       "        vertical-align: middle;\n",
       "    }\n",
       "\n",
       "    .dataframe tbody tr th {\n",
       "        vertical-align: top;\n",
       "    }\n",
       "\n",
       "    .dataframe thead th {\n",
       "        text-align: right;\n",
       "    }\n",
       "</style>\n",
       "<table border=\"1\" class=\"dataframe\">\n",
       "  <thead>\n",
       "    <tr style=\"text-align: right;\">\n",
       "      <th></th>\n",
       "      <th>episode_id</th>\n",
       "      <th>atc_code</th>\n",
       "    </tr>\n",
       "  </thead>\n",
       "  <tbody>\n",
       "    <tr>\n",
       "      <th>0</th>\n",
       "      <td>9.0</td>\n",
       "      <td>N06AB06</td>\n",
       "    </tr>\n",
       "    <tr>\n",
       "      <th>3</th>\n",
       "      <td>9.0</td>\n",
       "      <td>N06AB03</td>\n",
       "    </tr>\n",
       "    <tr>\n",
       "      <th>4</th>\n",
       "      <td>27.0</td>\n",
       "      <td>N05CH01</td>\n",
       "    </tr>\n",
       "    <tr>\n",
       "      <th>5</th>\n",
       "      <td>27.0</td>\n",
       "      <td>N06BA04</td>\n",
       "    </tr>\n",
       "    <tr>\n",
       "      <th>6</th>\n",
       "      <td>27.0</td>\n",
       "      <td>R06AD01</td>\n",
       "    </tr>\n",
       "    <tr>\n",
       "      <th>...</th>\n",
       "      <td>...</td>\n",
       "      <td>...</td>\n",
       "    </tr>\n",
       "    <tr>\n",
       "      <th>44674</th>\n",
       "      <td>30914.0</td>\n",
       "      <td>N06BA12</td>\n",
       "    </tr>\n",
       "    <tr>\n",
       "      <th>44676</th>\n",
       "      <td>30914.0</td>\n",
       "      <td>A06BA04</td>\n",
       "    </tr>\n",
       "    <tr>\n",
       "      <th>44677</th>\n",
       "      <td>30914.0</td>\n",
       "      <td>N06BA04</td>\n",
       "    </tr>\n",
       "    <tr>\n",
       "      <th>44678</th>\n",
       "      <td>30936.0</td>\n",
       "      <td>N06AB06</td>\n",
       "    </tr>\n",
       "    <tr>\n",
       "      <th>44679</th>\n",
       "      <td>30938.0</td>\n",
       "      <td>N06BA12</td>\n",
       "    </tr>\n",
       "  </tbody>\n",
       "</table>\n",
       "<p>8500 rows × 2 columns</p>\n",
       "</div>"
      ],
      "text/plain": [
       "       episode_id atc_code\n",
       "0             9.0  N06AB06\n",
       "3             9.0  N06AB03\n",
       "4            27.0  N05CH01\n",
       "5            27.0  N06BA04\n",
       "6            27.0  R06AD01\n",
       "...           ...      ...\n",
       "44674     30914.0  N06BA12\n",
       "44676     30914.0  A06BA04\n",
       "44677     30914.0  N06BA04\n",
       "44678     30936.0  N06AB06\n",
       "44679     30938.0  N06BA12\n",
       "\n",
       "[8500 rows x 2 columns]"
      ]
     },
     "execution_count": 56,
     "metadata": {},
     "output_type": "execute_result"
    }
   ],
   "source": [
    "atc_df[[\"episode_id\", \"atc_code\"]].drop_duplicates()"
   ]
  },
  {
   "cell_type": "code",
   "execution_count": 57,
   "metadata": {},
   "outputs": [
    {
     "data": {
      "text/html": [
       "<div>\n",
       "<style scoped>\n",
       "    .dataframe tbody tr th:only-of-type {\n",
       "        vertical-align: middle;\n",
       "    }\n",
       "\n",
       "    .dataframe tbody tr th {\n",
       "        vertical-align: top;\n",
       "    }\n",
       "\n",
       "    .dataframe thead th {\n",
       "        text-align: right;\n",
       "    }\n",
       "</style>\n",
       "<table border=\"1\" class=\"dataframe\">\n",
       "  <thead>\n",
       "    <tr style=\"text-align: right;\">\n",
       "      <th></th>\n",
       "      <th>atc_code</th>\n",
       "    </tr>\n",
       "  </thead>\n",
       "  <tbody>\n",
       "    <tr>\n",
       "      <th>0</th>\n",
       "      <td>N06AB06</td>\n",
       "    </tr>\n",
       "    <tr>\n",
       "      <th>3</th>\n",
       "      <td>N06AB03</td>\n",
       "    </tr>\n",
       "    <tr>\n",
       "      <th>4</th>\n",
       "      <td>N05CH01</td>\n",
       "    </tr>\n",
       "    <tr>\n",
       "      <th>5</th>\n",
       "      <td>N06BA04</td>\n",
       "    </tr>\n",
       "    <tr>\n",
       "      <th>6</th>\n",
       "      <td>R06AD01</td>\n",
       "    </tr>\n",
       "    <tr>\n",
       "      <th>...</th>\n",
       "      <td>...</td>\n",
       "    </tr>\n",
       "    <tr>\n",
       "      <th>38905</th>\n",
       "      <td>N05AD01</td>\n",
       "    </tr>\n",
       "    <tr>\n",
       "      <th>39057</th>\n",
       "      <td>B03BA03</td>\n",
       "    </tr>\n",
       "    <tr>\n",
       "      <th>41421</th>\n",
       "      <td>B03BA01</td>\n",
       "    </tr>\n",
       "    <tr>\n",
       "      <th>42305</th>\n",
       "      <td>N01BB02</td>\n",
       "    </tr>\n",
       "    <tr>\n",
       "      <th>42786</th>\n",
       "      <td>N05AE04</td>\n",
       "    </tr>\n",
       "  </tbody>\n",
       "</table>\n",
       "<p>129 rows × 1 columns</p>\n",
       "</div>"
      ],
      "text/plain": [
       "      atc_code\n",
       "0      N06AB06\n",
       "3      N06AB03\n",
       "4      N05CH01\n",
       "5      N06BA04\n",
       "6      R06AD01\n",
       "...        ...\n",
       "38905  N05AD01\n",
       "39057  B03BA03\n",
       "41421  B03BA01\n",
       "42305  N01BB02\n",
       "42786  N05AE04\n",
       "\n",
       "[129 rows x 1 columns]"
      ]
     },
     "execution_count": 57,
     "metadata": {},
     "output_type": "execute_result"
    }
   ],
   "source": [
    "atc_df[[\"atc_code\"]].drop_duplicates()\n",
    "#atc_df[[\"episode_id\"]].drop_duplicates()"
   ]
  },
  {
   "cell_type": "code",
   "execution_count": 58,
   "metadata": {},
   "outputs": [],
   "source": [
    "# Cut atc codes at 4 letters\n",
    "atc_df[\"atc_code_4\"] = [x[0:4] for x in atc_df[\"atc_code\"]]"
   ]
  },
  {
   "cell_type": "code",
   "execution_count": 59,
   "metadata": {},
   "outputs": [],
   "source": [
    "# Cut atc codes at 5 letters\n",
    "atc_df[\"atc_code_5\"] = [x[0:5] for x in atc_df[\"atc_code\"]]"
   ]
  },
  {
   "cell_type": "code",
   "execution_count": 60,
   "metadata": {},
   "outputs": [],
   "source": [
    "# Cut atc codes at 3 letters\n",
    "atc_df[\"atc_code_3\"] = [x[0:3] for x in atc_df[\"atc_code\"]]"
   ]
  },
  {
   "cell_type": "code",
   "execution_count": 61,
   "metadata": {},
   "outputs": [],
   "source": [
    "# Cut atc codes at 1 letters\n",
    "atc_df[\"atc_code_1\"] = [x[0:1] for x in atc_df[\"atc_code\"]]"
   ]
  },
  {
   "cell_type": "code",
   "execution_count": 62,
   "metadata": {},
   "outputs": [],
   "source": [
    "# Cut atc codes at 4 letters\n",
    "atc_df[\"atc_code\"] = [x[0:4] for x in atc_df[\"atc_code\"]]\n",
    "# Replace \"O\" with 0, because one instance is NO6B and not N06B\n",
    "atc_df[\"atc_code\"] = [str(x).replace('O', '0') for x in atc_df[\"atc_code\"]]\n"
   ]
  },
  {
   "cell_type": "code",
   "execution_count": 63,
   "metadata": {},
   "outputs": [
    {
     "data": {
      "text/html": [
       "<div>\n",
       "<style scoped>\n",
       "    .dataframe tbody tr th:only-of-type {\n",
       "        vertical-align: middle;\n",
       "    }\n",
       "\n",
       "    .dataframe tbody tr th {\n",
       "        vertical-align: top;\n",
       "    }\n",
       "\n",
       "    .dataframe thead th {\n",
       "        text-align: right;\n",
       "    }\n",
       "</style>\n",
       "<table border=\"1\" class=\"dataframe\">\n",
       "  <thead>\n",
       "    <tr style=\"text-align: right;\">\n",
       "      <th></th>\n",
       "      <th>episode_id</th>\n",
       "      <th>atc_code</th>\n",
       "      <th>atc_code_4</th>\n",
       "      <th>atc_code_5</th>\n",
       "      <th>atc_code_3</th>\n",
       "      <th>atc_code_1</th>\n",
       "    </tr>\n",
       "  </thead>\n",
       "  <tbody>\n",
       "    <tr>\n",
       "      <th>0</th>\n",
       "      <td>9.0</td>\n",
       "      <td>N06A</td>\n",
       "      <td>N06A</td>\n",
       "      <td>N06AB</td>\n",
       "      <td>N06</td>\n",
       "      <td>N</td>\n",
       "    </tr>\n",
       "    <tr>\n",
       "      <th>1</th>\n",
       "      <td>9.0</td>\n",
       "      <td>N06A</td>\n",
       "      <td>N06A</td>\n",
       "      <td>N06AB</td>\n",
       "      <td>N06</td>\n",
       "      <td>N</td>\n",
       "    </tr>\n",
       "    <tr>\n",
       "      <th>2</th>\n",
       "      <td>9.0</td>\n",
       "      <td>N06A</td>\n",
       "      <td>N06A</td>\n",
       "      <td>N06AB</td>\n",
       "      <td>N06</td>\n",
       "      <td>N</td>\n",
       "    </tr>\n",
       "    <tr>\n",
       "      <th>3</th>\n",
       "      <td>9.0</td>\n",
       "      <td>N06A</td>\n",
       "      <td>N06A</td>\n",
       "      <td>N06AB</td>\n",
       "      <td>N06</td>\n",
       "      <td>N</td>\n",
       "    </tr>\n",
       "    <tr>\n",
       "      <th>4</th>\n",
       "      <td>27.0</td>\n",
       "      <td>N05C</td>\n",
       "      <td>N05C</td>\n",
       "      <td>N05CH</td>\n",
       "      <td>N05</td>\n",
       "      <td>N</td>\n",
       "    </tr>\n",
       "  </tbody>\n",
       "</table>\n",
       "</div>"
      ],
      "text/plain": [
       "   episode_id atc_code atc_code_4 atc_code_5 atc_code_3 atc_code_1\n",
       "0         9.0     N06A       N06A      N06AB        N06          N\n",
       "1         9.0     N06A       N06A      N06AB        N06          N\n",
       "2         9.0     N06A       N06A      N06AB        N06          N\n",
       "3         9.0     N06A       N06A      N06AB        N06          N\n",
       "4        27.0     N05C       N05C      N05CH        N05          N"
      ]
     },
     "execution_count": 63,
     "metadata": {},
     "output_type": "execute_result"
    }
   ],
   "source": [
    "atc_df.head()"
   ]
  },
  {
   "cell_type": "code",
   "execution_count": 64,
   "metadata": {},
   "outputs": [],
   "source": [
    "# Make a dictionary to be used for converting letters in atc codes to numbers.\n",
    "# The dictionary is needed because FPMax and Apriori only accepts numbers\n",
    "alphabet_dict = {}\n",
    "for i in range(26):\n",
    "    letter = chr(i + ord('A'))\n",
    "    if i < 9:\n",
    "        alphabet_dict[letter] = \"0\" + str(i + 1)\n",
    "    else:\n",
    "        alphabet_dict[letter] = str(i + 1)\n",
    "        \n",
    "pkl.dump(alphabet_dict , open('/home/kabank/workbench/.conda/analysis/kabank-data/alphabet_dict.pkl', 'wb'), protocol=4)"
   ]
  },
  {
   "cell_type": "code",
   "execution_count": 65,
   "metadata": {},
   "outputs": [
    {
     "name": "stdout",
     "output_type": "stream",
     "text": [
      "{'A': '01', 'B': '02', 'C': '03', 'D': '04', 'E': '05', 'F': '06', 'G': '07', 'H': '08', 'I': '09', 'J': '10', 'K': '11', 'L': '12', 'M': '13', 'N': '14', 'O': '15', 'P': '16', 'Q': '17', 'R': '18', 'S': '19', 'T': '20', 'U': '21', 'V': '22', 'W': '23', 'X': '24', 'Y': '25', 'Z': '26'}\n"
     ]
    }
   ],
   "source": [
    "print(alphabet_dict)"
   ]
  },
  {
   "cell_type": "code",
   "execution_count": 66,
   "metadata": {},
   "outputs": [
    {
     "name": "stdout",
     "output_type": "stream",
     "text": [
      "       episode_id atc_code atc_code_4 atc_code_5 atc_code_3 atc_code_1\n",
      "0             9.0     N06A       N06A      N06AB        N06          N\n",
      "1             9.0     N06A       N06A      N06AB        N06          N\n",
      "2             9.0     N06A       N06A      N06AB        N06          N\n",
      "3             9.0     N06A       N06A      N06AB        N06          N\n",
      "4            27.0     N05C       N05C      N05CH        N05          N\n",
      "...           ...      ...        ...        ...        ...        ...\n",
      "44680     30938.0     N06B       N06B      N06BA        N06          N\n",
      "44681     30938.0     N06B       N06B      N06BA        N06          N\n",
      "44682     30938.0     N06B       N06B      N06BA        N06          N\n",
      "44683     30938.0     N06B       N06B      N06BA        N06          N\n",
      "44684     30938.0     N06B       N06B      N06BA        N06          N\n",
      "\n",
      "[44666 rows x 6 columns]\n"
     ]
    }
   ],
   "source": [
    "print(atc_df)"
   ]
  },
  {
   "cell_type": "code",
   "execution_count": 67,
   "metadata": {},
   "outputs": [
    {
     "name": "stdout",
     "output_type": "stream",
     "text": [
      "0        N06A\n",
      "1        N06A\n",
      "2        N06A\n",
      "3        N06A\n",
      "4        N05C\n",
      "         ... \n",
      "44680    N06B\n",
      "44681    N06B\n",
      "44682    N06B\n",
      "44683    N06B\n",
      "44684    N06B\n",
      "Name: atc_code, Length: 44666, dtype: object\n"
     ]
    }
   ],
   "source": [
    "print(atc_df['atc_code'])"
   ]
  },
  {
   "cell_type": "code",
   "execution_count": 68,
   "metadata": {},
   "outputs": [],
   "source": [
    "# Convert atc codes to numbers. Adding \"999\" in the beginning of all codes to be able to separate the codes from diagnosid codes\n",
    "for i in atc_df.index:\n",
    "    atc = atc_df[\"atc_code\"][i]\n",
    "    atc_string = \"999\" + alphabet_dict[atc[0]] + atc[1:3] + alphabet_dict[atc[3]]\n",
    "    atc_df.loc[i, \"atc_code\"] = atc_string\n",
    "\n",
    "atc_list_df = atc_df.copy()\n",
    "atc_list_df = atc_list_df.groupby('episode_id').agg( {'atc_code': lambda x: list(set(x))})\n",
    "atc_list_df.to_csv(\"/home/kabank/workbench/.conda/analysis/kabank-data/atc_listed.csv\")"
   ]
  },
  {
   "cell_type": "code",
   "execution_count": 69,
   "metadata": {},
   "outputs": [
    {
     "data": {
      "text/html": [
       "<div>\n",
       "<style scoped>\n",
       "    .dataframe tbody tr th:only-of-type {\n",
       "        vertical-align: middle;\n",
       "    }\n",
       "\n",
       "    .dataframe tbody tr th {\n",
       "        vertical-align: top;\n",
       "    }\n",
       "\n",
       "    .dataframe thead th {\n",
       "        text-align: right;\n",
       "    }\n",
       "</style>\n",
       "<table border=\"1\" class=\"dataframe\">\n",
       "  <thead>\n",
       "    <tr style=\"text-align: right;\">\n",
       "      <th></th>\n",
       "      <th>atc_code</th>\n",
       "    </tr>\n",
       "    <tr>\n",
       "      <th>episode_id</th>\n",
       "      <th></th>\n",
       "    </tr>\n",
       "  </thead>\n",
       "  <tbody>\n",
       "    <tr>\n",
       "      <th>9.0</th>\n",
       "      <td>[999140601]</td>\n",
       "    </tr>\n",
       "    <tr>\n",
       "      <th>27.0</th>\n",
       "      <td>[999180601, 999140503, 999140602, 999140601]</td>\n",
       "    </tr>\n",
       "    <tr>\n",
       "      <th>28.0</th>\n",
       "      <td>[999140601]</td>\n",
       "    </tr>\n",
       "    <tr>\n",
       "      <th>34.0</th>\n",
       "      <td>[999040601, 999140503, 999140602, 999080102]</td>\n",
       "    </tr>\n",
       "    <tr>\n",
       "      <th>38.0</th>\n",
       "      <td>[999140502, 999140601]</td>\n",
       "    </tr>\n",
       "  </tbody>\n",
       "</table>\n",
       "</div>"
      ],
      "text/plain": [
       "                                                atc_code\n",
       "episode_id                                              \n",
       "9.0                                          [999140601]\n",
       "27.0        [999180601, 999140503, 999140602, 999140601]\n",
       "28.0                                         [999140601]\n",
       "34.0        [999040601, 999140503, 999140602, 999080102]\n",
       "38.0                              [999140502, 999140601]"
      ]
     },
     "execution_count": 69,
     "metadata": {},
     "output_type": "execute_result"
    }
   ],
   "source": [
    "atc_list_df.head()"
   ]
  },
  {
   "cell_type": "code",
   "execution_count": 70,
   "metadata": {},
   "outputs": [
    {
     "name": "stdout",
     "output_type": "stream",
     "text": [
      "<class 'pandas.core.frame.DataFrame'>\n",
      "Index: 4459 entries, 9.0 to 30938.0\n",
      "Data columns (total 1 columns):\n",
      " #   Column    Non-Null Count  Dtype \n",
      "---  ------    --------------  ----- \n",
      " 0   atc_code  4459 non-null   object\n",
      "dtypes: object(1)\n",
      "memory usage: 69.7+ KB\n"
     ]
    }
   ],
   "source": [
    "atc_list_df.info()"
   ]
  },
  {
   "cell_type": "code",
   "execution_count": 71,
   "metadata": {},
   "outputs": [
    {
     "data": {
      "text/html": [
       "<div>\n",
       "<style scoped>\n",
       "    .dataframe tbody tr th:only-of-type {\n",
       "        vertical-align: middle;\n",
       "    }\n",
       "\n",
       "    .dataframe tbody tr th {\n",
       "        vertical-align: top;\n",
       "    }\n",
       "\n",
       "    .dataframe thead th {\n",
       "        text-align: right;\n",
       "    }\n",
       "</style>\n",
       "<table border=\"1\" class=\"dataframe\">\n",
       "  <thead>\n",
       "    <tr style=\"text-align: right;\">\n",
       "      <th></th>\n",
       "      <th>diagnoses</th>\n",
       "    </tr>\n",
       "    <tr>\n",
       "      <th>episode_id</th>\n",
       "      <th></th>\n",
       "    </tr>\n",
       "  </thead>\n",
       "  <tbody>\n",
       "    <tr>\n",
       "      <th>10.0</th>\n",
       "      <td>[3131, 313, 3009]</td>\n",
       "    </tr>\n",
       "    <tr>\n",
       "      <th>10001.0</th>\n",
       "      <td>[2972, 969]</td>\n",
       "    </tr>\n",
       "    <tr>\n",
       "      <th>10002.0</th>\n",
       "      <td>[3131]</td>\n",
       "    </tr>\n",
       "    <tr>\n",
       "      <th>10003.0</th>\n",
       "      <td>[312]</td>\n",
       "    </tr>\n",
       "    <tr>\n",
       "      <th>10004.0</th>\n",
       "      <td>[3131, 313, 563]</td>\n",
       "    </tr>\n",
       "  </tbody>\n",
       "</table>\n",
       "</div>"
      ],
      "text/plain": [
       "                    diagnoses\n",
       "episode_id                   \n",
       "10.0        [3131, 313, 3009]\n",
       "10001.0           [2972, 969]\n",
       "10002.0                [3131]\n",
       "10003.0                 [312]\n",
       "10004.0      [3131, 313, 563]"
      ]
     },
     "execution_count": 71,
     "metadata": {},
     "output_type": "execute_result"
    }
   ],
   "source": [
    "diagnoses_list_df.head()"
   ]
  },
  {
   "cell_type": "code",
   "execution_count": 72,
   "metadata": {},
   "outputs": [],
   "source": [
    "atc_list = pd.read_csv(\"/home/kabank/workbench/.conda/analysis/kabank-data/atc_listed.csv\")\n",
    "diagnoses_list = pd.read_csv(\"/home/kabank/workbench/.conda/analysis/kabank-data/diagnoses_listed.csv\")\n",
    "atc_list.rename(columns={'atc_code': 'atc_codes'}, inplace=True)"
   ]
  },
  {
   "cell_type": "code",
   "execution_count": 73,
   "metadata": {},
   "outputs": [
    {
     "name": "stdout",
     "output_type": "stream",
     "text": [
      "shape of atc dataframe: (4459, 2)\n",
      "shape of diagnoses dataframe: (16390, 2)\n"
     ]
    }
   ],
   "source": [
    "print('shape of atc dataframe:', atc_list.shape)\n",
    "print('shape of diagnoses dataframe:', diagnoses_list.shape)"
   ]
  },
  {
   "cell_type": "code",
   "execution_count": 74,
   "metadata": {},
   "outputs": [
    {
     "data": {
      "text/html": [
       "<div>\n",
       "<style scoped>\n",
       "    .dataframe tbody tr th:only-of-type {\n",
       "        vertical-align: middle;\n",
       "    }\n",
       "\n",
       "    .dataframe tbody tr th {\n",
       "        vertical-align: top;\n",
       "    }\n",
       "\n",
       "    .dataframe thead th {\n",
       "        text-align: right;\n",
       "    }\n",
       "</style>\n",
       "<table border=\"1\" class=\"dataframe\">\n",
       "  <thead>\n",
       "    <tr style=\"text-align: right;\">\n",
       "      <th></th>\n",
       "      <th>episode_id</th>\n",
       "      <th>atc_codes</th>\n",
       "    </tr>\n",
       "  </thead>\n",
       "  <tbody>\n",
       "    <tr>\n",
       "      <th>0</th>\n",
       "      <td>9.0</td>\n",
       "      <td>['999140601']</td>\n",
       "    </tr>\n",
       "    <tr>\n",
       "      <th>1</th>\n",
       "      <td>27.0</td>\n",
       "      <td>['999180601', '999140503', '999140602', '99914...</td>\n",
       "    </tr>\n",
       "    <tr>\n",
       "      <th>2</th>\n",
       "      <td>28.0</td>\n",
       "      <td>['999140601']</td>\n",
       "    </tr>\n",
       "    <tr>\n",
       "      <th>3</th>\n",
       "      <td>34.0</td>\n",
       "      <td>['999040601', '999140503', '999140602', '99908...</td>\n",
       "    </tr>\n",
       "    <tr>\n",
       "      <th>4</th>\n",
       "      <td>38.0</td>\n",
       "      <td>['999140502', '999140601']</td>\n",
       "    </tr>\n",
       "  </tbody>\n",
       "</table>\n",
       "</div>"
      ],
      "text/plain": [
       "   episode_id                                          atc_codes\n",
       "0         9.0                                      ['999140601']\n",
       "1        27.0  ['999180601', '999140503', '999140602', '99914...\n",
       "2        28.0                                      ['999140601']\n",
       "3        34.0  ['999040601', '999140503', '999140602', '99908...\n",
       "4        38.0                         ['999140502', '999140601']"
      ]
     },
     "execution_count": 74,
     "metadata": {},
     "output_type": "execute_result"
    }
   ],
   "source": [
    "atc_list.head()"
   ]
  },
  {
   "cell_type": "code",
   "execution_count": 75,
   "metadata": {},
   "outputs": [
    {
     "data": {
      "text/html": [
       "<div>\n",
       "<style scoped>\n",
       "    .dataframe tbody tr th:only-of-type {\n",
       "        vertical-align: middle;\n",
       "    }\n",
       "\n",
       "    .dataframe tbody tr th {\n",
       "        vertical-align: top;\n",
       "    }\n",
       "\n",
       "    .dataframe thead th {\n",
       "        text-align: right;\n",
       "    }\n",
       "</style>\n",
       "<table border=\"1\" class=\"dataframe\">\n",
       "  <thead>\n",
       "    <tr style=\"text-align: right;\">\n",
       "      <th></th>\n",
       "      <th>episode_id</th>\n",
       "      <th>diagnoses</th>\n",
       "    </tr>\n",
       "  </thead>\n",
       "  <tbody>\n",
       "    <tr>\n",
       "      <th>0</th>\n",
       "      <td>10.0</td>\n",
       "      <td>['3131', '313', '3009']</td>\n",
       "    </tr>\n",
       "    <tr>\n",
       "      <th>1</th>\n",
       "      <td>10001.0</td>\n",
       "      <td>['2972', '969']</td>\n",
       "    </tr>\n",
       "    <tr>\n",
       "      <th>2</th>\n",
       "      <td>10002.0</td>\n",
       "      <td>['3131']</td>\n",
       "    </tr>\n",
       "    <tr>\n",
       "      <th>3</th>\n",
       "      <td>10003.0</td>\n",
       "      <td>['312']</td>\n",
       "    </tr>\n",
       "    <tr>\n",
       "      <th>4</th>\n",
       "      <td>10004.0</td>\n",
       "      <td>['3131', '313', '563']</td>\n",
       "    </tr>\n",
       "  </tbody>\n",
       "</table>\n",
       "</div>"
      ],
      "text/plain": [
       "   episode_id                diagnoses\n",
       "0        10.0  ['3131', '313', '3009']\n",
       "1     10001.0          ['2972', '969']\n",
       "2     10002.0                 ['3131']\n",
       "3     10003.0                  ['312']\n",
       "4     10004.0   ['3131', '313', '563']"
      ]
     },
     "execution_count": 75,
     "metadata": {},
     "output_type": "execute_result"
    }
   ],
   "source": [
    "diagnoses_list.head()"
   ]
  },
  {
   "cell_type": "markdown",
   "metadata": {},
   "source": [
    "# Merging diagnoses and ATCs"
   ]
  },
  {
   "cell_type": "code",
   "execution_count": 76,
   "metadata": {},
   "outputs": [
    {
     "data": {
      "text/plain": [
       "(16390, 4)"
      ]
     },
     "execution_count": 76,
     "metadata": {},
     "output_type": "execute_result"
    }
   ],
   "source": [
    "import ast\n",
    "# -----------------------------------------\n",
    "# Merging the cleaned data into one df, making it ready for analysis\n",
    "# -----------------------------------------\n",
    "df = pd.merge(diagnoses_list , atc_list, on=\"episode_id\", how=\"left\")\n",
    "\n",
    "# Fill rows with nan with empty list\n",
    "df[\"atc_codes\"] = df[\"atc_codes\"].replace( [np.inf, -np.inf], np.nan).fillna(\"0\")\n",
    "for i in df.index:\n",
    "    if df[\"atc_codes\"][i] == \"0\":\n",
    "        df.at[i, \"atc_codes\"] = []\n",
    "df = df[[\"episode_id\", \"diagnoses\", \"atc_codes\"]].copy()\n",
    "\n",
    "# Merge diagnosis and atc columns\n",
    "df['diag_atc'] = df.apply(lambda row: eval(str(row['diagnoses'])) + eval(str(row['atc_codes'])), axis=1)\n",
    "\n",
    "df.shape"
   ]
  },
  {
   "cell_type": "code",
   "execution_count": 77,
   "metadata": {},
   "outputs": [
    {
     "name": "stdout",
     "output_type": "stream",
     "text": [
      "<class 'pandas.core.frame.DataFrame'>\n",
      "RangeIndex: 16390 entries, 0 to 16389\n",
      "Data columns (total 4 columns):\n",
      " #   Column      Non-Null Count  Dtype  \n",
      "---  ------      --------------  -----  \n",
      " 0   episode_id  16390 non-null  float64\n",
      " 1   diagnoses   16390 non-null  object \n",
      " 2   atc_codes   16390 non-null  object \n",
      " 3   diag_atc    16390 non-null  object \n",
      "dtypes: float64(1), object(3)\n",
      "memory usage: 512.3+ KB\n"
     ]
    }
   ],
   "source": [
    "df.info()"
   ]
  },
  {
   "cell_type": "code",
   "execution_count": 78,
   "metadata": {},
   "outputs": [
    {
     "data": {
      "text/html": [
       "<div>\n",
       "<style scoped>\n",
       "    .dataframe tbody tr th:only-of-type {\n",
       "        vertical-align: middle;\n",
       "    }\n",
       "\n",
       "    .dataframe tbody tr th {\n",
       "        vertical-align: top;\n",
       "    }\n",
       "\n",
       "    .dataframe thead th {\n",
       "        text-align: right;\n",
       "    }\n",
       "</style>\n",
       "<table border=\"1\" class=\"dataframe\">\n",
       "  <thead>\n",
       "    <tr style=\"text-align: right;\">\n",
       "      <th></th>\n",
       "      <th>episode_id</th>\n",
       "      <th>diagnoses</th>\n",
       "      <th>atc_codes</th>\n",
       "      <th>diag_atc</th>\n",
       "    </tr>\n",
       "  </thead>\n",
       "  <tbody>\n",
       "    <tr>\n",
       "      <th>0</th>\n",
       "      <td>10.0</td>\n",
       "      <td>['3131', '313', '3009']</td>\n",
       "      <td>[]</td>\n",
       "      <td>[3131, 313, 3009]</td>\n",
       "    </tr>\n",
       "    <tr>\n",
       "      <th>1</th>\n",
       "      <td>10001.0</td>\n",
       "      <td>['2972', '969']</td>\n",
       "      <td>[]</td>\n",
       "      <td>[2972, 969]</td>\n",
       "    </tr>\n",
       "    <tr>\n",
       "      <th>2</th>\n",
       "      <td>10002.0</td>\n",
       "      <td>['3131']</td>\n",
       "      <td>['999010602', '999140602']</td>\n",
       "      <td>[3131, 999010602, 999140602]</td>\n",
       "    </tr>\n",
       "    <tr>\n",
       "      <th>3</th>\n",
       "      <td>10003.0</td>\n",
       "      <td>['312']</td>\n",
       "      <td>[]</td>\n",
       "      <td>[312]</td>\n",
       "    </tr>\n",
       "    <tr>\n",
       "      <th>4</th>\n",
       "      <td>10004.0</td>\n",
       "      <td>['3131', '313', '563']</td>\n",
       "      <td>['999140602']</td>\n",
       "      <td>[3131, 313, 563, 999140602]</td>\n",
       "    </tr>\n",
       "  </tbody>\n",
       "</table>\n",
       "</div>"
      ],
      "text/plain": [
       "   episode_id                diagnoses                   atc_codes  \\\n",
       "0        10.0  ['3131', '313', '3009']                          []   \n",
       "1     10001.0          ['2972', '969']                          []   \n",
       "2     10002.0                 ['3131']  ['999010602', '999140602']   \n",
       "3     10003.0                  ['312']                          []   \n",
       "4     10004.0   ['3131', '313', '563']               ['999140602']   \n",
       "\n",
       "                       diag_atc  \n",
       "0             [3131, 313, 3009]  \n",
       "1                   [2972, 969]  \n",
       "2  [3131, 999010602, 999140602]  \n",
       "3                         [312]  \n",
       "4   [3131, 313, 563, 999140602]  "
      ]
     },
     "execution_count": 78,
     "metadata": {},
     "output_type": "execute_result"
    }
   ],
   "source": [
    "df.head()"
   ]
  },
  {
   "cell_type": "code",
   "execution_count": 79,
   "metadata": {},
   "outputs": [],
   "source": [
    "df.to_csv(\"/home/kabank/workbench/.conda/analysis/kabank-data/diagnoses_atc_episode.csv\", index=False)"
   ]
  },
  {
   "cell_type": "code",
   "execution_count": 80,
   "metadata": {},
   "outputs": [
    {
     "name": "stdout",
     "output_type": "stream",
     "text": [
      "This decrease the number of rows from 16390 to 8547 to just show the list containg more than 2 items.\n"
     ]
    }
   ],
   "source": [
    "df_exp= df[df['diag_atc'].apply(lambda x: len(x)>1)]\n",
    "print('This decrease the number of rows from', len(df), 'to' , len(df_exp) , 'to just show the list containg more than 2 items.') "
   ]
  },
  {
   "cell_type": "code",
   "execution_count": 81,
   "metadata": {},
   "outputs": [
    {
     "data": {
      "text/html": [
       "<div>\n",
       "<style scoped>\n",
       "    .dataframe tbody tr th:only-of-type {\n",
       "        vertical-align: middle;\n",
       "    }\n",
       "\n",
       "    .dataframe tbody tr th {\n",
       "        vertical-align: top;\n",
       "    }\n",
       "\n",
       "    .dataframe thead th {\n",
       "        text-align: right;\n",
       "    }\n",
       "</style>\n",
       "<table border=\"1\" class=\"dataframe\">\n",
       "  <thead>\n",
       "    <tr style=\"text-align: right;\">\n",
       "      <th></th>\n",
       "      <th>episode_id</th>\n",
       "      <th>diagnoses</th>\n",
       "      <th>atc_codes</th>\n",
       "      <th>diag_atc</th>\n",
       "    </tr>\n",
       "  </thead>\n",
       "  <tbody>\n",
       "    <tr>\n",
       "      <th>0</th>\n",
       "      <td>10.0</td>\n",
       "      <td>['3131', '313', '3009']</td>\n",
       "      <td>[]</td>\n",
       "      <td>[3131, 313, 3009]</td>\n",
       "    </tr>\n",
       "    <tr>\n",
       "      <th>1</th>\n",
       "      <td>10001.0</td>\n",
       "      <td>['2972', '969']</td>\n",
       "      <td>[]</td>\n",
       "      <td>[2972, 969]</td>\n",
       "    </tr>\n",
       "    <tr>\n",
       "      <th>2</th>\n",
       "      <td>10002.0</td>\n",
       "      <td>['3131']</td>\n",
       "      <td>['999010602', '999140602']</td>\n",
       "      <td>[3131, 999010602, 999140602]</td>\n",
       "    </tr>\n",
       "    <tr>\n",
       "      <th>4</th>\n",
       "      <td>10004.0</td>\n",
       "      <td>['3131', '313', '563']</td>\n",
       "      <td>['999140602']</td>\n",
       "      <td>[3131, 313, 563, 999140602]</td>\n",
       "    </tr>\n",
       "    <tr>\n",
       "      <th>7</th>\n",
       "      <td>10009.0</td>\n",
       "      <td>['3131']</td>\n",
       "      <td>['999140602']</td>\n",
       "      <td>[3131, 999140602]</td>\n",
       "    </tr>\n",
       "  </tbody>\n",
       "</table>\n",
       "</div>"
      ],
      "text/plain": [
       "   episode_id                diagnoses                   atc_codes  \\\n",
       "0        10.0  ['3131', '313', '3009']                          []   \n",
       "1     10001.0          ['2972', '969']                          []   \n",
       "2     10002.0                 ['3131']  ['999010602', '999140602']   \n",
       "4     10004.0   ['3131', '313', '563']               ['999140602']   \n",
       "7     10009.0                 ['3131']               ['999140602']   \n",
       "\n",
       "                       diag_atc  \n",
       "0             [3131, 313, 3009]  \n",
       "1                   [2972, 969]  \n",
       "2  [3131, 999010602, 999140602]  \n",
       "4   [3131, 313, 563, 999140602]  \n",
       "7             [3131, 999140602]  "
      ]
     },
     "execution_count": 81,
     "metadata": {},
     "output_type": "execute_result"
    }
   ],
   "source": [
    "df_exp.head()"
   ]
  },
  {
   "cell_type": "code",
   "execution_count": 82,
   "metadata": {},
   "outputs": [],
   "source": [
    "df_exp.to_csv(\"/home/kabank/workbench/.conda/analysis/kabank-data/diagnoses_atc_episode_exp.csv\", index=False)"
   ]
  },
  {
   "cell_type": "code",
   "execution_count": 83,
   "metadata": {},
   "outputs": [
    {
     "name": "stdout",
     "output_type": "stream",
     "text": [
      "<class 'pandas.core.frame.DataFrame'>\n",
      "Index: 8547 entries, 0 to 16389\n",
      "Data columns (total 4 columns):\n",
      " #   Column      Non-Null Count  Dtype  \n",
      "---  ------      --------------  -----  \n",
      " 0   episode_id  8547 non-null   float64\n",
      " 1   diagnoses   8547 non-null   object \n",
      " 2   atc_codes   8547 non-null   object \n",
      " 3   diag_atc    8547 non-null   object \n",
      "dtypes: float64(1), object(3)\n",
      "memory usage: 333.9+ KB\n"
     ]
    }
   ],
   "source": [
    "df_exp.info()"
   ]
  },
  {
   "cell_type": "markdown",
   "metadata": {},
   "source": [
    "# -----------------------------------------\n",
    "# EDA\n",
    "# -----------------------------------------"
   ]
  },
  {
   "cell_type": "code",
   "execution_count": 84,
   "metadata": {},
   "outputs": [
    {
     "name": "stdout",
     "output_type": "stream",
     "text": [
      "       patient episode_id gender  axis diagnosis  age_patient\n",
      "0        20323    13888.0      F     3     315.3           14\n",
      "1         5513    19229.0      M     1       313            5\n",
      "2         7620    10030.0      F     1       313            8\n",
      "3        11364    21538.0      M     1     313.1            7\n",
      "4        13712    23240.0      M     1     313.1           10\n",
      "...        ...        ...    ...   ...       ...          ...\n",
      "42798    21348    22446.0      F     1     313.1           17\n",
      "42799     9565    26054.0      M     1       304            5\n",
      "42800    16115    19994.0      M     1     313.3           11\n",
      "42801    11080    21557.0      M     1    296.22           16\n",
      "42802      751    17944.0      F     1     300.3           12\n",
      "\n",
      "[42293 rows x 6 columns]\n"
     ]
    }
   ],
   "source": [
    "print(diagnoses_df)"
   ]
  },
  {
   "cell_type": "code",
   "execution_count": 85,
   "metadata": {},
   "outputs": [],
   "source": [
    "# making reverse_alphabet_dict\n",
    "# Every number represents a letter\n",
    "with open('/home/kabank/workbench/.conda/analysis/Resources/alphabet_dict.pkl', 'rb') as a_dict:\n",
    "    alphabet_dict = pkl.load(a_dict)\n",
    "reverse_alphabet_dict = {} \n",
    "for i in range(26):\n",
    "    letter = chr(i + ord('A')) \n",
    "    if i < 9:\n",
    "        reverse_alphabet_dict[\"0\" + str(i+1)] = letter \n",
    "    else:\n",
    "        reverse_alphabet_dict[str(i+1)] = letter"
   ]
  },
  {
   "cell_type": "code",
   "execution_count": 86,
   "metadata": {},
   "outputs": [],
   "source": [
    "# making reverse_phecodes_dict\n",
    "with open('/home/kabank/workbench/.conda/analysis/kabank-data/phecodes_dict.pkl', 'rb') as p_dict:\n",
    "    phecodes_dict = pkl.load(p_dict)\n",
    "reverse_phecodes_dict = {}\n",
    "for item in phecodes_dict.values(): \n",
    "    reverse_phecodes_dict[str(item[0]).replace(\".\", \"\")] = item[1]"
   ]
  },
  {
   "cell_type": "code",
   "execution_count": 87,
   "metadata": {},
   "outputs": [],
   "source": [
    "# Function for converting numbers to labels for both diagnoses and ATC codes\n",
    "def convertback_to_icd_atc (textList):\n",
    "    plot_labels = []\n",
    "    for labels in textList:\n",
    "        labels_list = labels.replace(\"[\", \"\").replace(\"]\", \"\").replace( \"'\", \"\").replace(\" \", \"\").split(\",\")\n",
    "        #print(labels_list)\n",
    "        one_mfa_labels = []\n",
    "        for label in labels_list: \n",
    "            #print(label)\n",
    "            if label[0:3] == \"999\":\n",
    "                atc = label [3:]\n",
    "                atc_string = reverse_alphabet_dict[atc[0:2]] + atc[2:4] + reverse_alphabet_dict[atc[4:]] \n",
    "                one_mfa_labels.append(atc_string)\n",
    "            else:\n",
    "                code = reverse_phecodes_dict[label]\n",
    "                #print(code)\n",
    "                ICD = None  \n",
    "                # Iterate over the dictionary items\n",
    "                for key, value_list in phecodes_dict.items():\n",
    "                    if code in value_list:\n",
    "                        ICD = key\n",
    "                        #print(ICD)\n",
    "                        #break\n",
    "                one_mfa_labels.append(ICD) \n",
    "        plot_labels.append(one_mfa_labels)\n",
    "    return(plot_labels)"
   ]
  },
  {
   "cell_type": "code",
   "execution_count": 88,
   "metadata": {},
   "outputs": [
    {
     "name": "stdout",
     "output_type": "stream",
     "text": [
      "<class 'pandas.core.frame.DataFrame'>\n",
      "RangeIndex: 42803 entries, 0 to 42802\n",
      "Data columns (total 6 columns):\n",
      " #   Column       Non-Null Count  Dtype \n",
      "---  ------       --------------  ----- \n",
      " 0   patient      42803 non-null  int64 \n",
      " 1   episode_id   42803 non-null  object\n",
      " 2   gender       42803 non-null  object\n",
      " 3   axis         42803 non-null  int64 \n",
      " 4   diagnosis    42803 non-null  object\n",
      " 5   age_patient  42803 non-null  int64 \n",
      "dtypes: int64(3), object(3)\n",
      "memory usage: 2.0+ MB\n"
     ]
    },
    {
     "data": {
      "text/html": [
       "<div>\n",
       "<style scoped>\n",
       "    .dataframe tbody tr th:only-of-type {\n",
       "        vertical-align: middle;\n",
       "    }\n",
       "\n",
       "    .dataframe tbody tr th {\n",
       "        vertical-align: top;\n",
       "    }\n",
       "\n",
       "    .dataframe thead th {\n",
       "        text-align: right;\n",
       "    }\n",
       "</style>\n",
       "<table border=\"1\" class=\"dataframe\">\n",
       "  <thead>\n",
       "    <tr style=\"text-align: right;\">\n",
       "      <th></th>\n",
       "      <th>patient</th>\n",
       "      <th>episode_id</th>\n",
       "      <th>gender</th>\n",
       "      <th>axis</th>\n",
       "      <th>diagnosis</th>\n",
       "      <th>age_patient</th>\n",
       "    </tr>\n",
       "  </thead>\n",
       "  <tbody>\n",
       "    <tr>\n",
       "      <th>0</th>\n",
       "      <td>20323</td>\n",
       "      <td>13888.0</td>\n",
       "      <td>F</td>\n",
       "      <td>3</td>\n",
       "      <td>F70</td>\n",
       "      <td>14</td>\n",
       "    </tr>\n",
       "    <tr>\n",
       "      <th>1</th>\n",
       "      <td>5513</td>\n",
       "      <td>19229.0</td>\n",
       "      <td>M</td>\n",
       "      <td>1</td>\n",
       "      <td>F941</td>\n",
       "      <td>5</td>\n",
       "    </tr>\n",
       "    <tr>\n",
       "      <th>2</th>\n",
       "      <td>7620</td>\n",
       "      <td>10030.0</td>\n",
       "      <td>F</td>\n",
       "      <td>1</td>\n",
       "      <td>F941</td>\n",
       "      <td>8</td>\n",
       "    </tr>\n",
       "    <tr>\n",
       "      <th>3</th>\n",
       "      <td>11364</td>\n",
       "      <td>21538.0</td>\n",
       "      <td>M</td>\n",
       "      <td>1</td>\n",
       "      <td>F901</td>\n",
       "      <td>7</td>\n",
       "    </tr>\n",
       "    <tr>\n",
       "      <th>4</th>\n",
       "      <td>13712</td>\n",
       "      <td>23240.0</td>\n",
       "      <td>M</td>\n",
       "      <td>1</td>\n",
       "      <td>F901</td>\n",
       "      <td>10</td>\n",
       "    </tr>\n",
       "    <tr>\n",
       "      <th>...</th>\n",
       "      <td>...</td>\n",
       "      <td>...</td>\n",
       "      <td>...</td>\n",
       "      <td>...</td>\n",
       "      <td>...</td>\n",
       "      <td>...</td>\n",
       "    </tr>\n",
       "    <tr>\n",
       "      <th>42798</th>\n",
       "      <td>21348</td>\n",
       "      <td>22446.0</td>\n",
       "      <td>F</td>\n",
       "      <td>1</td>\n",
       "      <td>F900</td>\n",
       "      <td>17</td>\n",
       "    </tr>\n",
       "    <tr>\n",
       "      <th>42799</th>\n",
       "      <td>9565</td>\n",
       "      <td>26054.0</td>\n",
       "      <td>M</td>\n",
       "      <td>1</td>\n",
       "      <td>F438</td>\n",
       "      <td>5</td>\n",
       "    </tr>\n",
       "    <tr>\n",
       "      <th>42800</th>\n",
       "      <td>16115</td>\n",
       "      <td>19994.0</td>\n",
       "      <td>M</td>\n",
       "      <td>1</td>\n",
       "      <td>F849</td>\n",
       "      <td>11</td>\n",
       "    </tr>\n",
       "    <tr>\n",
       "      <th>42801</th>\n",
       "      <td>11080</td>\n",
       "      <td>21557.0</td>\n",
       "      <td>M</td>\n",
       "      <td>1</td>\n",
       "      <td>F320</td>\n",
       "      <td>16</td>\n",
       "    </tr>\n",
       "    <tr>\n",
       "      <th>42802</th>\n",
       "      <td>751</td>\n",
       "      <td>17944.0</td>\n",
       "      <td>F</td>\n",
       "      <td>1</td>\n",
       "      <td>F422</td>\n",
       "      <td>12</td>\n",
       "    </tr>\n",
       "  </tbody>\n",
       "</table>\n",
       "<p>42803 rows × 6 columns</p>\n",
       "</div>"
      ],
      "text/plain": [
       "       patient episode_id gender  axis diagnosis  age_patient\n",
       "0        20323    13888.0      F     3       F70           14\n",
       "1         5513    19229.0      M     1      F941            5\n",
       "2         7620    10030.0      F     1      F941            8\n",
       "3        11364    21538.0      M     1      F901            7\n",
       "4        13712    23240.0      M     1      F901           10\n",
       "...        ...        ...    ...   ...       ...          ...\n",
       "42798    21348    22446.0      F     1      F900           17\n",
       "42799     9565    26054.0      M     1      F438            5\n",
       "42800    16115    19994.0      M     1      F849           11\n",
       "42801    11080    21557.0      M     1      F320           16\n",
       "42802      751    17944.0      F     1      F422           12\n",
       "\n",
       "[42803 rows x 6 columns]"
      ]
     },
     "execution_count": 88,
     "metadata": {},
     "output_type": "execute_result"
    }
   ],
   "source": [
    "diagnoses_df = pd.read_csv( \"/home/kabank/workbench/.conda/analysis/Resources/Diagnosis.CSV\", decimal=',') \n",
    "diagnoses_df = diagnoses_df.dropna()\n",
    "diagnoses_df.info()\n",
    "diagnoses_df"
   ]
  },
  {
   "cell_type": "markdown",
   "metadata": {},
   "source": [
    "# Diagnoses count"
   ]
  },
  {
   "cell_type": "code",
   "execution_count": 89,
   "metadata": {},
   "outputs": [
    {
     "data": {
      "image/png": "[encoded data removed]",
      "text/plain": [
       "<Figure size 360x720 with 1 Axes>"
      ]
     },
     "metadata": {
      "needs_background": "light"
     },
     "output_type": "display_data"
    }
   ],
   "source": [
    "# -----------------------------------------\n",
    "# Bar chart showing diagnosis count. If a diagnosis occur more than once in an episode it is only counted once.\n",
    "#with groupby with both 'episode_id' and 'diagnosis'. any duplicate occurrences of a diagnosis within the same episode \n",
    "#will be aggregated into a single count.\n",
    "# -----------------------------------------\n",
    "plt.figure(figsize=(5, 10))\n",
    "unique_diag_episode_df = diagnoses_df.groupby( ['episode_id', 'diagnosis']).count().reset_index()\n",
    "diag_counts = unique_diag_episode_df.diagnosis.value_counts( ).loc[lambda x: x > 100]\n",
    "\n",
    "ax = sns.barplot(x=diag_counts, y=diag_counts.index, palette=\"YlGnBu\")\n",
    "\n",
    "ax.bar_label(ax.containers[0]) \n",
    "ax.set_xscale(\"log\")\n",
    "ax.set_xlabel(\"Number of Occurrences\")\n",
    "ax.set_ylabel(\"Diagnosis\")\n",
    "sns.despine(left=True, bottom=True)\n",
    "plt.show()"
   ]
  },
  {
   "cell_type": "code",
   "execution_count": 90,
   "metadata": {},
   "outputs": [
    {
     "data": {
      "image/png": "[encoded data removed]",
      "text/plain": [
       "<Figure size 360x720 with 1 Axes>"
      ]
     },
     "metadata": {
      "needs_background": "light"
     },
     "output_type": "display_data"
    }
   ],
   "source": [
    "# -----------------------------------------\n",
    "# Bar chart showing diagnosis count. If a diagnosis occur more than once in an episode it is only counted once.\n",
    "# in df: 17,591 diagnoses\n",
    "# -----------------------------------------\n",
    "plt.figure(figsize=(5, 10))\n",
    "unique_diag_episode_df = df.groupby( ['episode_id', 'diagnoses']).count().reset_index()\n",
    "diag_counts = unique_diag_episode_df.diagnoses.value_counts( ).loc[lambda x: x > 100]\n",
    "\n",
    "yvalue = convertback_to_icd_atc(diag_counts.index)\n",
    "yindex2 = pd.Index([str(sublist).replace(\"'\", \" \") for sublist in yvalue ])\n",
    "\n",
    "ax = sns.barplot(x=diag_counts, y=yindex2, palette=\"YlGnBu\")\n",
    "\n",
    "ax.bar_label(ax.containers[0]) \n",
    "ax.set_xscale(\"log\")\n",
    "ax.set_xlabel(\"Number of Occurrences\")\n",
    "ax.set_ylabel(\"Diagnosis\")\n",
    "sns.despine(left=True, bottom=True)\n",
    "plt.show()"
   ]
  },
  {
   "cell_type": "code",
   "execution_count": 91,
   "metadata": {},
   "outputs": [
    {
     "data": {
      "image/png": "[encoded data removed]",
      "text/plain": [
       "<Figure size 360x720 with 1 Axes>"
      ]
     },
     "metadata": {
      "needs_background": "light"
     },
     "output_type": "display_data"
    }
   ],
   "source": [
    "# -----------------------------------------\n",
    "# Bar chart showing diagnosis count. If a diagnosis occur more than once in an episode it is only counted once.\n",
    "#in df_exp: 9,679 - with more than one item in diag_atc\n",
    "# -----------------------------------------\n",
    "plt.figure(figsize=(5, 10))\n",
    "unique_diag_episode_df = df_exp.groupby( ['episode_id', 'diagnoses']).count().reset_index()\n",
    "diag_counts = unique_diag_episode_df.diagnoses.value_counts( ).loc[lambda x: x > 100]\n",
    "\n",
    "yvalue = convertback_to_icd_atc(diag_counts.index)\n",
    "yindex2 = pd.Index([str(sublist).replace(\"'\", \" \") for sublist in yvalue ])\n",
    "\n",
    "ax = sns.barplot(x=diag_counts, y=yindex2, palette=\"YlGnBu\")\n",
    "\n",
    "ax.bar_label(ax.containers[0]) \n",
    "ax.set_xscale(\"log\")\n",
    "ax.set_xlabel(\"Number of Occurrences\")\n",
    "ax.set_ylabel(\"Diagnosis\")\n",
    "sns.despine(left=True, bottom=True)\n",
    "plt.show()"
   ]
  },
  {
   "cell_type": "markdown",
   "metadata": {},
   "source": [
    "# Group the DataFrame by the number of diagnoses and count the number of episodes in each group"
   ]
  },
  {
   "cell_type": "code",
   "execution_count": 92,
   "metadata": {},
   "outputs": [
    {
     "data": {
      "text/plain": [
       "42803"
      ]
     },
     "execution_count": 92,
     "metadata": {},
     "output_type": "execute_result"
    }
   ],
   "source": [
    "len(diagnoses_df) #47,742"
   ]
  },
  {
   "cell_type": "code",
   "execution_count": 93,
   "metadata": {},
   "outputs": [
    {
     "name": "stdout",
     "output_type": "stream",
     "text": [
      "<class 'pandas.core.frame.DataFrame'>\n",
      "Index: 16390 entries, 10.0 to 9999.0\n",
      "Data columns (total 1 columns):\n",
      " #   Column     Non-Null Count  Dtype \n",
      "---  ------     --------------  ----- \n",
      " 0   diagnoses  16390 non-null  object\n",
      "dtypes: object(1)\n",
      "memory usage: 256.1+ KB\n"
     ]
    }
   ],
   "source": [
    "# diagnoses_list_df, has 17,591 episodes with list of diagnoses\n",
    "diagnoses_list_df.info()"
   ]
  },
  {
   "cell_type": "code",
   "execution_count": 94,
   "metadata": {},
   "outputs": [],
   "source": [
    "#del diagnoses_list_df2\n",
    "data = []\n",
    "diagnoses_list_df2 = pd.DataFrame(data, columns=['num_diagnoses'])"
   ]
  },
  {
   "cell_type": "code",
   "execution_count": 95,
   "metadata": {},
   "outputs": [],
   "source": [
    "diagnoses_list_df2 = pd.concat([diagnoses_list_df[['diagnoses']],diagnoses_list_df2], axis=1, join='outer', ignore_index=False)"
   ]
  },
  {
   "cell_type": "code",
   "execution_count": 96,
   "metadata": {},
   "outputs": [
    {
     "data": {
      "text/plain": [
       "16390"
      ]
     },
     "execution_count": 96,
     "metadata": {},
     "output_type": "execute_result"
    }
   ],
   "source": [
    "len(diagnoses_list_df2)"
   ]
  },
  {
   "cell_type": "code",
   "execution_count": 97,
   "metadata": {},
   "outputs": [],
   "source": [
    "diagnoses_list_df2['episode_id'] = diagnoses_list_df2.index"
   ]
  },
  {
   "cell_type": "code",
   "execution_count": 98,
   "metadata": {},
   "outputs": [],
   "source": [
    "diagnoses_list_df2.reset_index(drop=True, inplace=True)"
   ]
  },
  {
   "cell_type": "code",
   "execution_count": 99,
   "metadata": {},
   "outputs": [],
   "source": [
    "for i in range(len(diagnoses_list_df2)):\n",
    "    diagnoses_list_df2.loc[i, 'num_diagnoses'] = len(diagnoses_list_df2.loc[i, 'diagnoses'])"
   ]
  },
  {
   "cell_type": "code",
   "execution_count": 100,
   "metadata": {},
   "outputs": [
    {
     "data": {
      "text/html": [
       "<div>\n",
       "<style scoped>\n",
       "    .dataframe tbody tr th:only-of-type {\n",
       "        vertical-align: middle;\n",
       "    }\n",
       "\n",
       "    .dataframe tbody tr th {\n",
       "        vertical-align: top;\n",
       "    }\n",
       "\n",
       "    .dataframe thead th {\n",
       "        text-align: right;\n",
       "    }\n",
       "</style>\n",
       "<table border=\"1\" class=\"dataframe\">\n",
       "  <thead>\n",
       "    <tr style=\"text-align: right;\">\n",
       "      <th></th>\n",
       "      <th>diagnoses</th>\n",
       "      <th>num_diagnoses</th>\n",
       "      <th>episode_id</th>\n",
       "    </tr>\n",
       "  </thead>\n",
       "  <tbody>\n",
       "    <tr>\n",
       "      <th>0</th>\n",
       "      <td>[3131, 313, 3009]</td>\n",
       "      <td>3</td>\n",
       "      <td>10.0</td>\n",
       "    </tr>\n",
       "    <tr>\n",
       "      <th>1</th>\n",
       "      <td>[2972, 969]</td>\n",
       "      <td>2</td>\n",
       "      <td>10001.0</td>\n",
       "    </tr>\n",
       "    <tr>\n",
       "      <th>2</th>\n",
       "      <td>[3131]</td>\n",
       "      <td>1</td>\n",
       "      <td>10002.0</td>\n",
       "    </tr>\n",
       "    <tr>\n",
       "      <th>3</th>\n",
       "      <td>[312]</td>\n",
       "      <td>1</td>\n",
       "      <td>10003.0</td>\n",
       "    </tr>\n",
       "    <tr>\n",
       "      <th>4</th>\n",
       "      <td>[3131, 313, 563]</td>\n",
       "      <td>3</td>\n",
       "      <td>10004.0</td>\n",
       "    </tr>\n",
       "    <tr>\n",
       "      <th>...</th>\n",
       "      <td>...</td>\n",
       "      <td>...</td>\n",
       "      <td>...</td>\n",
       "    </tr>\n",
       "    <tr>\n",
       "      <th>16385</th>\n",
       "      <td>[3131, 3133, 476, 3132, 3003]</td>\n",
       "      <td>5</td>\n",
       "      <td>9992.0</td>\n",
       "    </tr>\n",
       "    <tr>\n",
       "      <th>16386</th>\n",
       "      <td>[7981]</td>\n",
       "      <td>1</td>\n",
       "      <td>9993.0</td>\n",
       "    </tr>\n",
       "    <tr>\n",
       "      <th>16387</th>\n",
       "      <td>[3001]</td>\n",
       "      <td>1</td>\n",
       "      <td>9995.0</td>\n",
       "    </tr>\n",
       "    <tr>\n",
       "      <th>16388</th>\n",
       "      <td>[819, 313, 3151]</td>\n",
       "      <td>3</td>\n",
       "      <td>9996.0</td>\n",
       "    </tr>\n",
       "    <tr>\n",
       "      <th>16389</th>\n",
       "      <td>[304, 2501]</td>\n",
       "      <td>2</td>\n",
       "      <td>9999.0</td>\n",
       "    </tr>\n",
       "  </tbody>\n",
       "</table>\n",
       "<p>16390 rows × 3 columns</p>\n",
       "</div>"
      ],
      "text/plain": [
       "                           diagnoses num_diagnoses episode_id\n",
       "0                  [3131, 313, 3009]             3       10.0\n",
       "1                        [2972, 969]             2    10001.0\n",
       "2                             [3131]             1    10002.0\n",
       "3                              [312]             1    10003.0\n",
       "4                   [3131, 313, 563]             3    10004.0\n",
       "...                              ...           ...        ...\n",
       "16385  [3131, 3133, 476, 3132, 3003]             5     9992.0\n",
       "16386                         [7981]             1     9993.0\n",
       "16387                         [3001]             1     9995.0\n",
       "16388               [819, 313, 3151]             3     9996.0\n",
       "16389                    [304, 2501]             2     9999.0\n",
       "\n",
       "[16390 rows x 3 columns]"
      ]
     },
     "execution_count": 100,
     "metadata": {},
     "output_type": "execute_result"
    }
   ],
   "source": [
    "diagnoses_list_df2"
   ]
  },
  {
   "cell_type": "code",
   "execution_count": 101,
   "metadata": {},
   "outputs": [],
   "source": [
    "# Group the DataFrame by the number of diagnoses and count the number of episodes in each group\n",
    "grouped_df = diagnoses_list_df2.groupby('num_diagnoses').size().reset_index(name='num_episodes')"
   ]
  },
  {
   "cell_type": "code",
   "execution_count": 102,
   "metadata": {},
   "outputs": [
    {
     "data": {
      "text/html": [
       "<div>\n",
       "<style scoped>\n",
       "    .dataframe tbody tr th:only-of-type {\n",
       "        vertical-align: middle;\n",
       "    }\n",
       "\n",
       "    .dataframe tbody tr th {\n",
       "        vertical-align: top;\n",
       "    }\n",
       "\n",
       "    .dataframe thead th {\n",
       "        text-align: right;\n",
       "    }\n",
       "</style>\n",
       "<table border=\"1\" class=\"dataframe\">\n",
       "  <thead>\n",
       "    <tr style=\"text-align: right;\">\n",
       "      <th></th>\n",
       "      <th>diagnoses</th>\n",
       "      <th>num_diagnoses</th>\n",
       "      <th>episode_id</th>\n",
       "    </tr>\n",
       "  </thead>\n",
       "  <tbody>\n",
       "    <tr>\n",
       "      <th>2</th>\n",
       "      <td>[3131]</td>\n",
       "      <td>1</td>\n",
       "      <td>10002.0</td>\n",
       "    </tr>\n",
       "    <tr>\n",
       "      <th>3</th>\n",
       "      <td>[312]</td>\n",
       "      <td>1</td>\n",
       "      <td>10003.0</td>\n",
       "    </tr>\n",
       "    <tr>\n",
       "      <th>5</th>\n",
       "      <td>[29622]</td>\n",
       "      <td>1</td>\n",
       "      <td>10005.0</td>\n",
       "    </tr>\n",
       "    <tr>\n",
       "      <th>6</th>\n",
       "      <td>[2972]</td>\n",
       "      <td>1</td>\n",
       "      <td>10006.0</td>\n",
       "    </tr>\n",
       "    <tr>\n",
       "      <th>7</th>\n",
       "      <td>[3131]</td>\n",
       "      <td>1</td>\n",
       "      <td>10009.0</td>\n",
       "    </tr>\n",
       "    <tr>\n",
       "      <th>...</th>\n",
       "      <td>...</td>\n",
       "      <td>...</td>\n",
       "      <td>...</td>\n",
       "    </tr>\n",
       "    <tr>\n",
       "      <th>16381</th>\n",
       "      <td>[3151]</td>\n",
       "      <td>1</td>\n",
       "      <td>9987.0</td>\n",
       "    </tr>\n",
       "    <tr>\n",
       "      <th>16382</th>\n",
       "      <td>[3001]</td>\n",
       "      <td>1</td>\n",
       "      <td>9989.0</td>\n",
       "    </tr>\n",
       "    <tr>\n",
       "      <th>16384</th>\n",
       "      <td>[29622]</td>\n",
       "      <td>1</td>\n",
       "      <td>9991.0</td>\n",
       "    </tr>\n",
       "    <tr>\n",
       "      <th>16386</th>\n",
       "      <td>[7981]</td>\n",
       "      <td>1</td>\n",
       "      <td>9993.0</td>\n",
       "    </tr>\n",
       "    <tr>\n",
       "      <th>16387</th>\n",
       "      <td>[3001]</td>\n",
       "      <td>1</td>\n",
       "      <td>9995.0</td>\n",
       "    </tr>\n",
       "  </tbody>\n",
       "</table>\n",
       "<p>9693 rows × 3 columns</p>\n",
       "</div>"
      ],
      "text/plain": [
       "      diagnoses num_diagnoses episode_id\n",
       "2        [3131]             1    10002.0\n",
       "3         [312]             1    10003.0\n",
       "5       [29622]             1    10005.0\n",
       "6        [2972]             1    10006.0\n",
       "7        [3131]             1    10009.0\n",
       "...         ...           ...        ...\n",
       "16381    [3151]             1     9987.0\n",
       "16382    [3001]             1     9989.0\n",
       "16384   [29622]             1     9991.0\n",
       "16386    [7981]             1     9993.0\n",
       "16387    [3001]             1     9995.0\n",
       "\n",
       "[9693 rows x 3 columns]"
      ]
     },
     "execution_count": 102,
     "metadata": {},
     "output_type": "execute_result"
    }
   ],
   "source": [
    "diagnoses_list_df2.head()\n",
    "\n",
    "diagnoses_list_df2[diagnoses_list_df2['diagnoses'].apply(len) == 0] # We did not keep the rows that diagnoses is null or []\n",
    "\n",
    "diagnoses_list_df2[diagnoses_list_df2['diagnoses'].apply(len) == 1] # 9759 rows "
   ]
  },
  {
   "cell_type": "code",
   "execution_count": 103,
   "metadata": {},
   "outputs": [
    {
     "name": "stdout",
     "output_type": "stream",
     "text": [
      "   num_diagnoses  num_episodes\n",
      "0              1          9693\n",
      "1              2          4355\n",
      "2              3          1590\n",
      "3              4           509\n",
      "4              5           155\n",
      "5              6            56\n",
      "6              7            19\n",
      "7              8             8\n",
      "8              9             4\n",
      "9             10             1\n"
     ]
    }
   ],
   "source": [
    "print(grouped_df)"
   ]
  },
  {
   "cell_type": "code",
   "execution_count": 104,
   "metadata": {},
   "outputs": [
    {
     "data": {
      "image/png": "[encoded data removed]",
      "text/plain": [
       "<Figure size 720x360 with 1 Axes>"
      ]
     },
     "metadata": {
      "needs_background": "light"
     },
     "output_type": "display_data"
    }
   ],
   "source": [
    "# show number of diagnoses per episode in initial dataset\n",
    "plt.figure(figsize=(10, 5))\n",
    "ax = sns.barplot(x=grouped_df['num_diagnoses'] , y=grouped_df['num_episodes'] , palette=\"YlGnBu\")\n",
    "ax.bar_label(ax.containers[0])\n",
    "ax.set_xlabel('Number of Diagnoses per Episode')\n",
    "ax.set_ylabel('Number of Episodes')\n",
    "sns.despine(left=True, bottom=True)\n",
    "#plt.savefig('/home/kabank/workbench/.conda/analysis/ias_Diagrams/nrdiagnosesperepisode_initial.pdf')\n",
    "plt.show()"
   ]
  },
  {
   "cell_type": "code",
   "execution_count": 105,
   "metadata": {},
   "outputs": [
    {
     "name": "stdout",
     "output_type": "stream",
     "text": [
      "<class 'pandas.core.frame.DataFrame'>\n",
      "Index: 8547 entries, 0 to 16389\n",
      "Data columns (total 4 columns):\n",
      " #   Column      Non-Null Count  Dtype  \n",
      "---  ------      --------------  -----  \n",
      " 0   episode_id  8547 non-null   float64\n",
      " 1   diagnoses   8547 non-null   object \n",
      " 2   atc_codes   8547 non-null   object \n",
      " 3   diag_atc    8547 non-null   object \n",
      "dtypes: float64(1), object(3)\n",
      "memory usage: 333.9+ KB\n"
     ]
    }
   ],
   "source": [
    "df_exp.info()"
   ]
  },
  {
   "cell_type": "code",
   "execution_count": 106,
   "metadata": {},
   "outputs": [
    {
     "name": "stderr",
     "output_type": "stream",
     "text": [
      "<ipython-input-106-cadff373aa2a>:4: SettingWithCopyWarning: \n",
      "A value is trying to be set on a copy of a slice from a DataFrame.\n",
      "Try using .loc[row_indexer,col_indexer] = value instead\n",
      "\n",
      "See the caveats in the documentation: https://pandas.pydata.org/pandas-docs/stable/user_guide/indexing.html#returning-a-view-versus-a-copy\n",
      "  df_exp.loc[index, 'num_diagnoses'] = count\n"
     ]
    }
   ],
   "source": [
    "for index, row in df_exp.iterrows():\n",
    "    diagnoses_list = eval(row['diagnoses'])\n",
    "    count = len(diagnoses_list)\n",
    "    df_exp.loc[index, 'num_diagnoses'] = count\n"
   ]
  },
  {
   "cell_type": "code",
   "execution_count": 107,
   "metadata": {},
   "outputs": [
    {
     "data": {
      "text/html": [
       "<div>\n",
       "<style scoped>\n",
       "    .dataframe tbody tr th:only-of-type {\n",
       "        vertical-align: middle;\n",
       "    }\n",
       "\n",
       "    .dataframe tbody tr th {\n",
       "        vertical-align: top;\n",
       "    }\n",
       "\n",
       "    .dataframe thead th {\n",
       "        text-align: right;\n",
       "    }\n",
       "</style>\n",
       "<table border=\"1\" class=\"dataframe\">\n",
       "  <thead>\n",
       "    <tr style=\"text-align: right;\">\n",
       "      <th></th>\n",
       "      <th>episode_id</th>\n",
       "      <th>diagnoses</th>\n",
       "      <th>atc_codes</th>\n",
       "      <th>diag_atc</th>\n",
       "      <th>num_diagnoses</th>\n",
       "    </tr>\n",
       "  </thead>\n",
       "  <tbody>\n",
       "    <tr>\n",
       "      <th>0</th>\n",
       "      <td>10.0</td>\n",
       "      <td>['3131', '313', '3009']</td>\n",
       "      <td>[]</td>\n",
       "      <td>[3131, 313, 3009]</td>\n",
       "      <td>3.0</td>\n",
       "    </tr>\n",
       "    <tr>\n",
       "      <th>1</th>\n",
       "      <td>10001.0</td>\n",
       "      <td>['2972', '969']</td>\n",
       "      <td>[]</td>\n",
       "      <td>[2972, 969]</td>\n",
       "      <td>2.0</td>\n",
       "    </tr>\n",
       "    <tr>\n",
       "      <th>2</th>\n",
       "      <td>10002.0</td>\n",
       "      <td>['3131']</td>\n",
       "      <td>['999010602', '999140602']</td>\n",
       "      <td>[3131, 999010602, 999140602]</td>\n",
       "      <td>1.0</td>\n",
       "    </tr>\n",
       "    <tr>\n",
       "      <th>4</th>\n",
       "      <td>10004.0</td>\n",
       "      <td>['3131', '313', '563']</td>\n",
       "      <td>['999140602']</td>\n",
       "      <td>[3131, 313, 563, 999140602]</td>\n",
       "      <td>3.0</td>\n",
       "    </tr>\n",
       "    <tr>\n",
       "      <th>7</th>\n",
       "      <td>10009.0</td>\n",
       "      <td>['3131']</td>\n",
       "      <td>['999140602']</td>\n",
       "      <td>[3131, 999140602]</td>\n",
       "      <td>1.0</td>\n",
       "    </tr>\n",
       "  </tbody>\n",
       "</table>\n",
       "</div>"
      ],
      "text/plain": [
       "   episode_id                diagnoses                   atc_codes  \\\n",
       "0        10.0  ['3131', '313', '3009']                          []   \n",
       "1     10001.0          ['2972', '969']                          []   \n",
       "2     10002.0                 ['3131']  ['999010602', '999140602']   \n",
       "4     10004.0   ['3131', '313', '563']               ['999140602']   \n",
       "7     10009.0                 ['3131']               ['999140602']   \n",
       "\n",
       "                       diag_atc  num_diagnoses  \n",
       "0             [3131, 313, 3009]            3.0  \n",
       "1                   [2972, 969]            2.0  \n",
       "2  [3131, 999010602, 999140602]            1.0  \n",
       "4   [3131, 313, 563, 999140602]            3.0  \n",
       "7             [3131, 999140602]            1.0  "
      ]
     },
     "execution_count": 107,
     "metadata": {},
     "output_type": "execute_result"
    }
   ],
   "source": [
    "df_exp.head()"
   ]
  },
  {
   "cell_type": "code",
   "execution_count": 108,
   "metadata": {},
   "outputs": [],
   "source": [
    "# Group the DataFrame by the number of diagnoses and count the number of episodes in each group\n",
    "grouped_df2 = df_exp.groupby('num_diagnoses').size().reset_index(name='num_episodes').astype(int)"
   ]
  },
  {
   "cell_type": "code",
   "execution_count": 109,
   "metadata": {},
   "outputs": [
    {
     "data": {
      "text/html": [
       "<div>\n",
       "<style scoped>\n",
       "    .dataframe tbody tr th:only-of-type {\n",
       "        vertical-align: middle;\n",
       "    }\n",
       "\n",
       "    .dataframe tbody tr th {\n",
       "        vertical-align: top;\n",
       "    }\n",
       "\n",
       "    .dataframe thead th {\n",
       "        text-align: right;\n",
       "    }\n",
       "</style>\n",
       "<table border=\"1\" class=\"dataframe\">\n",
       "  <thead>\n",
       "    <tr style=\"text-align: right;\">\n",
       "      <th></th>\n",
       "      <th>episode_id</th>\n",
       "      <th>diagnoses</th>\n",
       "      <th>atc_codes</th>\n",
       "      <th>diag_atc</th>\n",
       "      <th>num_diagnoses</th>\n",
       "    </tr>\n",
       "  </thead>\n",
       "  <tbody>\n",
       "    <tr>\n",
       "      <th>0</th>\n",
       "      <td>10.0</td>\n",
       "      <td>['3131', '313', '3009']</td>\n",
       "      <td>[]</td>\n",
       "      <td>[3131, 313, 3009]</td>\n",
       "      <td>3.0</td>\n",
       "    </tr>\n",
       "    <tr>\n",
       "      <th>1</th>\n",
       "      <td>10001.0</td>\n",
       "      <td>['2972', '969']</td>\n",
       "      <td>[]</td>\n",
       "      <td>[2972, 969]</td>\n",
       "      <td>2.0</td>\n",
       "    </tr>\n",
       "    <tr>\n",
       "      <th>2</th>\n",
       "      <td>10002.0</td>\n",
       "      <td>['3131']</td>\n",
       "      <td>['999010602', '999140602']</td>\n",
       "      <td>[3131, 999010602, 999140602]</td>\n",
       "      <td>1.0</td>\n",
       "    </tr>\n",
       "    <tr>\n",
       "      <th>4</th>\n",
       "      <td>10004.0</td>\n",
       "      <td>['3131', '313', '563']</td>\n",
       "      <td>['999140602']</td>\n",
       "      <td>[3131, 313, 563, 999140602]</td>\n",
       "      <td>3.0</td>\n",
       "    </tr>\n",
       "    <tr>\n",
       "      <th>7</th>\n",
       "      <td>10009.0</td>\n",
       "      <td>['3131']</td>\n",
       "      <td>['999140602']</td>\n",
       "      <td>[3131, 999140602]</td>\n",
       "      <td>1.0</td>\n",
       "    </tr>\n",
       "  </tbody>\n",
       "</table>\n",
       "</div>"
      ],
      "text/plain": [
       "   episode_id                diagnoses                   atc_codes  \\\n",
       "0        10.0  ['3131', '313', '3009']                          []   \n",
       "1     10001.0          ['2972', '969']                          []   \n",
       "2     10002.0                 ['3131']  ['999010602', '999140602']   \n",
       "4     10004.0   ['3131', '313', '563']               ['999140602']   \n",
       "7     10009.0                 ['3131']               ['999140602']   \n",
       "\n",
       "                       diag_atc  num_diagnoses  \n",
       "0             [3131, 313, 3009]            3.0  \n",
       "1                   [2972, 969]            2.0  \n",
       "2  [3131, 999010602, 999140602]            1.0  \n",
       "4   [3131, 313, 563, 999140602]            3.0  \n",
       "7             [3131, 999140602]            1.0  "
      ]
     },
     "execution_count": 109,
     "metadata": {},
     "output_type": "execute_result"
    }
   ],
   "source": [
    "df_exp.head()"
   ]
  },
  {
   "cell_type": "code",
   "execution_count": 110,
   "metadata": {},
   "outputs": [
    {
     "data": {
      "text/html": [
       "<div>\n",
       "<style scoped>\n",
       "    .dataframe tbody tr th:only-of-type {\n",
       "        vertical-align: middle;\n",
       "    }\n",
       "\n",
       "    .dataframe tbody tr th {\n",
       "        vertical-align: top;\n",
       "    }\n",
       "\n",
       "    .dataframe thead th {\n",
       "        text-align: right;\n",
       "    }\n",
       "</style>\n",
       "<table border=\"1\" class=\"dataframe\">\n",
       "  <thead>\n",
       "    <tr style=\"text-align: right;\">\n",
       "      <th></th>\n",
       "      <th>num_diagnoses</th>\n",
       "      <th>num_episodes</th>\n",
       "    </tr>\n",
       "  </thead>\n",
       "  <tbody>\n",
       "    <tr>\n",
       "      <th>0</th>\n",
       "      <td>1</td>\n",
       "      <td>1850</td>\n",
       "    </tr>\n",
       "    <tr>\n",
       "      <th>1</th>\n",
       "      <td>2</td>\n",
       "      <td>4355</td>\n",
       "    </tr>\n",
       "    <tr>\n",
       "      <th>2</th>\n",
       "      <td>3</td>\n",
       "      <td>1590</td>\n",
       "    </tr>\n",
       "    <tr>\n",
       "      <th>3</th>\n",
       "      <td>4</td>\n",
       "      <td>509</td>\n",
       "    </tr>\n",
       "    <tr>\n",
       "      <th>4</th>\n",
       "      <td>5</td>\n",
       "      <td>155</td>\n",
       "    </tr>\n",
       "  </tbody>\n",
       "</table>\n",
       "</div>"
      ],
      "text/plain": [
       "   num_diagnoses  num_episodes\n",
       "0              1          1850\n",
       "1              2          4355\n",
       "2              3          1590\n",
       "3              4           509\n",
       "4              5           155"
      ]
     },
     "execution_count": 110,
     "metadata": {},
     "output_type": "execute_result"
    }
   ],
   "source": [
    "grouped_df2.head()"
   ]
  },
  {
   "cell_type": "code",
   "execution_count": 111,
   "metadata": {},
   "outputs": [
    {
     "data": {
      "image/png": "[encoded data removed]",
      "text/plain": [
       "<Figure size 720x360 with 1 Axes>"
      ]
     },
     "metadata": {
      "needs_background": "light"
     },
     "output_type": "display_data"
    }
   ],
   "source": [
    "# show number of diagnoses per episode in experimental dataset\n",
    "plt.figure(figsize=(10, 5))\n",
    "ax = sns.barplot(x=grouped_df2['num_diagnoses'] , y=grouped_df2['num_episodes'], palette=\"YlGnBu\")\n",
    "ax.bar_label(ax.containers[0])\n",
    "ax.set_xlabel('Number of Diagnoses per Episode')\n",
    "ax.set_ylabel('Number of Episodes')\n",
    "sns.despine(left=True, bottom=True)\n",
    "#plt.savefig('/home/kabank/workbench/.conda/analysis/ias_Diagrams/nrdiagnosesperepisode_experimental.pdf')\n",
    "plt.show()"
   ]
  },
  {
   "cell_type": "markdown",
   "metadata": {},
   "source": [
    "# Medications count"
   ]
  },
  {
   "cell_type": "code",
   "execution_count": 112,
   "metadata": {},
   "outputs": [
    {
     "name": "stdout",
     "output_type": "stream",
     "text": [
      "       episode_id   atc_code atc_code_4 atc_code_5 atc_code_3 atc_code_1\n",
      "0             9.0  999140601       N06A      N06AB        N06          N\n",
      "1             9.0  999140601       N06A      N06AB        N06          N\n",
      "2             9.0  999140601       N06A      N06AB        N06          N\n",
      "3             9.0  999140601       N06A      N06AB        N06          N\n",
      "4            27.0  999140503       N05C      N05CH        N05          N\n",
      "...           ...        ...        ...        ...        ...        ...\n",
      "44680     30938.0  999140602       N06B      N06BA        N06          N\n",
      "44681     30938.0  999140602       N06B      N06BA        N06          N\n",
      "44682     30938.0  999140602       N06B      N06BA        N06          N\n",
      "44683     30938.0  999140602       N06B      N06BA        N06          N\n",
      "44684     30938.0  999140602       N06B      N06BA        N06          N\n",
      "\n",
      "[44666 rows x 6 columns]\n"
     ]
    }
   ],
   "source": [
    "print(atc_df)"
   ]
  },
  {
   "cell_type": "code",
   "execution_count": 113,
   "metadata": {},
   "outputs": [
    {
     "data": {
      "text/html": [
       "<div>\n",
       "<style scoped>\n",
       "    .dataframe tbody tr th:only-of-type {\n",
       "        vertical-align: middle;\n",
       "    }\n",
       "\n",
       "    .dataframe tbody tr th {\n",
       "        vertical-align: top;\n",
       "    }\n",
       "\n",
       "    .dataframe thead th {\n",
       "        text-align: right;\n",
       "    }\n",
       "</style>\n",
       "<table border=\"1\" class=\"dataframe\">\n",
       "  <thead>\n",
       "    <tr style=\"text-align: right;\">\n",
       "      <th></th>\n",
       "      <th>episode_id</th>\n",
       "      <th>regulation</th>\n",
       "      <th>prescription_type</th>\n",
       "      <th>trade_name</th>\n",
       "      <th>atc_code</th>\n",
       "      <th>atc_name</th>\n",
       "    </tr>\n",
       "  </thead>\n",
       "  <tbody>\n",
       "    <tr>\n",
       "      <th>0</th>\n",
       "      <td>9.0</td>\n",
       "      <td>Fast</td>\n",
       "      <td>Blå</td>\n",
       "      <td>Zoloft</td>\n",
       "      <td>N06AB06</td>\n",
       "      <td>Sertralin</td>\n",
       "    </tr>\n",
       "    <tr>\n",
       "      <th>1</th>\n",
       "      <td>9.0</td>\n",
       "      <td>Fast</td>\n",
       "      <td>Blå</td>\n",
       "      <td>Zoloft</td>\n",
       "      <td>N06AB06</td>\n",
       "      <td>Sertralin</td>\n",
       "    </tr>\n",
       "    <tr>\n",
       "      <th>2</th>\n",
       "      <td>9.0</td>\n",
       "      <td>Fast</td>\n",
       "      <td>Blå</td>\n",
       "      <td>Zoloft</td>\n",
       "      <td>N06AB06</td>\n",
       "      <td>Sertralin</td>\n",
       "    </tr>\n",
       "    <tr>\n",
       "      <th>3</th>\n",
       "      <td>9.0</td>\n",
       "      <td>Fast</td>\n",
       "      <td>Blå</td>\n",
       "      <td>Fontex</td>\n",
       "      <td>N06AB03</td>\n",
       "      <td>Fluoksetin</td>\n",
       "    </tr>\n",
       "    <tr>\n",
       "      <th>4</th>\n",
       "      <td>27.0</td>\n",
       "      <td>Fast</td>\n",
       "      <td>Hvit</td>\n",
       "      <td>CIRCADIN</td>\n",
       "      <td>N05CH01</td>\n",
       "      <td>Melatonin</td>\n",
       "    </tr>\n",
       "  </tbody>\n",
       "</table>\n",
       "</div>"
      ],
      "text/plain": [
       "   episode_id regulation prescription_type trade_name atc_code    atc_name\n",
       "0         9.0       Fast               Blå     Zoloft  N06AB06   Sertralin\n",
       "1         9.0       Fast               Blå     Zoloft  N06AB06   Sertralin\n",
       "2         9.0       Fast               Blå     Zoloft  N06AB06   Sertralin\n",
       "3         9.0       Fast               Blå     Fontex  N06AB03  Fluoksetin\n",
       "4        27.0       Fast              Hvit   CIRCADIN  N05CH01   Melatonin"
      ]
     },
     "execution_count": 113,
     "metadata": {},
     "output_type": "execute_result"
    }
   ],
   "source": [
    "prescriptions_df.head()"
   ]
  },
  {
   "cell_type": "code",
   "execution_count": 114,
   "metadata": {},
   "outputs": [
    {
     "data": {
      "text/plain": [
       "(44666, 6)"
      ]
     },
     "execution_count": 114,
     "metadata": {},
     "output_type": "execute_result"
    }
   ],
   "source": [
    "prescriptions_df.shape"
   ]
  },
  {
   "cell_type": "code",
   "execution_count": 115,
   "metadata": {},
   "outputs": [
    {
     "data": {
      "image/png": "[encoded data removed]",
      "text/plain": [
       "<Figure size 360x720 with 1 Axes>"
      ]
     },
     "metadata": {
      "needs_background": "light"
     },
     "output_type": "display_data"
    }
   ],
   "source": [
    "#-----------------------------------------\n",
    "# Bar chart showing ATC count. If an ATC code occur more than once in an episode it is only counted once.\n",
    "# -----------------------------------------\n",
    "plt.figure(figsize=(5, 10))\n",
    "unique_atc_episode_df = prescriptions_df.groupby(['episode_id', 'atc_code']).count().reset_index()\n",
    "atc_counts = unique_atc_episode_df.atc_code.value_counts( ).loc[lambda x: x > 20]\n",
    "ax = sns.barplot(x=atc_counts , y=atc_counts.index , palette=\"YlGnBu\")\n",
    "ax.bar_label(ax.containers[0])\n",
    "ax.set_xscale(\"log\")\n",
    "ax.set_xlabel(\"Number of Occurrences\")\n",
    "ax.set_ylabel(\"ATC code\")\n",
    "sns.despine(left=True, bottom=True)\n",
    "#plt.savefig('/home/kabank/workbench/.conda/analysis/ias_Diagrams/atc_count_notCut_BARPLOT.pdf' ) #, bbox_inches=\"tight \")\n",
    "plt.show()"
   ]
  },
  {
   "cell_type": "code",
   "execution_count": 116,
   "metadata": {},
   "outputs": [
    {
     "data": {
      "text/html": [
       "<div>\n",
       "<style scoped>\n",
       "    .dataframe tbody tr th:only-of-type {\n",
       "        vertical-align: middle;\n",
       "    }\n",
       "\n",
       "    .dataframe tbody tr th {\n",
       "        vertical-align: top;\n",
       "    }\n",
       "\n",
       "    .dataframe thead th {\n",
       "        text-align: right;\n",
       "    }\n",
       "</style>\n",
       "<table border=\"1\" class=\"dataframe\">\n",
       "  <thead>\n",
       "    <tr style=\"text-align: right;\">\n",
       "      <th></th>\n",
       "      <th>episode_id</th>\n",
       "      <th>diagnoses</th>\n",
       "      <th>atc_codes</th>\n",
       "      <th>diag_atc</th>\n",
       "      <th>num_diagnoses</th>\n",
       "    </tr>\n",
       "  </thead>\n",
       "  <tbody>\n",
       "    <tr>\n",
       "      <th>0</th>\n",
       "      <td>10.0</td>\n",
       "      <td>['3131', '313', '3009']</td>\n",
       "      <td>[]</td>\n",
       "      <td>[3131, 313, 3009]</td>\n",
       "      <td>3.0</td>\n",
       "    </tr>\n",
       "    <tr>\n",
       "      <th>1</th>\n",
       "      <td>10001.0</td>\n",
       "      <td>['2972', '969']</td>\n",
       "      <td>[]</td>\n",
       "      <td>[2972, 969]</td>\n",
       "      <td>2.0</td>\n",
       "    </tr>\n",
       "    <tr>\n",
       "      <th>2</th>\n",
       "      <td>10002.0</td>\n",
       "      <td>['3131']</td>\n",
       "      <td>['999010602', '999140602']</td>\n",
       "      <td>[3131, 999010602, 999140602]</td>\n",
       "      <td>1.0</td>\n",
       "    </tr>\n",
       "    <tr>\n",
       "      <th>4</th>\n",
       "      <td>10004.0</td>\n",
       "      <td>['3131', '313', '563']</td>\n",
       "      <td>['999140602']</td>\n",
       "      <td>[3131, 313, 563, 999140602]</td>\n",
       "      <td>3.0</td>\n",
       "    </tr>\n",
       "    <tr>\n",
       "      <th>7</th>\n",
       "      <td>10009.0</td>\n",
       "      <td>['3131']</td>\n",
       "      <td>['999140602']</td>\n",
       "      <td>[3131, 999140602]</td>\n",
       "      <td>1.0</td>\n",
       "    </tr>\n",
       "  </tbody>\n",
       "</table>\n",
       "</div>"
      ],
      "text/plain": [
       "   episode_id                diagnoses                   atc_codes  \\\n",
       "0        10.0  ['3131', '313', '3009']                          []   \n",
       "1     10001.0          ['2972', '969']                          []   \n",
       "2     10002.0                 ['3131']  ['999010602', '999140602']   \n",
       "4     10004.0   ['3131', '313', '563']               ['999140602']   \n",
       "7     10009.0                 ['3131']               ['999140602']   \n",
       "\n",
       "                       diag_atc  num_diagnoses  \n",
       "0             [3131, 313, 3009]            3.0  \n",
       "1                   [2972, 969]            2.0  \n",
       "2  [3131, 999010602, 999140602]            1.0  \n",
       "4   [3131, 313, 563, 999140602]            3.0  \n",
       "7             [3131, 999140602]            1.0  "
      ]
     },
     "execution_count": 116,
     "metadata": {},
     "output_type": "execute_result"
    }
   ],
   "source": [
    "df_exp.head()\n"
   ]
  },
  {
   "cell_type": "code",
   "execution_count": 117,
   "metadata": {},
   "outputs": [
    {
     "data": {
      "text/plain": [
       "(8547, 5)"
      ]
     },
     "execution_count": 117,
     "metadata": {},
     "output_type": "execute_result"
    }
   ],
   "source": [
    "df_exp.shape"
   ]
  },
  {
   "cell_type": "code",
   "execution_count": 118,
   "metadata": {},
   "outputs": [
    {
     "data": {
      "text/html": [
       "<div>\n",
       "<style scoped>\n",
       "    .dataframe tbody tr th:only-of-type {\n",
       "        vertical-align: middle;\n",
       "    }\n",
       "\n",
       "    .dataframe tbody tr th {\n",
       "        vertical-align: top;\n",
       "    }\n",
       "\n",
       "    .dataframe thead th {\n",
       "        text-align: right;\n",
       "    }\n",
       "</style>\n",
       "<table border=\"1\" class=\"dataframe\">\n",
       "  <thead>\n",
       "    <tr style=\"text-align: right;\">\n",
       "      <th></th>\n",
       "      <th>episode_id</th>\n",
       "      <th>diagnoses</th>\n",
       "      <th>atc_codes</th>\n",
       "      <th>diag_atc</th>\n",
       "      <th>num_diagnoses</th>\n",
       "    </tr>\n",
       "  </thead>\n",
       "  <tbody>\n",
       "    <tr>\n",
       "      <th>0</th>\n",
       "      <td>10.0</td>\n",
       "      <td>['3131', '313', '3009']</td>\n",
       "      <td>NaN</td>\n",
       "      <td>[3131, 313, 3009]</td>\n",
       "      <td>3.0</td>\n",
       "    </tr>\n",
       "    <tr>\n",
       "      <th>1</th>\n",
       "      <td>10001.0</td>\n",
       "      <td>['2972', '969']</td>\n",
       "      <td>NaN</td>\n",
       "      <td>[2972, 969]</td>\n",
       "      <td>2.0</td>\n",
       "    </tr>\n",
       "    <tr>\n",
       "      <th>2</th>\n",
       "      <td>10002.0</td>\n",
       "      <td>['3131']</td>\n",
       "      <td>['999010602', '999140602']</td>\n",
       "      <td>[3131, 999010602, 999140602]</td>\n",
       "      <td>1.0</td>\n",
       "    </tr>\n",
       "    <tr>\n",
       "      <th>4</th>\n",
       "      <td>10004.0</td>\n",
       "      <td>['3131', '313', '563']</td>\n",
       "      <td>['999140602']</td>\n",
       "      <td>[3131, 313, 563, 999140602]</td>\n",
       "      <td>3.0</td>\n",
       "    </tr>\n",
       "    <tr>\n",
       "      <th>7</th>\n",
       "      <td>10009.0</td>\n",
       "      <td>['3131']</td>\n",
       "      <td>['999140602']</td>\n",
       "      <td>[3131, 999140602]</td>\n",
       "      <td>1.0</td>\n",
       "    </tr>\n",
       "  </tbody>\n",
       "</table>\n",
       "</div>"
      ],
      "text/plain": [
       "   episode_id                diagnoses                   atc_codes  \\\n",
       "0        10.0  ['3131', '313', '3009']                         NaN   \n",
       "1     10001.0          ['2972', '969']                         NaN   \n",
       "2     10002.0                 ['3131']  ['999010602', '999140602']   \n",
       "4     10004.0   ['3131', '313', '563']               ['999140602']   \n",
       "7     10009.0                 ['3131']               ['999140602']   \n",
       "\n",
       "                       diag_atc  num_diagnoses  \n",
       "0             [3131, 313, 3009]            3.0  \n",
       "1                   [2972, 969]            2.0  \n",
       "2  [3131, 999010602, 999140602]            1.0  \n",
       "4   [3131, 313, 563, 999140602]            3.0  \n",
       "7             [3131, 999140602]            1.0  "
      ]
     },
     "execution_count": 118,
     "metadata": {},
     "output_type": "execute_result"
    }
   ],
   "source": [
    "df_exp.shape\n",
    "# Explode the 'atc_codes' column to separate rows\n",
    "df_exp_exploded = df_exp.explode('atc_codes')\n",
    "df_exp_exploded.head()\n"
   ]
  },
  {
   "cell_type": "code",
   "execution_count": 119,
   "metadata": {},
   "outputs": [
    {
     "data": {
      "text/html": [
       "<div>\n",
       "<style scoped>\n",
       "    .dataframe tbody tr th:only-of-type {\n",
       "        vertical-align: middle;\n",
       "    }\n",
       "\n",
       "    .dataframe tbody tr th {\n",
       "        vertical-align: top;\n",
       "    }\n",
       "\n",
       "    .dataframe thead th {\n",
       "        text-align: right;\n",
       "    }\n",
       "</style>\n",
       "<table border=\"1\" class=\"dataframe\">\n",
       "  <thead>\n",
       "    <tr style=\"text-align: right;\">\n",
       "      <th></th>\n",
       "      <th>episode_id</th>\n",
       "      <th>diagnoses</th>\n",
       "      <th>atc_codes</th>\n",
       "      <th>diag_atc</th>\n",
       "    </tr>\n",
       "  </thead>\n",
       "  <tbody>\n",
       "    <tr>\n",
       "      <th>0</th>\n",
       "      <td>10.0</td>\n",
       "      <td>['3131', '313', '3009']</td>\n",
       "      <td>NaN</td>\n",
       "      <td>[3131, 313, 3009]</td>\n",
       "    </tr>\n",
       "    <tr>\n",
       "      <th>1</th>\n",
       "      <td>10001.0</td>\n",
       "      <td>['2972', '969']</td>\n",
       "      <td>NaN</td>\n",
       "      <td>[2972, 969]</td>\n",
       "    </tr>\n",
       "    <tr>\n",
       "      <th>2</th>\n",
       "      <td>10002.0</td>\n",
       "      <td>['3131']</td>\n",
       "      <td>['999010602', '999140602']</td>\n",
       "      <td>[3131, 999010602, 999140602]</td>\n",
       "    </tr>\n",
       "    <tr>\n",
       "      <th>3</th>\n",
       "      <td>10003.0</td>\n",
       "      <td>['312']</td>\n",
       "      <td>NaN</td>\n",
       "      <td>[312]</td>\n",
       "    </tr>\n",
       "    <tr>\n",
       "      <th>4</th>\n",
       "      <td>10004.0</td>\n",
       "      <td>['3131', '313', '563']</td>\n",
       "      <td>['999140602']</td>\n",
       "      <td>[3131, 313, 563, 999140602]</td>\n",
       "    </tr>\n",
       "  </tbody>\n",
       "</table>\n",
       "</div>"
      ],
      "text/plain": [
       "   episode_id                diagnoses                   atc_codes  \\\n",
       "0        10.0  ['3131', '313', '3009']                         NaN   \n",
       "1     10001.0          ['2972', '969']                         NaN   \n",
       "2     10002.0                 ['3131']  ['999010602', '999140602']   \n",
       "3     10003.0                  ['312']                         NaN   \n",
       "4     10004.0   ['3131', '313', '563']               ['999140602']   \n",
       "\n",
       "                       diag_atc  \n",
       "0             [3131, 313, 3009]  \n",
       "1                   [2972, 969]  \n",
       "2  [3131, 999010602, 999140602]  \n",
       "3                         [312]  \n",
       "4   [3131, 313, 563, 999140602]  "
      ]
     },
     "execution_count": 119,
     "metadata": {},
     "output_type": "execute_result"
    }
   ],
   "source": [
    "# Explode the 'atc_codes' column to separate rows\n",
    "df_exploded = df.explode('atc_codes')\n",
    "df_exploded.head()"
   ]
  },
  {
   "cell_type": "code",
   "execution_count": 120,
   "metadata": {},
   "outputs": [
    {
     "data": {
      "image/png": "[encoded data removed]",
      "text/plain": [
       "<Figure size 360x720 with 1 Axes>"
      ]
     },
     "metadata": {
      "needs_background": "light"
     },
     "output_type": "display_data"
    }
   ],
   "source": [
    "#-----------------------------------------\n",
    "# Bar chart showing ATC count. If an ATC code occur more than once in an episode it is only counted once.\n",
    "# -----------------------------------------\n",
    "# Group by 'episode_id' and 'atc_codes', and then count the occurrences\n",
    "unique_atc_episode_df_exp = df_exploded.groupby(['episode_id', 'atc_codes']).size().reset_index(name='count')\n",
    "\n",
    "# Filter out atc_codes that occur more than 20 times\n",
    "atc_counts = unique_atc_episode_df_exp['atc_codes'].value_counts().loc[lambda x: x > 20]\n",
    "\n",
    "yvalue = convertback_to_icd_atc(atc_counts.index)\n",
    "yindex2 = pd.Index([str(sublist).replace(\"'\", \" \") for sublist in yvalue ])\n",
    "\n",
    "# Plot the bar chart\n",
    "plt.figure(figsize=(5, 10))\n",
    "ax = sns.barplot(x=atc_counts , y=yindex2 , palette=\"YlGnBu\")\n",
    "ax.bar_label(ax.containers[0])\n",
    "ax.set_xscale(\"log\")\n",
    "ax.set_xlabel(\"Number of Occurrences\")\n",
    "ax.set_ylabel(\"ATC codes\")\n",
    "sns.despine(left=True, bottom=True)\n",
    "#plt.savefig('/home/kabank/workbench/.conda/analysis/ias_Diagrams/atc_count_notCut_BARPLOT.pdf' ) #, bbox_inches=\"tight \")\n",
    "plt.show()"
   ]
  },
  {
   "cell_type": "markdown",
   "metadata": {},
   "source": [
    "# Group the DataFrame by the number of drugs and count the number of episodes in each group"
   ]
  },
  {
   "cell_type": "code",
   "execution_count": 121,
   "metadata": {},
   "outputs": [
    {
     "name": "stdout",
     "output_type": "stream",
     "text": [
      "<class 'pandas.core.frame.DataFrame'>\n",
      "Index: 44666 entries, 0 to 44684\n",
      "Data columns (total 6 columns):\n",
      " #   Column             Non-Null Count  Dtype  \n",
      "---  ------             --------------  -----  \n",
      " 0   episode_id         44666 non-null  float64\n",
      " 1   regulation         44666 non-null  object \n",
      " 2   prescription_type  39680 non-null  object \n",
      " 3   trade_name         44666 non-null  object \n",
      " 4   atc_code           44666 non-null  object \n",
      " 5   atc_name           31242 non-null  object \n",
      "dtypes: float64(1), object(5)\n",
      "memory usage: 3.4+ MB\n"
     ]
    }
   ],
   "source": [
    "prescriptions_df.info()"
   ]
  },
  {
   "cell_type": "code",
   "execution_count": 122,
   "metadata": {},
   "outputs": [
    {
     "name": "stdout",
     "output_type": "stream",
     "text": [
      "<class 'pandas.core.frame.DataFrame'>\n",
      "Index: 4459 entries, 9.0 to 30938.0\n",
      "Data columns (total 1 columns):\n",
      " #   Column    Non-Null Count  Dtype \n",
      "---  ------    --------------  ----- \n",
      " 0   atc_code  4459 non-null   object\n",
      "dtypes: object(1)\n",
      "memory usage: 69.7+ KB\n"
     ]
    }
   ],
   "source": [
    "atc_list_df.info()"
   ]
  },
  {
   "cell_type": "code",
   "execution_count": 123,
   "metadata": {},
   "outputs": [
    {
     "data": {
      "text/html": [
       "<div>\n",
       "<style scoped>\n",
       "    .dataframe tbody tr th:only-of-type {\n",
       "        vertical-align: middle;\n",
       "    }\n",
       "\n",
       "    .dataframe tbody tr th {\n",
       "        vertical-align: top;\n",
       "    }\n",
       "\n",
       "    .dataframe thead th {\n",
       "        text-align: right;\n",
       "    }\n",
       "</style>\n",
       "<table border=\"1\" class=\"dataframe\">\n",
       "  <thead>\n",
       "    <tr style=\"text-align: right;\">\n",
       "      <th></th>\n",
       "      <th>atc_code</th>\n",
       "    </tr>\n",
       "    <tr>\n",
       "      <th>episode_id</th>\n",
       "      <th></th>\n",
       "    </tr>\n",
       "  </thead>\n",
       "  <tbody>\n",
       "    <tr>\n",
       "      <th>9.0</th>\n",
       "      <td>[999140601]</td>\n",
       "    </tr>\n",
       "    <tr>\n",
       "      <th>27.0</th>\n",
       "      <td>[999180601, 999140503, 999140602, 999140601]</td>\n",
       "    </tr>\n",
       "    <tr>\n",
       "      <th>28.0</th>\n",
       "      <td>[999140601]</td>\n",
       "    </tr>\n",
       "    <tr>\n",
       "      <th>34.0</th>\n",
       "      <td>[999040601, 999140503, 999140602, 999080102]</td>\n",
       "    </tr>\n",
       "    <tr>\n",
       "      <th>38.0</th>\n",
       "      <td>[999140502, 999140601]</td>\n",
       "    </tr>\n",
       "  </tbody>\n",
       "</table>\n",
       "</div>"
      ],
      "text/plain": [
       "                                                atc_code\n",
       "episode_id                                              \n",
       "9.0                                          [999140601]\n",
       "27.0        [999180601, 999140503, 999140602, 999140601]\n",
       "28.0                                         [999140601]\n",
       "34.0        [999040601, 999140503, 999140602, 999080102]\n",
       "38.0                              [999140502, 999140601]"
      ]
     },
     "execution_count": 123,
     "metadata": {},
     "output_type": "execute_result"
    }
   ],
   "source": [
    "atc_list_df.head()"
   ]
  },
  {
   "cell_type": "code",
   "execution_count": 124,
   "metadata": {},
   "outputs": [],
   "source": [
    "atc_list_df2 = atc_list_df.copy()"
   ]
  },
  {
   "cell_type": "code",
   "execution_count": 125,
   "metadata": {},
   "outputs": [],
   "source": [
    "# Calculate the number of atc_code per episode and create a new column\n",
    "atc_list_df2['num_atc_codes'] = atc_list_df2['atc_code'].apply(lambda x: len(x))\n",
    "\n",
    "# Group the DataFrame by the number of diagnoses and count the number of episodes in each group\n",
    "grouped_df3 = atc_list_df2.groupby('num_atc_codes').size().reset_index(name='num_episodes')"
   ]
  },
  {
   "cell_type": "code",
   "execution_count": 126,
   "metadata": {},
   "outputs": [
    {
     "data": {
      "text/html": [
       "<div>\n",
       "<style scoped>\n",
       "    .dataframe tbody tr th:only-of-type {\n",
       "        vertical-align: middle;\n",
       "    }\n",
       "\n",
       "    .dataframe tbody tr th {\n",
       "        vertical-align: top;\n",
       "    }\n",
       "\n",
       "    .dataframe thead th {\n",
       "        text-align: right;\n",
       "    }\n",
       "</style>\n",
       "<table border=\"1\" class=\"dataframe\">\n",
       "  <thead>\n",
       "    <tr style=\"text-align: right;\">\n",
       "      <th></th>\n",
       "      <th>num_atc_codes</th>\n",
       "      <th>num_episodes</th>\n",
       "    </tr>\n",
       "  </thead>\n",
       "  <tbody>\n",
       "    <tr>\n",
       "      <th>0</th>\n",
       "      <td>1</td>\n",
       "      <td>2607</td>\n",
       "    </tr>\n",
       "    <tr>\n",
       "      <th>1</th>\n",
       "      <td>2</td>\n",
       "      <td>1285</td>\n",
       "    </tr>\n",
       "    <tr>\n",
       "      <th>2</th>\n",
       "      <td>3</td>\n",
       "      <td>393</td>\n",
       "    </tr>\n",
       "    <tr>\n",
       "      <th>3</th>\n",
       "      <td>4</td>\n",
       "      <td>120</td>\n",
       "    </tr>\n",
       "    <tr>\n",
       "      <th>4</th>\n",
       "      <td>5</td>\n",
       "      <td>37</td>\n",
       "    </tr>\n",
       "  </tbody>\n",
       "</table>\n",
       "</div>"
      ],
      "text/plain": [
       "   num_atc_codes  num_episodes\n",
       "0              1          2607\n",
       "1              2          1285\n",
       "2              3           393\n",
       "3              4           120\n",
       "4              5            37"
      ]
     },
     "execution_count": 126,
     "metadata": {},
     "output_type": "execute_result"
    }
   ],
   "source": [
    "grouped_df3.head()"
   ]
  },
  {
   "cell_type": "code",
   "execution_count": 127,
   "metadata": {},
   "outputs": [
    {
     "data": {
      "image/png": "[encoded data removed]",
      "text/plain": [
       "<Figure size 720x360 with 1 Axes>"
      ]
     },
     "metadata": {
      "needs_background": "light"
     },
     "output_type": "display_data"
    }
   ],
   "source": [
    "# show number of atc_codes per episode in initial dataset\n",
    "plt.figure(figsize=(10, 5))\n",
    "ax = sns.barplot(x=grouped_df3['num_atc_codes'] , y=grouped_df3['num_episodes'] , palette=\"YlGnBu\")\n",
    "ax.bar_label(ax.containers[0])\n",
    "ax.set_xlabel('Number of drugs per Episode')\n",
    "ax.set_ylabel('Number of Episodes')\n",
    "sns.despine(left=True, bottom=True)\n",
    "#plt.savefig('/home/kabank/workbench/.conda/analysis/ias_Diagrams/nratccodes_perepisode_initial.pdf')\n",
    "plt.show()"
   ]
  },
  {
   "cell_type": "code",
   "execution_count": 128,
   "metadata": {},
   "outputs": [
    {
     "name": "stderr",
     "output_type": "stream",
     "text": [
      "<ipython-input-128-3a266d4705a7>:10: SettingWithCopyWarning: \n",
      "A value is trying to be set on a copy of a slice from a DataFrame.\n",
      "Try using .loc[row_indexer,col_indexer] = value instead\n",
      "\n",
      "See the caveats in the documentation: https://pandas.pydata.org/pandas-docs/stable/user_guide/indexing.html#returning-a-view-versus-a-copy\n",
      "  df_exp['atc_codes'] = df_exp['atc_codes'].apply(safe_literal_eval)\n"
     ]
    }
   ],
   "source": [
    "import ast\n",
    "\n",
    "def safe_literal_eval(x):\n",
    "    try:\n",
    "        return ast.literal_eval(x)\n",
    "    except (ValueError, SyntaxError):\n",
    "        return []\n",
    "\n",
    "# 'atc_codes' is containing the string representation of the list, to turn it back to the list:\n",
    "df_exp['atc_codes'] = df_exp['atc_codes'].apply(safe_literal_eval)"
   ]
  },
  {
   "cell_type": "code",
   "execution_count": 129,
   "metadata": {},
   "outputs": [
    {
     "name": "stderr",
     "output_type": "stream",
     "text": [
      "<ipython-input-129-c1ca86f2481a>:2: SettingWithCopyWarning: \n",
      "A value is trying to be set on a copy of a slice from a DataFrame.\n",
      "Try using .loc[row_indexer,col_indexer] = value instead\n",
      "\n",
      "See the caveats in the documentation: https://pandas.pydata.org/pandas-docs/stable/user_guide/indexing.html#returning-a-view-versus-a-copy\n",
      "  df_exp['num_atc_codes'] = df_exp['atc_codes'].apply(lambda x: len(x))\n"
     ]
    }
   ],
   "source": [
    "# Calculate the number of atc_code per episode and create a new column\n",
    "df_exp['num_atc_codes'] = df_exp['atc_codes'].apply(lambda x: len(x))\n",
    "\n",
    "# Group the DataFrame by the number of diagnoses and count the number of episodes in each group\n",
    "grouped_df4 = df_exp.groupby('num_atc_codes').size().reset_index(name='num_episodes')"
   ]
  },
  {
   "cell_type": "code",
   "execution_count": 130,
   "metadata": {},
   "outputs": [
    {
     "data": {
      "text/html": [
       "<div>\n",
       "<style scoped>\n",
       "    .dataframe tbody tr th:only-of-type {\n",
       "        vertical-align: middle;\n",
       "    }\n",
       "\n",
       "    .dataframe tbody tr th {\n",
       "        vertical-align: top;\n",
       "    }\n",
       "\n",
       "    .dataframe thead th {\n",
       "        text-align: right;\n",
       "    }\n",
       "</style>\n",
       "<table border=\"1\" class=\"dataframe\">\n",
       "  <thead>\n",
       "    <tr style=\"text-align: right;\">\n",
       "      <th></th>\n",
       "      <th>episode_id</th>\n",
       "      <th>diagnoses</th>\n",
       "      <th>atc_codes</th>\n",
       "      <th>diag_atc</th>\n",
       "      <th>num_diagnoses</th>\n",
       "      <th>num_atc_codes</th>\n",
       "    </tr>\n",
       "  </thead>\n",
       "  <tbody>\n",
       "    <tr>\n",
       "      <th>0</th>\n",
       "      <td>10.0</td>\n",
       "      <td>['3131', '313', '3009']</td>\n",
       "      <td>[]</td>\n",
       "      <td>[3131, 313, 3009]</td>\n",
       "      <td>3.0</td>\n",
       "      <td>0</td>\n",
       "    </tr>\n",
       "    <tr>\n",
       "      <th>1</th>\n",
       "      <td>10001.0</td>\n",
       "      <td>['2972', '969']</td>\n",
       "      <td>[]</td>\n",
       "      <td>[2972, 969]</td>\n",
       "      <td>2.0</td>\n",
       "      <td>0</td>\n",
       "    </tr>\n",
       "    <tr>\n",
       "      <th>2</th>\n",
       "      <td>10002.0</td>\n",
       "      <td>['3131']</td>\n",
       "      <td>[999010602, 999140602]</td>\n",
       "      <td>[3131, 999010602, 999140602]</td>\n",
       "      <td>1.0</td>\n",
       "      <td>2</td>\n",
       "    </tr>\n",
       "    <tr>\n",
       "      <th>4</th>\n",
       "      <td>10004.0</td>\n",
       "      <td>['3131', '313', '563']</td>\n",
       "      <td>[999140602]</td>\n",
       "      <td>[3131, 313, 563, 999140602]</td>\n",
       "      <td>3.0</td>\n",
       "      <td>1</td>\n",
       "    </tr>\n",
       "    <tr>\n",
       "      <th>7</th>\n",
       "      <td>10009.0</td>\n",
       "      <td>['3131']</td>\n",
       "      <td>[999140602]</td>\n",
       "      <td>[3131, 999140602]</td>\n",
       "      <td>1.0</td>\n",
       "      <td>1</td>\n",
       "    </tr>\n",
       "  </tbody>\n",
       "</table>\n",
       "</div>"
      ],
      "text/plain": [
       "   episode_id                diagnoses               atc_codes  \\\n",
       "0        10.0  ['3131', '313', '3009']                      []   \n",
       "1     10001.0          ['2972', '969']                      []   \n",
       "2     10002.0                 ['3131']  [999010602, 999140602]   \n",
       "4     10004.0   ['3131', '313', '563']             [999140602]   \n",
       "7     10009.0                 ['3131']             [999140602]   \n",
       "\n",
       "                       diag_atc  num_diagnoses  num_atc_codes  \n",
       "0             [3131, 313, 3009]            3.0              0  \n",
       "1                   [2972, 969]            2.0              0  \n",
       "2  [3131, 999010602, 999140602]            1.0              2  \n",
       "4   [3131, 313, 563, 999140602]            3.0              1  \n",
       "7             [3131, 999140602]            1.0              1  "
      ]
     },
     "execution_count": 130,
     "metadata": {},
     "output_type": "execute_result"
    }
   ],
   "source": [
    "df_exp.head()"
   ]
  },
  {
   "cell_type": "code",
   "execution_count": 131,
   "metadata": {},
   "outputs": [
    {
     "data": {
      "text/html": [
       "<div>\n",
       "<style scoped>\n",
       "    .dataframe tbody tr th:only-of-type {\n",
       "        vertical-align: middle;\n",
       "    }\n",
       "\n",
       "    .dataframe tbody tr th {\n",
       "        vertical-align: top;\n",
       "    }\n",
       "\n",
       "    .dataframe thead th {\n",
       "        text-align: right;\n",
       "    }\n",
       "</style>\n",
       "<table border=\"1\" class=\"dataframe\">\n",
       "  <thead>\n",
       "    <tr style=\"text-align: right;\">\n",
       "      <th></th>\n",
       "      <th>num_atc_codes</th>\n",
       "      <th>num_episodes</th>\n",
       "    </tr>\n",
       "  </thead>\n",
       "  <tbody>\n",
       "    <tr>\n",
       "      <th>0</th>\n",
       "      <td>0</td>\n",
       "      <td>4224</td>\n",
       "    </tr>\n",
       "    <tr>\n",
       "      <th>1</th>\n",
       "      <td>1</td>\n",
       "      <td>2492</td>\n",
       "    </tr>\n",
       "    <tr>\n",
       "      <th>2</th>\n",
       "      <td>2</td>\n",
       "      <td>1266</td>\n",
       "    </tr>\n",
       "    <tr>\n",
       "      <th>3</th>\n",
       "      <td>3</td>\n",
       "      <td>392</td>\n",
       "    </tr>\n",
       "    <tr>\n",
       "      <th>4</th>\n",
       "      <td>4</td>\n",
       "      <td>119</td>\n",
       "    </tr>\n",
       "    <tr>\n",
       "      <th>5</th>\n",
       "      <td>5</td>\n",
       "      <td>37</td>\n",
       "    </tr>\n",
       "    <tr>\n",
       "      <th>6</th>\n",
       "      <td>6</td>\n",
       "      <td>10</td>\n",
       "    </tr>\n",
       "    <tr>\n",
       "      <th>7</th>\n",
       "      <td>7</td>\n",
       "      <td>7</td>\n",
       "    </tr>\n",
       "  </tbody>\n",
       "</table>\n",
       "</div>"
      ],
      "text/plain": [
       "   num_atc_codes  num_episodes\n",
       "0              0          4224\n",
       "1              1          2492\n",
       "2              2          1266\n",
       "3              3           392\n",
       "4              4           119\n",
       "5              5            37\n",
       "6              6            10\n",
       "7              7             7"
      ]
     },
     "execution_count": 131,
     "metadata": {},
     "output_type": "execute_result"
    }
   ],
   "source": [
    "grouped_df4"
   ]
  },
  {
   "cell_type": "code",
   "execution_count": 132,
   "metadata": {},
   "outputs": [
    {
     "data": {
      "image/png": "[encoded data removed]",
      "text/plain": [
       "<Figure size 720x360 with 1 Axes>"
      ]
     },
     "metadata": {
      "needs_background": "light"
     },
     "output_type": "display_data"
    }
   ],
   "source": [
    "# show number of atc_codes per episode in experimental dataset\n",
    "plt.figure(figsize=(10, 5))\n",
    "ax = sns.barplot(x=grouped_df4['num_atc_codes'] , y=grouped_df4['num_episodes'] , palette=\"YlGnBu\")\n",
    "ax.bar_label(ax.containers[0])\n",
    "ax.set_xlabel('Number of drugs per Episode')\n",
    "ax.set_ylabel('Number of Episodes')\n",
    "sns.despine(left=True, bottom=True)\n",
    "#plt.savefig('/home/kabank/workbench/.conda/analysis/ias_Diagrams/nratccodes_perepisode_experimental.pdf')\n",
    "plt.show()"
   ]
  }
 ],
 "metadata": {
  "kernelspec": {
   "display_name": "My Kernel",
   "language": "python",
   "name": "mykernel"
  },
  "language_info": {
   "codemirror_mode": {
    "name": "ipython",
    "version": 3
   },
   "file_extension": ".py",
   "mimetype": "text/x-python",
   "name": "python",
   "nbconvert_exporter": "python",
   "pygments_lexer": "ipython3",
   "version": "3.8.8"
  },
  "orig_nbformat": 4
 },
 "nbformat": 4,
 "nbformat_minor": 2
}
