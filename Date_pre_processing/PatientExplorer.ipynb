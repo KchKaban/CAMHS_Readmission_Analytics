{
 "cells": [
  {
   "cell_type": "code",
   "execution_count": 150,
   "metadata": {},
   "outputs": [],
   "source": [
    "import pandas as pd\n",
    "import numpy as np"
   ]
  },
  {
   "cell_type": "code",
   "execution_count": 151,
   "metadata": {},
   "outputs": [
    {
     "data": {
      "text/plain": [
       "Index(['episode_id', 'num_diagnoses', 'num_medications', 'pasient', 'age',\n",
       "       'remaining_time_countdown', 'var_no_dates_permonth', 'gender',\n",
       "       'episode_order', 'islast', 'closingcode', 'aftercode',\n",
       "       'episode_start_date', 'episode_end_date', 'tillnextepisode',\n",
       "       'Length_of_Episode', 'Cat_LOE', 'TNE_BO_180', 'TNE_NO_180',\n",
       "       'TNE_BO_365', 'TNE_NO_365', 'TNE_BO_730', 'TNE_NO_730', 'TNE_BO_1095',\n",
       "       'TNE_NO_1095', 'Cat_LOE_desc', 'Count_visit', 'Cat_CV', 'Therapy_ratio',\n",
       "       'Examination_ratio', 'Advisory_ratio', 'TreatmentPlanning_ratio',\n",
       "       'Outpatient_ratio', 'Inpatient_ratio', 'Inpatient_day_ratio',\n",
       "       'Inpatient_daynight_ratio', 'Care_intensity', 'age_group',\n",
       "       'closingcode_0', 'closingcode_1', 'closingcode_2', 'closingcode_3',\n",
       "       'closingcode_4', 'closingcode_5', 'closingcode_6', 'closingcode_9',\n",
       "       'aftercode_1', 'aftercode_2', 'aftercode_3', 'aftercode_4',\n",
       "       'aftercode_5', 'gender_0', 'F', 'M', 'MiddleChildhood', 'Preschooler',\n",
       "       'Teenager', 'diagnoses', 'actual_med_Full_ATC'],\n",
       "      dtype='object')"
      ]
     },
     "execution_count": 151,
     "metadata": {},
     "output_type": "execute_result"
    }
   ],
   "source": [
    "Full_ICD10_ATC = pd.read_csv(\"/home/kabank/workbench/.conda/analysis/kabank-data/new-data/Full_ICD10_ATC.csv\")\n",
    "Full_ICD10_ATC.columns\n"
   ]
  },
  {
   "cell_type": "code",
   "execution_count": 152,
   "metadata": {},
   "outputs": [
    {
     "data": {
      "text/plain": [
       "17125"
      ]
     },
     "execution_count": 152,
     "metadata": {},
     "output_type": "execute_result"
    }
   ],
   "source": [
    "len(Full_ICD10_ATC)"
   ]
  },
  {
   "cell_type": "code",
   "execution_count": 153,
   "metadata": {},
   "outputs": [
    {
     "name": "stdout",
     "output_type": "stream",
     "text": [
      "42803\n",
      "  episode_id           ICD_codes\n",
      "0       10.0  [F900, F431, F942]\n",
      "1    10001.0         [X6n0, T4n]\n",
      "2    10002.0              [F900]\n"
     ]
    }
   ],
   "source": [
    "diagnoses_ICD10_df = pd.read_csv( \"/home/kabank/workbench/.conda/analysis/Resources/Diagnosis.CSV\", decimal=',')\n",
    "# Remove duplicates from diagnoses_ICD10_df\n",
    "print(len(diagnoses_ICD10_df)) #42803 episodes\n",
    "\n",
    "diagnoses_ICD10_list_df = diagnoses_ICD10_df.groupby('episode_id').agg({\n",
    "    'diagnosis': lambda x: list(set(x))\n",
    "})\n",
    "diagnoses_ICD10_list_df = diagnoses_ICD10_list_df.reset_index()\n",
    "diagnoses_ICD10_list_df.rename(columns={'diagnosis': 'ICD_codes'}, inplace=True)\n",
    "#diagnoses_ICD10_list_df.info() # 17949 episodes\n",
    "print(diagnoses_ICD10_list_df.head(3))"
   ]
  },
  {
   "cell_type": "code",
   "execution_count": 154,
   "metadata": {},
   "outputs": [],
   "source": [
    "# Identify non-integer values\n",
    "non_integer_values = diagnoses_ICD10_list_df[~diagnoses_ICD10_list_df['episode_id'].astype(str).str.isdigit()]\n",
    "\n",
    "# Convert non-integer values to NaN and then fill NaN with a specific integer value\n",
    "diagnoses_ICD10_list_df['episode_id'] = pd.to_numeric(diagnoses_ICD10_list_df['episode_id'], errors='coerce')\n",
    "diagnoses_ICD10_list_df['episode_id'] = diagnoses_ICD10_list_df['episode_id'].fillna(-1).astype(int)\n"
   ]
  },
  {
   "cell_type": "code",
   "execution_count": 155,
   "metadata": {},
   "outputs": [
    {
     "data": {
      "text/plain": [
       "Index(['episode_id', 'num_diagnoses', 'num_medications', 'pasient', 'age',\n",
       "       'remaining_time_countdown', 'var_no_dates_permonth', 'gender',\n",
       "       'episode_order', 'islast', 'closingcode', 'aftercode',\n",
       "       'episode_start_date', 'episode_end_date', 'tillnextepisode',\n",
       "       'Length_of_Episode', 'Cat_LOE', 'TNE_BO_180', 'TNE_NO_180',\n",
       "       'TNE_BO_365', 'TNE_NO_365', 'TNE_BO_730', 'TNE_NO_730', 'TNE_BO_1095',\n",
       "       'TNE_NO_1095', 'Cat_LOE_desc', 'Count_visit', 'Cat_CV', 'Therapy_ratio',\n",
       "       'Examination_ratio', 'Advisory_ratio', 'TreatmentPlanning_ratio',\n",
       "       'Outpatient_ratio', 'Inpatient_ratio', 'Inpatient_day_ratio',\n",
       "       'Inpatient_daynight_ratio', 'Care_intensity', 'age_group',\n",
       "       'closingcode_0', 'closingcode_1', 'closingcode_2', 'closingcode_3',\n",
       "       'closingcode_4', 'closingcode_5', 'closingcode_6', 'closingcode_9',\n",
       "       'aftercode_1', 'aftercode_2', 'aftercode_3', 'aftercode_4',\n",
       "       'aftercode_5', 'gender_0', 'F', 'M', 'MiddleChildhood', 'Preschooler',\n",
       "       'Teenager', 'diagnoses', 'actual_med_Full_ATC', 'ICD_codes'],\n",
       "      dtype='object')"
      ]
     },
     "execution_count": 155,
     "metadata": {},
     "output_type": "execute_result"
    }
   ],
   "source": [
    "Full_ICD10_ATC['episode_id'] = Full_ICD10_ATC['episode_id'].astype(float) \n",
    "diagnoses_ICD10_list_df['age'] = diagnoses_ICD10_list_df['episode_id'].astype(int) \n",
    "\n",
    "Full_ICD10_ATC = pd.merge(Full_ICD10_ATC, diagnoses_ICD10_list_df[['episode_id', 'ICD_codes']], on='episode_id', how='outer')\n",
    "\n",
    "Full_ICD10_ATC.columns\n",
    "#len(Full_ICD10_ATC)"
   ]
  },
  {
   "cell_type": "code",
   "execution_count": 156,
   "metadata": {},
   "outputs": [],
   "source": [
    "Full_ICD10_ATC = Full_ICD10_ATC.dropna(subset=['age'])\n",
    "Full_ICD10_ATC['age'] = Full_ICD10_ATC['age'].astype(int) \n",
    "Full_ICD10_ATC['episode_id'] = Full_ICD10_ATC['episode_id'].astype(int) \n",
    "Full_ICD10_ATC.rename(columns={'pasient': 'patient'}, inplace=True)\n",
    "Full_ICD10_ATC['patient'] = Full_ICD10_ATC['patient'].astype(int) \n",
    "Full_ICD10_ATC['var_no_dates_permonth'] = Full_ICD10_ATC['var_no_dates_permonth'].astype(float).round(2)\n"
   ]
  },
  {
   "cell_type": "code",
   "execution_count": 157,
   "metadata": {},
   "outputs": [
    {
     "data": {
      "text/html": [
       "<div>\n",
       "<style scoped>\n",
       "    .dataframe tbody tr th:only-of-type {\n",
       "        vertical-align: middle;\n",
       "    }\n",
       "\n",
       "    .dataframe tbody tr th {\n",
       "        vertical-align: top;\n",
       "    }\n",
       "\n",
       "    .dataframe thead th {\n",
       "        text-align: right;\n",
       "    }\n",
       "</style>\n",
       "<table border=\"1\" class=\"dataframe\">\n",
       "  <thead>\n",
       "    <tr style=\"text-align: right;\">\n",
       "      <th></th>\n",
       "      <th>patient</th>\n",
       "      <th>episode_id</th>\n",
       "      <th>episode_start_date</th>\n",
       "      <th>episode_end_date</th>\n",
       "      <th>gender</th>\n",
       "      <th>age</th>\n",
       "      <th>var_no_dates_permonth</th>\n",
       "      <th>actual_med_Full_ATC</th>\n",
       "      <th>ICD_codes</th>\n",
       "    </tr>\n",
       "  </thead>\n",
       "  <tbody>\n",
       "    <tr>\n",
       "      <th>0</th>\n",
       "      <td>2</td>\n",
       "      <td>3836</td>\n",
       "      <td>2013-07-02</td>\n",
       "      <td>2015-07-03</td>\n",
       "      <td>F</td>\n",
       "      <td>12</td>\n",
       "      <td>1.04</td>\n",
       "      <td>NaN</td>\n",
       "      <td>[F930, F431]</td>\n",
       "    </tr>\n",
       "    <tr>\n",
       "      <th>1</th>\n",
       "      <td>6</td>\n",
       "      <td>24660</td>\n",
       "      <td>2004-10-01</td>\n",
       "      <td>2007-07-06</td>\n",
       "      <td>M</td>\n",
       "      <td>6</td>\n",
       "      <td>1.23</td>\n",
       "      <td>NaN</td>\n",
       "      <td>NaN</td>\n",
       "    </tr>\n",
       "    <tr>\n",
       "      <th>2</th>\n",
       "      <td>7</td>\n",
       "      <td>22380</td>\n",
       "      <td>2015-09-28</td>\n",
       "      <td>2016-10-06</td>\n",
       "      <td>M</td>\n",
       "      <td>8</td>\n",
       "      <td>1.46</td>\n",
       "      <td>NaN</td>\n",
       "      <td>[H932]</td>\n",
       "    </tr>\n",
       "    <tr>\n",
       "      <th>3</th>\n",
       "      <td>8</td>\n",
       "      <td>28188</td>\n",
       "      <td>2002-12-30</td>\n",
       "      <td>2005-01-09</td>\n",
       "      <td>F</td>\n",
       "      <td>16</td>\n",
       "      <td>1.13</td>\n",
       "      <td>NaN</td>\n",
       "      <td>[F321]</td>\n",
       "    </tr>\n",
       "    <tr>\n",
       "      <th>4</th>\n",
       "      <td>10</td>\n",
       "      <td>7441</td>\n",
       "      <td>2008-12-29</td>\n",
       "      <td>2009-03-30</td>\n",
       "      <td>F</td>\n",
       "      <td>17</td>\n",
       "      <td>1.58</td>\n",
       "      <td>NaN</td>\n",
       "      <td>NaN</td>\n",
       "    </tr>\n",
       "    <tr>\n",
       "      <th>...</th>\n",
       "      <td>...</td>\n",
       "      <td>...</td>\n",
       "      <td>...</td>\n",
       "      <td>...</td>\n",
       "      <td>...</td>\n",
       "      <td>...</td>\n",
       "      <td>...</td>\n",
       "      <td>...</td>\n",
       "      <td>...</td>\n",
       "    </tr>\n",
       "    <tr>\n",
       "      <th>17120</th>\n",
       "      <td>19732</td>\n",
       "      <td>27636</td>\n",
       "      <td>2003-12-29</td>\n",
       "      <td>2012-10-05</td>\n",
       "      <td>M</td>\n",
       "      <td>9</td>\n",
       "      <td>0.70</td>\n",
       "      <td>NaN</td>\n",
       "      <td>[F901, F952]</td>\n",
       "    </tr>\n",
       "    <tr>\n",
       "      <th>17121</th>\n",
       "      <td>19744</td>\n",
       "      <td>30915</td>\n",
       "      <td>2002-12-30</td>\n",
       "      <td>2003-10-03</td>\n",
       "      <td>F</td>\n",
       "      <td>12</td>\n",
       "      <td>0.51</td>\n",
       "      <td>NaN</td>\n",
       "      <td>NaN</td>\n",
       "    </tr>\n",
       "    <tr>\n",
       "      <th>17122</th>\n",
       "      <td>19745</td>\n",
       "      <td>14014</td>\n",
       "      <td>2010-01-04</td>\n",
       "      <td>2013-04-04</td>\n",
       "      <td>F</td>\n",
       "      <td>14</td>\n",
       "      <td>0.91</td>\n",
       "      <td>['N06BA09', 'R06AD01']</td>\n",
       "      <td>[F901, F928, H101]</td>\n",
       "    </tr>\n",
       "    <tr>\n",
       "      <th>17123</th>\n",
       "      <td>19805</td>\n",
       "      <td>2894</td>\n",
       "      <td>1994-01-04</td>\n",
       "      <td>1994-07-04</td>\n",
       "      <td>M</td>\n",
       "      <td>13</td>\n",
       "      <td>0.65</td>\n",
       "      <td>NaN</td>\n",
       "      <td>NaN</td>\n",
       "    </tr>\n",
       "    <tr>\n",
       "      <th>17124</th>\n",
       "      <td>19836</td>\n",
       "      <td>14955</td>\n",
       "      <td>2001-10-02</td>\n",
       "      <td>2011-10-04</td>\n",
       "      <td>M</td>\n",
       "      <td>6</td>\n",
       "      <td>0.84</td>\n",
       "      <td>NaN</td>\n",
       "      <td>NaN</td>\n",
       "    </tr>\n",
       "  </tbody>\n",
       "</table>\n",
       "<p>17125 rows × 9 columns</p>\n",
       "</div>"
      ],
      "text/plain": [
       "       patient  episode_id episode_start_date episode_end_date gender  age  \\\n",
       "0            2        3836         2013-07-02       2015-07-03      F   12   \n",
       "1            6       24660         2004-10-01       2007-07-06      M    6   \n",
       "2            7       22380         2015-09-28       2016-10-06      M    8   \n",
       "3            8       28188         2002-12-30       2005-01-09      F   16   \n",
       "4           10        7441         2008-12-29       2009-03-30      F   17   \n",
       "...        ...         ...                ...              ...    ...  ...   \n",
       "17120    19732       27636         2003-12-29       2012-10-05      M    9   \n",
       "17121    19744       30915         2002-12-30       2003-10-03      F   12   \n",
       "17122    19745       14014         2010-01-04       2013-04-04      F   14   \n",
       "17123    19805        2894         1994-01-04       1994-07-04      M   13   \n",
       "17124    19836       14955         2001-10-02       2011-10-04      M    6   \n",
       "\n",
       "       var_no_dates_permonth     actual_med_Full_ATC           ICD_codes  \n",
       "0                       1.04                     NaN        [F930, F431]  \n",
       "1                       1.23                     NaN                 NaN  \n",
       "2                       1.46                     NaN              [H932]  \n",
       "3                       1.13                     NaN              [F321]  \n",
       "4                       1.58                     NaN                 NaN  \n",
       "...                      ...                     ...                 ...  \n",
       "17120                   0.70                     NaN        [F901, F952]  \n",
       "17121                   0.51                     NaN                 NaN  \n",
       "17122                   0.91  ['N06BA09', 'R06AD01']  [F901, F928, H101]  \n",
       "17123                   0.65                     NaN                 NaN  \n",
       "17124                   0.84                     NaN                 NaN  \n",
       "\n",
       "[17125 rows x 9 columns]"
      ]
     },
     "execution_count": 157,
     "metadata": {},
     "output_type": "execute_result"
    }
   ],
   "source": [
    "Full_ICD10_ATC[['patient', 'episode_id','episode_start_date', 'episode_end_date', 'gender', 'age', 'var_no_dates_permonth', 'actual_med_Full_ATC', 'ICD_codes' ]]"
   ]
  },
  {
   "cell_type": "code",
   "execution_count": 158,
   "metadata": {},
   "outputs": [],
   "source": [
    "Full_ICD10_ATC[['patient', 'episode_id','episode_start_date', 'episode_end_date', 'gender', 'age', 'var_no_dates_permonth', 'actual_med_Full_ATC', 'ICD_codes' ]].to_csv('/home/kabank/workbench/.conda/analysis/kabank-data/new-data/PatientExplorer1.csv', index=False)"
   ]
  }
 ],
 "metadata": {
  "kernelspec": {
   "display_name": "My Kernel",
   "language": "python",
   "name": "mykernel"
  },
  "language_info": {
   "codemirror_mode": {
    "name": "ipython",
    "version": 3
   },
   "file_extension": ".py",
   "mimetype": "text/x-python",
   "name": "python",
   "nbconvert_exporter": "python",
   "pygments_lexer": "ipython3",
   "version": "3.8.8"
  },
  "orig_nbformat": 4
 },
 "nbformat": 4,
 "nbformat_minor": 2
}
